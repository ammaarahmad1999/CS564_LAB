{
  "nbformat": 4,
  "nbformat_minor": 0,
  "metadata": {
    "colab": {
      "name": "FFNN_LAB4.ipynb",
      "provenance": []
    },
    "kernelspec": {
      "name": "python3",
      "display_name": "Python 3"
    },
    "language_info": {
      "name": "python"
    }
  },
  "cells": [
    {
      "cell_type": "code",
      "metadata": {
        "id": "lRww3eAFxFT4"
      },
      "source": [
        "import numpy as np\n",
        "import pandas as pd\n",
        "import torch\n",
        "import random\n",
        "import torch.nn as nn\n",
        "import re\n",
        "import tensorflow as tf"
      ],
      "execution_count": 1,
      "outputs": []
    },
    {
      "cell_type": "code",
      "metadata": {
        "id": "1H2LZh9yw-RS"
      },
      "source": [
        "import math\n",
        "import matplotlib.pyplot as plt"
      ],
      "execution_count": 2,
      "outputs": []
    },
    {
      "cell_type": "code",
      "metadata": {
        "id": "C7GCeJiB1lRQ"
      },
      "source": [
        "import warnings\n",
        "warnings.filterwarnings(\"ignore\")"
      ],
      "execution_count": 3,
      "outputs": []
    },
    {
      "cell_type": "code",
      "metadata": {
        "id": "fCG9xElzh8Aa",
        "colab": {
          "base_uri": "https://localhost:8080/"
        },
        "outputId": "e587198e-1bba-44c4-c762-f4609bcc2d4b"
      },
      "source": [
        "import nltk\n",
        "nltk.download('stopwords')\n",
        "from nltk.corpus import stopwords\n",
        "from nltk.tokenize import word_tokenize\n",
        "STOPWORDS = set(stopwords.words('english'))"
      ],
      "execution_count": 4,
      "outputs": [
        {
          "output_type": "stream",
          "name": "stdout",
          "text": [
            "[nltk_data] Downloading package stopwords to /root/nltk_data...\n",
            "[nltk_data]   Unzipping corpora/stopwords.zip.\n"
          ]
        }
      ]
    },
    {
      "cell_type": "code",
      "metadata": {
        "id": "84rEXVuxl3rP"
      },
      "source": [
        "from keras.models import Sequential\n",
        "from keras.layers import Dense, Dropout\n",
        "from keras.layers import LSTM, RNN, Flatten\n",
        "from keras.layers.embeddings import Embedding\n",
        "from keras.preprocessing import sequence\n",
        "from keras.preprocessing.text import Tokenizer\n",
        "from keras.preprocessing.sequence import pad_sequences"
      ],
      "execution_count": 5,
      "outputs": []
    },
    {
      "cell_type": "code",
      "metadata": {
        "id": "zkcjyKFhdQnA"
      },
      "source": [
        "from sklearn.metrics import accuracy_score\n",
        "from sklearn.metrics import classification_report\n",
        "from sklearn.metrics import confusion_matrix"
      ],
      "execution_count": 6,
      "outputs": []
    },
    {
      "cell_type": "code",
      "metadata": {
        "id": "nmOngxvWg8mQ"
      },
      "source": [
        "seed_val = 1\n",
        "random.seed(seed_val)\n",
        "np.random.seed(seed_val)\n",
        "torch.manual_seed(seed_val)\n",
        "torch.cuda.manual_seed_all(seed_val)"
      ],
      "execution_count": 7,
      "outputs": []
    },
    {
      "cell_type": "code",
      "metadata": {
        "id": "jOH0Ua4Fch3Y"
      },
      "source": [
        "df = pd.read_csv(\"https://raw.githubusercontent.com/ammaarahmad1999/Time_Series_Dataset/main/bbc.csv\", index_col=0)"
      ],
      "execution_count": 8,
      "outputs": []
    },
    {
      "cell_type": "code",
      "metadata": {
        "id": "fla0dGHkiIMi"
      },
      "source": [
        "label_dict = {'business': 0, 'entertainment' : 1, 'politics' : 2, 'sport' : 3, 'tech' : 4}"
      ],
      "execution_count": 9,
      "outputs": []
    },
    {
      "cell_type": "code",
      "metadata": {
        "id": "BKV7yiv2ifZY"
      },
      "source": [
        "df['labels'] = df['Class'].replace(label_dict)"
      ],
      "execution_count": 10,
      "outputs": []
    },
    {
      "cell_type": "code",
      "metadata": {
        "id": "aLRPU1sZuqsK"
      },
      "source": [
        "vocabulary = set()"
      ],
      "execution_count": 11,
      "outputs": []
    },
    {
      "cell_type": "code",
      "metadata": {
        "id": "BhJMhxuukhmo"
      },
      "source": [
        "accuracy_models = dict()"
      ],
      "execution_count": 12,
      "outputs": []
    },
    {
      "cell_type": "markdown",
      "metadata": {
        "id": "xOkWxf_2jlRH"
      },
      "source": [
        "#Data Preprocessing"
      ]
    },
    {
      "cell_type": "code",
      "metadata": {
        "id": "c603im52jLkq"
      },
      "source": [
        "def cleaning(text):\n",
        "  line = re.sub('[^A-Za-z0-9]+', ' ', text)\n",
        "  tokens = line.split()\n",
        "  tokens = [w for w in tokens if not w.lower() in STOPWORDS]\n",
        "  text = \" \".join(tokens)\n",
        "  for word in tokens:\n",
        "    vocabulary.add(word)\n",
        "  return text\n",
        "def length(text):\n",
        "  return len(text.split())\n",
        "df['text'] = df['Article'].apply(cleaning)\n",
        "df['length'] = df['text'].apply(length)"
      ],
      "execution_count": 13,
      "outputs": []
    },
    {
      "cell_type": "code",
      "metadata": {
        "id": "DDa2N61UjjRa"
      },
      "source": [
        "df = df.sample(frac = 1, random_state = 1)"
      ],
      "execution_count": 14,
      "outputs": []
    },
    {
      "cell_type": "code",
      "metadata": {
        "id": "SsFFm4UcAzId"
      },
      "source": [
        "df.reset_index(drop = True, inplace = True)"
      ],
      "execution_count": 15,
      "outputs": []
    },
    {
      "cell_type": "code",
      "metadata": {
        "colab": {
          "base_uri": "https://localhost:8080/",
          "height": 424
        },
        "id": "tVdM_x5xBJQA",
        "outputId": "c2455406-b95d-48fa-9eb3-3b451b1c9211"
      },
      "source": [
        "df"
      ],
      "execution_count": 16,
      "outputs": [
        {
          "output_type": "execute_result",
          "data": {
            "text/html": [
              "<div>\n",
              "<style scoped>\n",
              "    .dataframe tbody tr th:only-of-type {\n",
              "        vertical-align: middle;\n",
              "    }\n",
              "\n",
              "    .dataframe tbody tr th {\n",
              "        vertical-align: top;\n",
              "    }\n",
              "\n",
              "    .dataframe thead th {\n",
              "        text-align: right;\n",
              "    }\n",
              "</style>\n",
              "<table border=\"1\" class=\"dataframe\">\n",
              "  <thead>\n",
              "    <tr style=\"text-align: right;\">\n",
              "      <th></th>\n",
              "      <th>Article</th>\n",
              "      <th>Class</th>\n",
              "      <th>labels</th>\n",
              "      <th>text</th>\n",
              "      <th>length</th>\n",
              "    </tr>\n",
              "  </thead>\n",
              "  <tbody>\n",
              "    <tr>\n",
              "      <th>0</th>\n",
              "      <td>Cactus diet deal for Phytopharm\\n\\nA slimming ...</td>\n",
              "      <td>business</td>\n",
              "      <td>0</td>\n",
              "      <td>Cactus diet deal Phytopharm slimming aid made ...</td>\n",
              "      <td>143</td>\n",
              "    </tr>\n",
              "    <tr>\n",
              "      <th>1</th>\n",
              "      <td>Winter freeze keeps oil above $50\\n\\nOil price...</td>\n",
              "      <td>business</td>\n",
              "      <td>0</td>\n",
              "      <td>Winter freeze keeps oil 50 Oil prices carried ...</td>\n",
              "      <td>201</td>\n",
              "    </tr>\n",
              "    <tr>\n",
              "      <th>2</th>\n",
              "      <td>Mobiles rack up 20 years of use\\n\\nMobile phon...</td>\n",
              "      <td>tech</td>\n",
              "      <td>4</td>\n",
              "      <td>Mobiles rack 20 years use Mobile phones UK cel...</td>\n",
              "      <td>255</td>\n",
              "    </tr>\n",
              "    <tr>\n",
              "      <th>3</th>\n",
              "      <td>Giving financial gifts to children\\n\\nYour chi...</td>\n",
              "      <td>business</td>\n",
              "      <td>0</td>\n",
              "      <td>Giving financial gifts children child grandchi...</td>\n",
              "      <td>436</td>\n",
              "    </tr>\n",
              "    <tr>\n",
              "      <th>4</th>\n",
              "      <td>Bank payout to Pinochet victims\\n\\nA US bank h...</td>\n",
              "      <td>business</td>\n",
              "      <td>0</td>\n",
              "      <td>Bank payout Pinochet victims US bank said dona...</td>\n",
              "      <td>184</td>\n",
              "    </tr>\n",
              "    <tr>\n",
              "      <th>...</th>\n",
              "      <td>...</td>\n",
              "      <td>...</td>\n",
              "      <td>...</td>\n",
              "      <td>...</td>\n",
              "      <td>...</td>\n",
              "    </tr>\n",
              "    <tr>\n",
              "      <th>1907</th>\n",
              "      <td>Crucial decision on super-casinos\\n\\nA decisio...</td>\n",
              "      <td>politics</td>\n",
              "      <td>2</td>\n",
              "      <td>Crucial decision super casinos decision whethe...</td>\n",
              "      <td>108</td>\n",
              "    </tr>\n",
              "    <tr>\n",
              "      <th>1908</th>\n",
              "      <td>Cyber crime booms in 2004\\n\\nThe last 12 month...</td>\n",
              "      <td>tech</td>\n",
              "      <td>4</td>\n",
              "      <td>Cyber crime booms 2004 last 12 months seen dra...</td>\n",
              "      <td>471</td>\n",
              "    </tr>\n",
              "    <tr>\n",
              "      <th>1909</th>\n",
              "      <td>Howard rejects BNP's claim\\n\\nTory leader Mich...</td>\n",
              "      <td>politics</td>\n",
              "      <td>2</td>\n",
              "      <td>Howard rejects BNP claim Tory leader Michael H...</td>\n",
              "      <td>184</td>\n",
              "    </tr>\n",
              "    <tr>\n",
              "      <th>1910</th>\n",
              "      <td>Card fraudsters 'targeting web'\\n\\nNew safegua...</td>\n",
              "      <td>business</td>\n",
              "      <td>0</td>\n",
              "      <td>Card fraudsters targeting web New safeguards c...</td>\n",
              "      <td>248</td>\n",
              "    </tr>\n",
              "    <tr>\n",
              "      <th>1911</th>\n",
              "      <td>Blunkett tells of love and pain\\n\\nDavid Blunk...</td>\n",
              "      <td>politics</td>\n",
              "      <td>2</td>\n",
              "      <td>Blunkett tells love pain David Blunkett spoken...</td>\n",
              "      <td>209</td>\n",
              "    </tr>\n",
              "  </tbody>\n",
              "</table>\n",
              "<p>1912 rows × 5 columns</p>\n",
              "</div>"
            ],
            "text/plain": [
              "                                                Article  ... length\n",
              "0     Cactus diet deal for Phytopharm\\n\\nA slimming ...  ...    143\n",
              "1     Winter freeze keeps oil above $50\\n\\nOil price...  ...    201\n",
              "2     Mobiles rack up 20 years of use\\n\\nMobile phon...  ...    255\n",
              "3     Giving financial gifts to children\\n\\nYour chi...  ...    436\n",
              "4     Bank payout to Pinochet victims\\n\\nA US bank h...  ...    184\n",
              "...                                                 ...  ...    ...\n",
              "1907  Crucial decision on super-casinos\\n\\nA decisio...  ...    108\n",
              "1908  Cyber crime booms in 2004\\n\\nThe last 12 month...  ...    471\n",
              "1909  Howard rejects BNP's claim\\n\\nTory leader Mich...  ...    184\n",
              "1910  Card fraudsters 'targeting web'\\n\\nNew safegua...  ...    248\n",
              "1911  Blunkett tells of love and pain\\n\\nDavid Blunk...  ...    209\n",
              "\n",
              "[1912 rows x 5 columns]"
            ]
          },
          "metadata": {},
          "execution_count": 16
        }
      ]
    },
    {
      "cell_type": "code",
      "metadata": {
        "colab": {
          "base_uri": "https://localhost:8080/"
        },
        "id": "2RPfH2XiRCQP",
        "outputId": "0a92f1c1-bcb2-407e-f40b-cc2209935d8f"
      },
      "source": [
        "df['Class'].value_counts()"
      ],
      "execution_count": 17,
      "outputs": [
        {
          "output_type": "execute_result",
          "data": {
            "text/plain": [
              "business         510\n",
              "politics         417\n",
              "tech             401\n",
              "entertainment    386\n",
              "sport            198\n",
              "Name: Class, dtype: int64"
            ]
          },
          "metadata": {},
          "execution_count": 17
        }
      ]
    },
    {
      "cell_type": "code",
      "metadata": {
        "colab": {
          "base_uri": "https://localhost:8080/"
        },
        "id": "pmOhCABpRQ5A",
        "outputId": "3da84b7f-f4fa-4b4f-ce56-f0ce8d9806ef"
      },
      "source": [
        "df['length'].max()"
      ],
      "execution_count": 18,
      "outputs": [
        {
          "output_type": "execute_result",
          "data": {
            "text/plain": [
              "2225"
            ]
          },
          "metadata": {},
          "execution_count": 18
        }
      ]
    },
    {
      "cell_type": "code",
      "metadata": {
        "colab": {
          "base_uri": "https://localhost:8080/"
        },
        "id": "xo-BPtJzSAh_",
        "outputId": "86c59aa3-1b48-4098-f9e3-a6c21b86792e"
      },
      "source": [
        "df['length'].mean()"
      ],
      "execution_count": 19,
      "outputs": [
        {
          "output_type": "execute_result",
          "data": {
            "text/plain": [
              "232.6600418410042"
            ]
          },
          "metadata": {},
          "execution_count": 19
        }
      ]
    },
    {
      "cell_type": "code",
      "metadata": {
        "colab": {
          "base_uri": "https://localhost:8080/"
        },
        "id": "BSxVrSXaSHB-",
        "outputId": "a9ef3245-27af-4b4c-9ada-73b459e32e3e"
      },
      "source": [
        "len(df[df['length'] > 510])"
      ],
      "execution_count": 21,
      "outputs": [
        {
          "output_type": "execute_result",
          "data": {
            "text/plain": [
              "37"
            ]
          },
          "metadata": {},
          "execution_count": 21
        }
      ]
    },
    {
      "cell_type": "code",
      "metadata": {
        "colab": {
          "base_uri": "https://localhost:8080/"
        },
        "id": "p49VT79lS_UU",
        "outputId": "6aeb2442-22ba-494e-fe21-ff9325814b00"
      },
      "source": [
        "len(df[df['length'] > 510])/len(df)"
      ],
      "execution_count": 22,
      "outputs": [
        {
          "output_type": "execute_result",
          "data": {
            "text/plain": [
              "0.019351464435146442"
            ]
          },
          "metadata": {},
          "execution_count": 22
        }
      ]
    },
    {
      "cell_type": "markdown",
      "metadata": {
        "id": "1jHQlt6NSWQp"
      },
      "source": [
        "#Conclusion: On Analysis we found that Maximum Length of Sentence = 2225 \n",
        "# Average Length of Sentence = 232.66 and Number of sentences exceeding \n",
        "# (length = 510) is just 37. It less than 2% of total number of sentences"
      ]
    },
    {
      "cell_type": "code",
      "metadata": {
        "id": "w2toZwW8dfJP"
      },
      "source": [
        "vocab_size = len(vocabulary)\n",
        "embedding_dim = 100     #As mentioned in the Assignment\n",
        "max_length = 512        # Set to 512\n",
        "trunc_type = 'post'     # Truncating sentences length > 512\n",
        "padding_type = 'post'   # Padding Sentences to 512 tokens\n",
        "oov_tok = '<OOV>'       # Unknown token"
      ],
      "execution_count": 23,
      "outputs": []
    },
    {
      "cell_type": "code",
      "metadata": {
        "id": "XRzTnjS6do3h"
      },
      "source": [
        "train_size = math.ceil(0.7 * len(df))\n",
        "valid_size = math.ceil(0.8 * len(df))"
      ],
      "execution_count": 24,
      "outputs": []
    },
    {
      "cell_type": "code",
      "metadata": {
        "id": "OKZHOTrIdsbI"
      },
      "source": [
        "df_test = df[valid_size:]\n",
        "df_test.to_csv(\"Test_Data.csv\", index = None)"
      ],
      "execution_count": 25,
      "outputs": []
    },
    {
      "cell_type": "code",
      "metadata": {
        "id": "ehzyAlpXvgxL"
      },
      "source": [
        "X_train = df['text'][0:train_size]\n",
        "X_valid = df['text'][train_size:valid_size]\n",
        "X_test  = df['text'][valid_size:]\n",
        "Y_train = pd.get_dummies(df['labels'][0:train_size]).values\n",
        "Y_valid = pd.get_dummies(df['labels'][train_size:valid_size]).values\n",
        "Y_test  = pd.get_dummies(df['labels'][valid_size:]).values"
      ],
      "execution_count": 26,
      "outputs": []
    },
    {
      "cell_type": "code",
      "metadata": {
        "id": "lO7FMOR2xBlo"
      },
      "source": [
        "tokenizer = Tokenizer(num_words = vocab_size, oov_token=oov_tok)\n",
        "tokenizer.fit_on_texts(X_train)"
      ],
      "execution_count": 27,
      "outputs": []
    },
    {
      "cell_type": "code",
      "metadata": {
        "id": "5woxO7-l2Mk9"
      },
      "source": [
        "X_train = tokenizer.texts_to_sequences(X_train)\n",
        "X_valid = tokenizer.texts_to_sequences(X_valid)\n",
        "X_test = tokenizer.texts_to_sequences(X_test)"
      ],
      "execution_count": 28,
      "outputs": []
    },
    {
      "cell_type": "code",
      "metadata": {
        "id": "Ghc3sAxX10lR"
      },
      "source": [
        "X_train = pad_sequences(X_train, maxlen=max_length, padding=padding_type, truncating=trunc_type)\n",
        "X_valid = pad_sequences(X_valid, maxlen=max_length, padding=padding_type, truncating=trunc_type)\n",
        "X_test = pad_sequences(X_test, maxlen=max_length, padding=padding_type, truncating=trunc_type)"
      ],
      "execution_count": 29,
      "outputs": []
    },
    {
      "cell_type": "code",
      "metadata": {
        "colab": {
          "base_uri": "https://localhost:8080/"
        },
        "id": "BuBxnxKNUjQG",
        "outputId": "9fd7f1da-f6cb-4f29-ac8c-1cf61371f613"
      },
      "source": [
        "X_train.shape"
      ],
      "execution_count": 30,
      "outputs": [
        {
          "output_type": "execute_result",
          "data": {
            "text/plain": [
              "(1339, 512)"
            ]
          },
          "metadata": {},
          "execution_count": 30
        }
      ]
    },
    {
      "cell_type": "markdown",
      "metadata": {
        "id": "SPVxToNXi8h2"
      },
      "source": [
        "#**Q1**"
      ]
    },
    {
      "cell_type": "code",
      "metadata": {
        "id": "T-1VM_JlWFS9"
      },
      "source": [
        "model_statistics = []\n",
        "num_epochs = 5"
      ],
      "execution_count": 31,
      "outputs": []
    },
    {
      "cell_type": "markdown",
      "metadata": {
        "id": "lQHBqD0YhOhc"
      },
      "source": [
        "#First Model"
      ]
    },
    {
      "cell_type": "code",
      "metadata": {
        "id": "GKl1FhsxY32c"
      },
      "source": [
        "model_ffnn = Sequential()\n",
        "model_ffnn.add(Embedding(vocab_size, embedding_dim, input_length = max_length))\n",
        "model_ffnn.add(Flatten())\n",
        "model_ffnn.add(Dropout(0.2))\n",
        "model_ffnn.add(Dense(512, activation='tanh'))\n",
        "model_ffnn.add(Dropout(0.2))\n",
        "model_ffnn.add(Dense(128, activation='tanh'))\n",
        "model_ffnn.add(Dropout(0.2))\n",
        "model_ffnn.add(Dense(5, activation='softmax'))"
      ],
      "execution_count": 32,
      "outputs": []
    },
    {
      "cell_type": "code",
      "metadata": {
        "colab": {
          "base_uri": "https://localhost:8080/"
        },
        "id": "9tI28umMeOTr",
        "outputId": "5451d0ae-5a7d-4644-8f69-6c8a5ea7dcaa"
      },
      "source": [
        "model_ffnn.compile(loss='categorical_crossentropy', optimizer='adam', metrics=['accuracy'])\n",
        "print(model_ffnn.summary())"
      ],
      "execution_count": 33,
      "outputs": [
        {
          "output_type": "stream",
          "name": "stdout",
          "text": [
            "Model: \"sequential\"\n",
            "_________________________________________________________________\n",
            " Layer (type)                Output Shape              Param #   \n",
            "=================================================================\n",
            " embedding (Embedding)       (None, 512, 100)          3129000   \n",
            "                                                                 \n",
            " flatten (Flatten)           (None, 51200)             0         \n",
            "                                                                 \n",
            " dropout (Dropout)           (None, 51200)             0         \n",
            "                                                                 \n",
            " dense (Dense)               (None, 512)               26214912  \n",
            "                                                                 \n",
            " dropout_1 (Dropout)         (None, 512)               0         \n",
            "                                                                 \n",
            " dense_1 (Dense)             (None, 128)               65664     \n",
            "                                                                 \n",
            " dropout_2 (Dropout)         (None, 128)               0         \n",
            "                                                                 \n",
            " dense_2 (Dense)             (None, 5)                 645       \n",
            "                                                                 \n",
            "=================================================================\n",
            "Total params: 29,410,221\n",
            "Trainable params: 29,410,221\n",
            "Non-trainable params: 0\n",
            "_________________________________________________________________\n",
            "None\n"
          ]
        }
      ]
    },
    {
      "cell_type": "code",
      "metadata": {
        "id": "61NcbP71op8M",
        "colab": {
          "base_uri": "https://localhost:8080/"
        },
        "outputId": "1123bdd2-971a-451c-8d32-2412d2383a5c"
      },
      "source": [
        "history = model_ffnn.fit(X_train, Y_train, epochs=num_epochs, batch_size = 8, validation_data=(X_valid, Y_valid), verbose=1)"
      ],
      "execution_count": 34,
      "outputs": [
        {
          "output_type": "stream",
          "name": "stdout",
          "text": [
            "Epoch 1/5\n",
            "168/168 [==============================] - 38s 222ms/step - loss: 1.2476 - accuracy: 0.4922 - val_loss: 0.3212 - val_accuracy: 0.8901\n",
            "Epoch 2/5\n",
            "168/168 [==============================] - 37s 219ms/step - loss: 0.0398 - accuracy: 0.9866 - val_loss: 0.2519 - val_accuracy: 0.9267\n",
            "Epoch 3/5\n",
            "168/168 [==============================] - 37s 218ms/step - loss: 7.3579e-04 - accuracy: 1.0000 - val_loss: 0.2174 - val_accuracy: 0.9372\n",
            "Epoch 4/5\n",
            "168/168 [==============================] - 37s 219ms/step - loss: 4.5802e-04 - accuracy: 1.0000 - val_loss: 0.2168 - val_accuracy: 0.9372\n",
            "Epoch 5/5\n",
            "168/168 [==============================] - 37s 218ms/step - loss: 3.2869e-04 - accuracy: 1.0000 - val_loss: 0.2167 - val_accuracy: 0.9372\n"
          ]
        }
      ]
    },
    {
      "cell_type": "code",
      "metadata": {
        "id": "X22tWaHrop8O",
        "colab": {
          "base_uri": "https://localhost:8080/",
          "height": 541
        },
        "outputId": "abf61b24-102e-4881-acf8-2b9a440dfa74"
      },
      "source": [
        "def plot_graphs(history, string):\n",
        "  plt.plot(history.history[string])\n",
        "  plt.plot(history.history['val_'+string])\n",
        "  plt.xlabel(\"Epochs\")\n",
        "  plt.ylabel(string)\n",
        "  plt.legend([string, 'val_'+string])\n",
        "  plt.show()\n",
        "plot_graphs(history, \"accuracy\")\n",
        "plot_graphs(history, \"loss\")"
      ],
      "execution_count": 36,
      "outputs": [
        {
          "output_type": "display_data",
          "data": {
            "image/png": "[encoded data removed]",
            "text/plain": [
              "<Figure size 432x288 with 1 Axes>"
            ]
          },
          "metadata": {
            "needs_background": "light"
          }
        },
        {
          "output_type": "display_data",
          "data": {
            "image/png": "[encoded data removed]",
            "text/plain": [
              "<Figure size 432x288 with 1 Axes>"
            ]
          },
          "metadata": {
            "needs_background": "light"
          }
        }
      ]
    },
    {
      "cell_type": "code",
      "metadata": {
        "colab": {
          "base_uri": "https://localhost:8080/"
        },
        "id": "M3YwpRimop8N",
        "outputId": "4e2f9bab-f860-4d22-e68c-0abc7bee6c66"
      },
      "source": [
        "test_loss, test_accuracy = model_ffnn.evaluate(X_test,Y_test)\n",
        "print('Test set\\n  Loss: {:0.3f}\\n  Accuracy: {:0.3f}'.format(test_loss, test_accuracy))"
      ],
      "execution_count": 37,
      "outputs": [
        {
          "output_type": "stream",
          "name": "stdout",
          "text": [
            "12/12 [==============================] - 1s 46ms/step - loss: 0.1064 - accuracy: 0.9712\n",
            "Test set\n",
            "  Loss: 0.106\n",
            "  Accuracy: 0.971\n"
          ]
        }
      ]
    },
    {
      "cell_type": "code",
      "metadata": {
        "colab": {
          "base_uri": "https://localhost:8080/"
        },
        "id": "2opQGRice1KO",
        "outputId": "cd8af491-fb51-4a9e-8d0b-23e591bddee8"
      },
      "source": [
        "history.history['accuracy']"
      ],
      "execution_count": 39,
      "outputs": [
        {
          "output_type": "execute_result",
          "data": {
            "text/plain": [
              "[0.49215832352638245, 0.986557126045227, 1.0, 1.0, 1.0]"
            ]
          },
          "metadata": {},
          "execution_count": 39
        }
      ]
    },
    {
      "cell_type": "code",
      "metadata": {
        "id": "X2dUsFTNevLy"
      },
      "source": [
        "train_loss = history.history['loss'][4]\n",
        "valid_loss = history.history['val_loss'][4]\n",
        "valid_accuracy = history.history['val_accuracy'][4]\n",
        "model_parameters = model_ffnn.count_params()"
      ],
      "execution_count": 42,
      "outputs": []
    },
    {
      "cell_type": "code",
      "metadata": {
        "id": "ZFadb7n4XR7P"
      },
      "source": [
        "model_statistics.append(\n",
        "        {\n",
        "            'Model Parameters': model_parameters,\n",
        "            'Training Loss': train_loss,\n",
        "            'Validation Loss': valid_loss,\n",
        "            'Validation Accuracy': valid_accuracy,\n",
        "            'Test Accuracy': test_accuracy,\n",
        "        }\n",
        "    )"
      ],
      "execution_count": 43,
      "outputs": []
    },
    {
      "cell_type": "code",
      "metadata": {
        "id": "qoHQX_lsop8P"
      },
      "source": [
        "prediction_ffnn = model_ffnn.predict(X_test)\n",
        "prediction_ffnn = np.argmax(prediction_ffnn, axis = 1)"
      ],
      "execution_count": 45,
      "outputs": []
    },
    {
      "cell_type": "code",
      "metadata": {
        "colab": {
          "base_uri": "https://localhost:8080/"
        },
        "id": "sQGD2Gj9op8P",
        "outputId": "7336014f-7d52-4151-dd6b-2fc2892eaf99"
      },
      "source": [
        "accuracy = accuracy_score(df_test['labels'], prediction_ffnn)\n",
        "accuracy_models[model_parameters] = accuracy\n",
        "print(f'Accuracy of Model = {accuracy}')\n",
        "print(classification_report(df_test['labels'], prediction_ffnn))"
      ],
      "execution_count": 46,
      "outputs": [
        {
          "output_type": "stream",
          "name": "stdout",
          "text": [
            "Accuracy of Model = 0.9712041884816754\n",
            "              precision    recall  f1-score   support\n",
            "\n",
            "           0       0.98      0.95      0.96        93\n",
            "           1       0.95      0.99      0.97        76\n",
            "           2       0.95      0.98      0.96        82\n",
            "           3       1.00      0.95      0.98        42\n",
            "           4       0.99      0.99      0.99        89\n",
            "\n",
            "    accuracy                           0.97       382\n",
            "   macro avg       0.97      0.97      0.97       382\n",
            "weighted avg       0.97      0.97      0.97       382\n",
            "\n"
          ]
        }
      ]
    },
    {
      "cell_type": "code",
      "metadata": {
        "id": "IXtIpGB6gjf7"
      },
      "source": [
        "df_stats = pd.DataFrame(data = model_statistics)\n",
        "df_stats.to_csv(\"Statistics.csv\", index = None)"
      ],
      "execution_count": 47,
      "outputs": []
    },
    {
      "cell_type": "markdown",
      "metadata": {
        "id": "Yf68gZY3hRpV"
      },
      "source": [
        "#Second Model"
      ]
    },
    {
      "cell_type": "code",
      "metadata": {
        "id": "-62TO1yMhc4q"
      },
      "source": [
        "model_ffnn = Sequential()\n",
        "model_ffnn.add(Embedding(vocab_size, embedding_dim, input_length = max_length))\n",
        "model_ffnn.add(Flatten())\n",
        "model_ffnn.add(Dropout(0.2))\n",
        "model_ffnn.add(Dense(1024, activation='tanh'))\n",
        "model_ffnn.add(Dropout(0.2))\n",
        "model_ffnn.add(Dense(256, activation='tanh'))\n",
        "model_ffnn.add(Dropout(0.2))\n",
        "model_ffnn.add(Dense(5, activation='softmax'))"
      ],
      "execution_count": 48,
      "outputs": []
    },
    {
      "cell_type": "code",
      "metadata": {
        "colab": {
          "base_uri": "https://localhost:8080/"
        },
        "id": "oMBswecNhc4s",
        "outputId": "f3660b45-7e9c-4fba-e68e-fa21f7cfbc76"
      },
      "source": [
        "model_ffnn.compile(loss='categorical_crossentropy', optimizer='adam', metrics=['accuracy'])\n",
        "print(model_ffnn.summary())"
      ],
      "execution_count": 49,
      "outputs": [
        {
          "output_type": "stream",
          "name": "stdout",
          "text": [
            "Model: \"sequential_1\"\n",
            "_________________________________________________________________\n",
            " Layer (type)                Output Shape              Param #   \n",
            "=================================================================\n",
            " embedding_1 (Embedding)     (None, 512, 100)          3129000   \n",
            "                                                                 \n",
            " flatten_1 (Flatten)         (None, 51200)             0         \n",
            "                                                                 \n",
            " dropout_3 (Dropout)         (None, 51200)             0         \n",
            "                                                                 \n",
            " dense_3 (Dense)             (None, 1024)              52429824  \n",
            "                                                                 \n",
            " dropout_4 (Dropout)         (None, 1024)              0         \n",
            "                                                                 \n",
            " dense_4 (Dense)             (None, 256)               262400    \n",
            "                                                                 \n",
            " dropout_5 (Dropout)         (None, 256)               0         \n",
            "                                                                 \n",
            " dense_5 (Dense)             (None, 5)                 1285      \n",
            "                                                                 \n",
            "=================================================================\n",
            "Total params: 55,822,509\n",
            "Trainable params: 55,822,509\n",
            "Non-trainable params: 0\n",
            "_________________________________________________________________\n",
            "None\n"
          ]
        }
      ]
    },
    {
      "cell_type": "code",
      "metadata": {
        "colab": {
          "base_uri": "https://localhost:8080/"
        },
        "id": "DZGDwhNjhc4t",
        "outputId": "8526f381-6aa5-4532-847e-55b0deb5933b"
      },
      "source": [
        "history = model_ffnn.fit(X_train, Y_train, epochs=num_epochs, batch_size = 8, validation_data=(X_valid, Y_valid), verbose=1)"
      ],
      "execution_count": 50,
      "outputs": [
        {
          "output_type": "stream",
          "name": "stdout",
          "text": [
            "Epoch 1/5\n",
            "168/168 [==============================] - 73s 431ms/step - loss: 1.4419 - accuracy: 0.4369 - val_loss: 0.4499 - val_accuracy: 0.8482\n",
            "Epoch 2/5\n",
            "168/168 [==============================] - 72s 431ms/step - loss: 0.0535 - accuracy: 0.9828 - val_loss: 0.2693 - val_accuracy: 0.9215\n",
            "Epoch 3/5\n",
            "168/168 [==============================] - 72s 430ms/step - loss: 5.8604e-04 - accuracy: 1.0000 - val_loss: 0.2514 - val_accuracy: 0.9215\n",
            "Epoch 4/5\n",
            "168/168 [==============================] - 72s 430ms/step - loss: 1.8159e-04 - accuracy: 1.0000 - val_loss: 0.2559 - val_accuracy: 0.9162\n",
            "Epoch 5/5\n",
            "168/168 [==============================] - 72s 431ms/step - loss: 1.0314e-04 - accuracy: 1.0000 - val_loss: 0.2568 - val_accuracy: 0.9162\n"
          ]
        }
      ]
    },
    {
      "cell_type": "code",
      "metadata": {
        "colab": {
          "base_uri": "https://localhost:8080/",
          "height": 541
        },
        "id": "ulJ5anYahc4t",
        "outputId": "cf35a6a5-826d-4951-aa09-1a189ddc932d"
      },
      "source": [
        "def plot_graphs(history, string):\n",
        "  plt.plot(history.history[string])\n",
        "  plt.plot(history.history['val_'+string])\n",
        "  plt.xlabel(\"Epochs\")\n",
        "  plt.ylabel(string)\n",
        "  plt.legend([string, 'val_'+string])\n",
        "  plt.show()\n",
        "plot_graphs(history, \"accuracy\")\n",
        "plot_graphs(history, \"loss\")"
      ],
      "execution_count": 51,
      "outputs": [
        {
          "output_type": "display_data",
          "data": {
            "image/png": "[encoded data removed]",
            "text/plain": [
              "<Figure size 432x288 with 1 Axes>"
            ]
          },
          "metadata": {
            "needs_background": "light"
          }
        },
        {
          "output_type": "display_data",
          "data": {
            "image/png": "[encoded data removed]",
            "text/plain": [
              "<Figure size 432x288 with 1 Axes>"
            ]
          },
          "metadata": {
            "needs_background": "light"
          }
        }
      ]
    },
    {
      "cell_type": "code",
      "metadata": {
        "colab": {
          "base_uri": "https://localhost:8080/"
        },
        "id": "1W-fceihhc4u",
        "outputId": "b97e6de4-cb28-4450-a039-94f0a9152e7f"
      },
      "source": [
        "test_loss, test_accuracy = model_ffnn.evaluate(X_test,Y_test)\n",
        "print('Test set\\n  Loss: {:0.3f}\\n  Accuracy: {:0.3f}'.format(test_loss, test_accuracy))"
      ],
      "execution_count": 52,
      "outputs": [
        {
          "output_type": "stream",
          "name": "stdout",
          "text": [
            "12/12 [==============================] - 1s 89ms/step - loss: 0.2031 - accuracy: 0.9215\n",
            "Test set\n",
            "  Loss: 0.203\n",
            "  Accuracy: 0.921\n"
          ]
        }
      ]
    },
    {
      "cell_type": "code",
      "metadata": {
        "colab": {
          "base_uri": "https://localhost:8080/"
        },
        "id": "RM_Gxhxkhc4u",
        "outputId": "c5f1c55b-23cd-444d-e422-d7ad12aff1f5"
      },
      "source": [
        "history.history['accuracy']"
      ],
      "execution_count": 53,
      "outputs": [
        {
          "output_type": "execute_result",
          "data": {
            "text/plain": [
              "[0.43689319491386414, 0.9828230142593384, 1.0, 1.0, 1.0]"
            ]
          },
          "metadata": {},
          "execution_count": 53
        }
      ]
    },
    {
      "cell_type": "code",
      "metadata": {
        "id": "PBX0d2HBhc4v"
      },
      "source": [
        "train_loss = history.history['loss'][4]\n",
        "valid_loss = history.history['val_loss'][4]\n",
        "valid_accuracy = history.history['val_accuracy'][4]\n",
        "model_parameters = model_ffnn.count_params()"
      ],
      "execution_count": 54,
      "outputs": []
    },
    {
      "cell_type": "code",
      "metadata": {
        "id": "AHgFhESVhc4v"
      },
      "source": [
        "model_statistics.append(\n",
        "        {\n",
        "            'Model Parameters': model_parameters,\n",
        "            'Training Loss': train_loss,\n",
        "            'Validation Loss': valid_loss,\n",
        "            'Validation Accuracy': valid_accuracy,\n",
        "            'Test Accuracy': test_accuracy,\n",
        "        }\n",
        "    )"
      ],
      "execution_count": 55,
      "outputs": []
    },
    {
      "cell_type": "code",
      "metadata": {
        "id": "yLhbL_eVhc4w"
      },
      "source": [
        "prediction_ffnn = model_ffnn.predict(X_test)\n",
        "prediction_ffnn = np.argmax(prediction_ffnn, axis = 1)"
      ],
      "execution_count": 56,
      "outputs": []
    },
    {
      "cell_type": "code",
      "metadata": {
        "colab": {
          "base_uri": "https://localhost:8080/"
        },
        "id": "zK_wtoSAhc4w",
        "outputId": "dd1709c4-f6db-46ca-d6bf-71c93c353e51"
      },
      "source": [
        "accuracy = accuracy_score(df_test['labels'], prediction_ffnn)\n",
        "accuracy_models[model_parameters] = accuracy\n",
        "print(f'Accuracy of Model = {accuracy}')\n",
        "print(classification_report(df_test['labels'], prediction_ffnn))"
      ],
      "execution_count": 57,
      "outputs": [
        {
          "output_type": "stream",
          "name": "stdout",
          "text": [
            "Accuracy of Model = 0.9214659685863874\n",
            "              precision    recall  f1-score   support\n",
            "\n",
            "           0       0.91      0.92      0.92        93\n",
            "           1       0.89      0.92      0.90        76\n",
            "           2       0.90      0.91      0.91        82\n",
            "           3       0.95      0.93      0.94        42\n",
            "           4       0.96      0.92      0.94        89\n",
            "\n",
            "    accuracy                           0.92       382\n",
            "   macro avg       0.92      0.92      0.92       382\n",
            "weighted avg       0.92      0.92      0.92       382\n",
            "\n"
          ]
        }
      ]
    },
    {
      "cell_type": "code",
      "metadata": {
        "id": "R8x71t9ehc4x"
      },
      "source": [
        "df_stats = pd.DataFrame(data = model_statistics)\n",
        "df_stats.to_csv(\"Statistics.csv\", index = None)"
      ],
      "execution_count": 58,
      "outputs": []
    },
    {
      "cell_type": "markdown",
      "metadata": {
        "id": "ixNQoVCuhqaw"
      },
      "source": [
        "#Third Model"
      ]
    },
    {
      "cell_type": "code",
      "metadata": {
        "id": "g-W18BLEhsZq"
      },
      "source": [
        "model_ffnn = Sequential()\n",
        "model_ffnn.add(Embedding(vocab_size, embedding_dim, input_length = max_length))\n",
        "model_ffnn.add(Flatten())\n",
        "model_ffnn.add(Dropout(0.2))\n",
        "model_ffnn.add(Dense(1024, activation='tanh'))\n",
        "model_ffnn.add(Dropout(0.2))\n",
        "model_ffnn.add(Dense(256, activation='tanh'))\n",
        "model_ffnn.add(Dropout(0.2))\n",
        "model_ffnn.add(Dense(64, activation='tanh'))\n",
        "model_ffnn.add(Dropout(0.2))\n",
        "model_ffnn.add(Dense(5, activation='softmax'))"
      ],
      "execution_count": 59,
      "outputs": []
    },
    {
      "cell_type": "code",
      "metadata": {
        "colab": {
          "base_uri": "https://localhost:8080/"
        },
        "id": "3NZeNzinhsZq",
        "outputId": "b518b425-260a-4b02-abd8-480b7e86c4d0"
      },
      "source": [
        "model_ffnn.compile(loss='categorical_crossentropy', optimizer='adam', metrics=['accuracy'])\n",
        "print(model_ffnn.summary())"
      ],
      "execution_count": 60,
      "outputs": [
        {
          "output_type": "stream",
          "name": "stdout",
          "text": [
            "Model: \"sequential_2\"\n",
            "_________________________________________________________________\n",
            " Layer (type)                Output Shape              Param #   \n",
            "=================================================================\n",
            " embedding_2 (Embedding)     (None, 512, 100)          3129000   \n",
            "                                                                 \n",
            " flatten_2 (Flatten)         (None, 51200)             0         \n",
            "                                                                 \n",
            " dropout_6 (Dropout)         (None, 51200)             0         \n",
            "                                                                 \n",
            " dense_6 (Dense)             (None, 1024)              52429824  \n",
            "                                                                 \n",
            " dropout_7 (Dropout)         (None, 1024)              0         \n",
            "                                                                 \n",
            " dense_7 (Dense)             (None, 256)               262400    \n",
            "                                                                 \n",
            " dropout_8 (Dropout)         (None, 256)               0         \n",
            "                                                                 \n",
            " dense_8 (Dense)             (None, 64)                16448     \n",
            "                                                                 \n",
            " dropout_9 (Dropout)         (None, 64)                0         \n",
            "                                                                 \n",
            " dense_9 (Dense)             (None, 5)                 325       \n",
            "                                                                 \n",
            "=================================================================\n",
            "Total params: 55,837,997\n",
            "Trainable params: 55,837,997\n",
            "Non-trainable params: 0\n",
            "_________________________________________________________________\n",
            "None\n"
          ]
        }
      ]
    },
    {
      "cell_type": "code",
      "metadata": {
        "colab": {
          "base_uri": "https://localhost:8080/"
        },
        "id": "dnkjQYz8hsZr",
        "outputId": "ff65b51a-58ac-4b9f-fafd-69bd040ec09d"
      },
      "source": [
        "history = model_ffnn.fit(X_train, Y_train, epochs=num_epochs, batch_size = 8, validation_data=(X_valid, Y_valid), verbose=1)"
      ],
      "execution_count": 61,
      "outputs": [
        {
          "output_type": "stream",
          "name": "stdout",
          "text": [
            "Epoch 1/5\n",
            "168/168 [==============================] - 74s 437ms/step - loss: 1.6051 - accuracy: 0.3361 - val_loss: 0.7935 - val_accuracy: 0.6963\n",
            "Epoch 2/5\n",
            "168/168 [==============================] - 73s 434ms/step - loss: 0.2602 - accuracy: 0.9029 - val_loss: 0.2933 - val_accuracy: 0.9058\n",
            "Epoch 3/5\n",
            "168/168 [==============================] - 72s 431ms/step - loss: 0.0149 - accuracy: 0.9978 - val_loss: 0.2589 - val_accuracy: 0.9162\n",
            "Epoch 4/5\n",
            "168/168 [==============================] - 72s 431ms/step - loss: 0.0039 - accuracy: 1.0000 - val_loss: 0.2301 - val_accuracy: 0.9319\n",
            "Epoch 5/5\n",
            "168/168 [==============================] - 72s 431ms/step - loss: 0.0024 - accuracy: 1.0000 - val_loss: 0.2312 - val_accuracy: 0.9319\n"
          ]
        }
      ]
    },
    {
      "cell_type": "code",
      "metadata": {
        "colab": {
          "base_uri": "https://localhost:8080/",
          "height": 541
        },
        "id": "X4j25uMVhsZs",
        "outputId": "5ed34362-a966-48e8-b474-7f9ace94a9c5"
      },
      "source": [
        "def plot_graphs(history, string):\n",
        "  plt.plot(history.history[string])\n",
        "  plt.plot(history.history['val_'+string])\n",
        "  plt.xlabel(\"Epochs\")\n",
        "  plt.ylabel(string)\n",
        "  plt.legend([string, 'val_'+string])\n",
        "  plt.show()\n",
        "plot_graphs(history, \"accuracy\")\n",
        "plot_graphs(history, \"loss\")"
      ],
      "execution_count": 62,
      "outputs": [
        {
          "output_type": "display_data",
          "data": {
            "image/png": "[encoded data removed]",
            "text/plain": [
              "<Figure size 432x288 with 1 Axes>"
            ]
          },
          "metadata": {
            "needs_background": "light"
          }
        },
        {
          "output_type": "display_data",
          "data": {
            "image/png": "[encoded data removed]",
            "text/plain": [
              "<Figure size 432x288 with 1 Axes>"
            ]
          },
          "metadata": {
            "needs_background": "light"
          }
        }
      ]
    },
    {
      "cell_type": "code",
      "metadata": {
        "colab": {
          "base_uri": "https://localhost:8080/"
        },
        "id": "ov7FcRflhsZs",
        "outputId": "eaec3387-4aa4-4440-88fd-5d5d165d7e73"
      },
      "source": [
        "test_loss, test_accuracy = model_ffnn.evaluate(X_test,Y_test)\n",
        "print('Test set\\n  Loss: {:0.3f}\\n  Accuracy: {:0.3f}'.format(test_loss, test_accuracy))"
      ],
      "execution_count": 63,
      "outputs": [
        {
          "output_type": "stream",
          "name": "stdout",
          "text": [
            "12/12 [==============================] - 1s 89ms/step - loss: 0.2369 - accuracy: 0.9319\n",
            "Test set\n",
            "  Loss: 0.237\n",
            "  Accuracy: 0.932\n"
          ]
        }
      ]
    },
    {
      "cell_type": "code",
      "metadata": {
        "colab": {
          "base_uri": "https://localhost:8080/"
        },
        "id": "NmV_qB77hsZt",
        "outputId": "fc04b43c-9fe3-4c88-baef-75f68255251d"
      },
      "source": [
        "history.history['accuracy']"
      ],
      "execution_count": 64,
      "outputs": [
        {
          "output_type": "execute_result",
          "data": {
            "text/plain": [
              "[0.3360716998577118, 0.9029126167297363, 0.9977595210075378, 1.0, 1.0]"
            ]
          },
          "metadata": {},
          "execution_count": 64
        }
      ]
    },
    {
      "cell_type": "code",
      "metadata": {
        "id": "Up42gA6qhsZt"
      },
      "source": [
        "train_loss = history.history['loss'][4]\n",
        "valid_loss = history.history['val_loss'][4]\n",
        "valid_accuracy = history.history['val_accuracy'][4]\n",
        "model_parameters = model_ffnn.count_params()"
      ],
      "execution_count": 65,
      "outputs": []
    },
    {
      "cell_type": "code",
      "metadata": {
        "id": "jY7_7svrhsZu"
      },
      "source": [
        "model_statistics.append(\n",
        "        {\n",
        "            'Model Parameters': model_parameters,\n",
        "            'Training Loss': train_loss,\n",
        "            'Validation Loss': valid_loss,\n",
        "            'Validation Accuracy': valid_accuracy,\n",
        "            'Test Accuracy': test_accuracy,\n",
        "        }\n",
        "    )"
      ],
      "execution_count": 66,
      "outputs": []
    },
    {
      "cell_type": "code",
      "metadata": {
        "id": "bIB70AmqhsZu"
      },
      "source": [
        "prediction_ffnn = model_ffnn.predict(X_test)\n",
        "prediction_ffnn = np.argmax(prediction_ffnn, axis = 1)"
      ],
      "execution_count": 67,
      "outputs": []
    },
    {
      "cell_type": "code",
      "metadata": {
        "colab": {
          "base_uri": "https://localhost:8080/"
        },
        "id": "_AXxgID9hsZu",
        "outputId": "8e8e1297-00ce-449e-bb1c-0965eb59f75b"
      },
      "source": [
        "accuracy = accuracy_score(df_test['labels'], prediction_ffnn)\n",
        "accuracy_models[model_parameters] = accuracy\n",
        "print(f'Accuracy of Model = {accuracy}')\n",
        "print(classification_report(df_test['labels'], prediction_ffnn))"
      ],
      "execution_count": 68,
      "outputs": [
        {
          "output_type": "stream",
          "name": "stdout",
          "text": [
            "Accuracy of Model = 0.9319371727748691\n",
            "              precision    recall  f1-score   support\n",
            "\n",
            "           0       0.90      0.98      0.94        93\n",
            "           1       0.96      0.92      0.94        76\n",
            "           2       0.95      0.90      0.92        82\n",
            "           3       0.84      1.00      0.91        42\n",
            "           4       0.99      0.89      0.93        89\n",
            "\n",
            "    accuracy                           0.93       382\n",
            "   macro avg       0.93      0.94      0.93       382\n",
            "weighted avg       0.94      0.93      0.93       382\n",
            "\n"
          ]
        }
      ]
    },
    {
      "cell_type": "code",
      "metadata": {
        "id": "vZ8rO1--hsZv"
      },
      "source": [
        "df_stats = pd.DataFrame(data = model_statistics)\n",
        "df_stats.to_csv(\"Statistics.csv\", index = None)"
      ],
      "execution_count": 69,
      "outputs": []
    },
    {
      "cell_type": "markdown",
      "metadata": {
        "id": "W6sJibZolRLJ"
      },
      "source": [
        "#Fourth Model"
      ]
    },
    {
      "cell_type": "code",
      "metadata": {
        "id": "XSV_G1VSsAAh"
      },
      "source": [
        "model_ffnn = Sequential()\n",
        "model_ffnn.add(Embedding(vocab_size, embedding_dim, input_length = max_length))\n",
        "model_ffnn.add(Flatten())\n",
        "model_ffnn.add(Dropout(0.2))\n",
        "model_ffnn.add(Dense(512, activation='tanh'))\n",
        "model_ffnn.add(Dropout(0.2))\n",
        "model_ffnn.add(Dense(5, activation='softmax'))"
      ],
      "execution_count": 70,
      "outputs": []
    },
    {
      "cell_type": "code",
      "metadata": {
        "colab": {
          "base_uri": "https://localhost:8080/"
        },
        "id": "Ohw6Xk7osAA4",
        "outputId": "aa51b471-3b51-4479-8675-171e9debd56a"
      },
      "source": [
        "model_ffnn.compile(loss='categorical_crossentropy', optimizer='adam', metrics=['accuracy'])\n",
        "print(model_ffnn.summary())"
      ],
      "execution_count": 71,
      "outputs": [
        {
          "output_type": "stream",
          "name": "stdout",
          "text": [
            "Model: \"sequential_3\"\n",
            "_________________________________________________________________\n",
            " Layer (type)                Output Shape              Param #   \n",
            "=================================================================\n",
            " embedding_3 (Embedding)     (None, 512, 100)          3129000   \n",
            "                                                                 \n",
            " flatten_3 (Flatten)         (None, 51200)             0         \n",
            "                                                                 \n",
            " dropout_10 (Dropout)        (None, 51200)             0         \n",
            "                                                                 \n",
            " dense_10 (Dense)            (None, 512)               26214912  \n",
            "                                                                 \n",
            " dropout_11 (Dropout)        (None, 512)               0         \n",
            "                                                                 \n",
            " dense_11 (Dense)            (None, 5)                 2565      \n",
            "                                                                 \n",
            "=================================================================\n",
            "Total params: 29,346,477\n",
            "Trainable params: 29,346,477\n",
            "Non-trainable params: 0\n",
            "_________________________________________________________________\n",
            "None\n"
          ]
        }
      ]
    },
    {
      "cell_type": "code",
      "metadata": {
        "colab": {
          "base_uri": "https://localhost:8080/"
        },
        "id": "sc-d4NUFsAA5",
        "outputId": "e22d346a-58c9-4b93-d3f3-2b7770b97cf9"
      },
      "source": [
        "history = model_ffnn.fit(X_train, Y_train, epochs=num_epochs, batch_size = 8, validation_data=(X_valid, Y_valid), verbose=1)"
      ],
      "execution_count": 72,
      "outputs": [
        {
          "output_type": "stream",
          "name": "stdout",
          "text": [
            "Epoch 1/5\n",
            "168/168 [==============================] - 39s 226ms/step - loss: 0.9958 - accuracy: 0.6789 - val_loss: 0.1747 - val_accuracy: 0.9476\n",
            "Epoch 2/5\n",
            "168/168 [==============================] - 37s 222ms/step - loss: 0.0020 - accuracy: 0.9993 - val_loss: 0.1563 - val_accuracy: 0.9634\n",
            "Epoch 3/5\n",
            "168/168 [==============================] - 37s 223ms/step - loss: 2.7876e-04 - accuracy: 1.0000 - val_loss: 0.1541 - val_accuracy: 0.9581\n",
            "Epoch 4/5\n",
            "168/168 [==============================] - 37s 223ms/step - loss: 2.3483e-04 - accuracy: 1.0000 - val_loss: 0.1522 - val_accuracy: 0.9634\n",
            "Epoch 5/5\n",
            "168/168 [==============================] - 38s 223ms/step - loss: 1.6570e-04 - accuracy: 1.0000 - val_loss: 0.1511 - val_accuracy: 0.9634\n"
          ]
        }
      ]
    },
    {
      "cell_type": "code",
      "metadata": {
        "colab": {
          "base_uri": "https://localhost:8080/",
          "height": 541
        },
        "id": "OGLTPmxdsAA5",
        "outputId": "edd9d4b2-66d3-48a0-bca6-22f5714a1f14"
      },
      "source": [
        "def plot_graphs(history, string):\n",
        "  plt.plot(history.history[string])\n",
        "  plt.plot(history.history['val_'+string])\n",
        "  plt.xlabel(\"Epochs\")\n",
        "  plt.ylabel(string)\n",
        "  plt.legend([string, 'val_'+string])\n",
        "  plt.show()\n",
        "plot_graphs(history, \"accuracy\")\n",
        "plot_graphs(history, \"loss\")"
      ],
      "execution_count": 73,
      "outputs": [
        {
          "output_type": "display_data",
          "data": {
            "image/png": "[encoded data removed]",
            "text/plain": [
              "<Figure size 432x288 with 1 Axes>"
            ]
          },
          "metadata": {
            "needs_background": "light"
          }
        },
        {
          "output_type": "display_data",
          "data": {
            "image/png": "[encoded data removed]",
            "text/plain": [
              "<Figure size 432x288 with 1 Axes>"
            ]
          },
          "metadata": {
            "needs_background": "light"
          }
        }
      ]
    },
    {
      "cell_type": "code",
      "metadata": {
        "colab": {
          "base_uri": "https://localhost:8080/"
        },
        "id": "OP5a6pBWsAA6",
        "outputId": "aebe20d3-87da-4984-c3d4-3b36412fd4cd"
      },
      "source": [
        "test_loss, test_accuracy = model_ffnn.evaluate(X_test,Y_test)\n",
        "print('Test set\\n  Loss: {:0.3f}\\n  Accuracy: {:0.3f}'.format(test_loss, test_accuracy))"
      ],
      "execution_count": 74,
      "outputs": [
        {
          "output_type": "stream",
          "name": "stdout",
          "text": [
            "12/12 [==============================] - 1s 45ms/step - loss: 0.1352 - accuracy: 0.9712\n",
            "Test set\n",
            "  Loss: 0.135\n",
            "  Accuracy: 0.971\n"
          ]
        }
      ]
    },
    {
      "cell_type": "code",
      "metadata": {
        "colab": {
          "base_uri": "https://localhost:8080/"
        },
        "id": "KlIApk_IsAA6",
        "outputId": "83cd6325-8dc8-4163-a519-4f8223bd7a8f"
      },
      "source": [
        "history.history['accuracy']"
      ],
      "execution_count": 75,
      "outputs": [
        {
          "output_type": "execute_result",
          "data": {
            "text/plain": [
              "[0.6788648366928101, 0.9992531538009644, 1.0, 1.0, 1.0]"
            ]
          },
          "metadata": {},
          "execution_count": 75
        }
      ]
    },
    {
      "cell_type": "code",
      "metadata": {
        "id": "Th7RqrtMsAA6"
      },
      "source": [
        "train_loss = history.history['loss'][4]\n",
        "valid_loss = history.history['val_loss'][4]\n",
        "valid_accuracy = history.history['val_accuracy'][4]\n",
        "model_parameters = model_ffnn.count_params()"
      ],
      "execution_count": 76,
      "outputs": []
    },
    {
      "cell_type": "code",
      "metadata": {
        "id": "yufrWpzHsAA6"
      },
      "source": [
        "model_statistics.append(\n",
        "        {\n",
        "            'Model Parameters': model_parameters,\n",
        "            'Training Loss': train_loss,\n",
        "            'Validation Loss': valid_loss,\n",
        "            'Validation Accuracy': valid_accuracy,\n",
        "            'Test Accuracy': test_accuracy,\n",
        "        }\n",
        "    )"
      ],
      "execution_count": 77,
      "outputs": []
    },
    {
      "cell_type": "code",
      "metadata": {
        "id": "uXmj9XxJsAA7"
      },
      "source": [
        "prediction_ffnn = model_ffnn.predict(X_test)\n",
        "prediction_ffnn = np.argmax(prediction_ffnn, axis = 1)"
      ],
      "execution_count": 78,
      "outputs": []
    },
    {
      "cell_type": "code",
      "metadata": {
        "colab": {
          "base_uri": "https://localhost:8080/"
        },
        "id": "OMUDVprGsAA7",
        "outputId": "97fedc46-042b-4360-b44c-6e7aa9fb9d5b"
      },
      "source": [
        "accuracy = accuracy_score(df_test['labels'], prediction_ffnn)\n",
        "accuracy_models[model_parameters] = accuracy\n",
        "print(f'Accuracy of Model = {accuracy}')\n",
        "print(classification_report(df_test['labels'], prediction_ffnn))"
      ],
      "execution_count": 79,
      "outputs": [
        {
          "output_type": "stream",
          "name": "stdout",
          "text": [
            "Accuracy of Model = 0.9712041884816754\n",
            "              precision    recall  f1-score   support\n",
            "\n",
            "           0       0.96      0.99      0.97        93\n",
            "           1       0.96      0.95      0.95        76\n",
            "           2       0.99      0.96      0.98        82\n",
            "           3       1.00      1.00      1.00        42\n",
            "           4       0.97      0.97      0.97        89\n",
            "\n",
            "    accuracy                           0.97       382\n",
            "   macro avg       0.97      0.97      0.97       382\n",
            "weighted avg       0.97      0.97      0.97       382\n",
            "\n"
          ]
        }
      ]
    },
    {
      "cell_type": "code",
      "metadata": {
        "id": "5d0XgBvesAA7"
      },
      "source": [
        "df_stats = pd.DataFrame(data = model_statistics)\n",
        "df_stats.to_csv(\"Statistics.csv\", index = None)"
      ],
      "execution_count": 80,
      "outputs": []
    },
    {
      "cell_type": "markdown",
      "metadata": {
        "id": "QjqAHDRLtqWp"
      },
      "source": [
        "#Fifth Model"
      ]
    },
    {
      "cell_type": "code",
      "metadata": {
        "id": "uwJxgcA8txSX"
      },
      "source": [
        "model_ffnn = Sequential()\n",
        "model_ffnn.add(Embedding(vocab_size, embedding_dim, input_length = max_length))\n",
        "model_ffnn.add(Flatten())\n",
        "model_ffnn.add(Dropout(0.2))\n",
        "model_ffnn.add(Dense(2048, activation='tanh'))\n",
        "model_ffnn.add(Dropout(0.2))\n",
        "model_ffnn.add(Dense(64, activation='tanh'))\n",
        "model_ffnn.add(Dropout(0.2))\n",
        "model_ffnn.add(Dense(5, activation='softmax'))"
      ],
      "execution_count": 83,
      "outputs": []
    },
    {
      "cell_type": "code",
      "metadata": {
        "colab": {
          "base_uri": "https://localhost:8080/"
        },
        "id": "g_6dx0nntxSY",
        "outputId": "083a54dc-a365-4651-c6eb-78cb6ce7dde8"
      },
      "source": [
        "model_ffnn.compile(loss='categorical_crossentropy', optimizer='adam', metrics=['accuracy'])\n",
        "print(model_ffnn.summary())"
      ],
      "execution_count": 84,
      "outputs": [
        {
          "output_type": "stream",
          "name": "stdout",
          "text": [
            "Model: \"sequential_5\"\n",
            "_________________________________________________________________\n",
            " Layer (type)                Output Shape              Param #   \n",
            "=================================================================\n",
            " embedding_5 (Embedding)     (None, 512, 100)          3129000   \n",
            "                                                                 \n",
            " flatten_5 (Flatten)         (None, 51200)             0         \n",
            "                                                                 \n",
            " dropout_15 (Dropout)        (None, 51200)             0         \n",
            "                                                                 \n",
            " dense_15 (Dense)            (None, 2048)              104859648 \n",
            "                                                                 \n",
            " dropout_16 (Dropout)        (None, 2048)              0         \n",
            "                                                                 \n",
            " dense_16 (Dense)            (None, 64)                131136    \n",
            "                                                                 \n",
            " dropout_17 (Dropout)        (None, 64)                0         \n",
            "                                                                 \n",
            " dense_17 (Dense)            (None, 5)                 325       \n",
            "                                                                 \n",
            "=================================================================\n",
            "Total params: 108,120,109\n",
            "Trainable params: 108,120,109\n",
            "Non-trainable params: 0\n",
            "_________________________________________________________________\n",
            "None\n"
          ]
        }
      ]
    },
    {
      "cell_type": "code",
      "metadata": {
        "colab": {
          "base_uri": "https://localhost:8080/"
        },
        "id": "YLynZJzXtxSZ",
        "outputId": "354fae54-7001-4909-ad95-1fc8f8c995c5"
      },
      "source": [
        "history = model_ffnn.fit(X_train, Y_train, epochs=num_epochs, batch_size = 8, validation_data=(X_valid, Y_valid), verbose=1)"
      ],
      "execution_count": 85,
      "outputs": [
        {
          "output_type": "stream",
          "name": "stdout",
          "text": [
            "Epoch 1/5\n",
            "168/168 [==============================] - 140s 828ms/step - loss: 1.7165 - accuracy: 0.2793 - val_loss: 1.4605 - val_accuracy: 0.3717\n",
            "Epoch 2/5\n",
            "168/168 [==============================] - 139s 827ms/step - loss: 1.4816 - accuracy: 0.3824 - val_loss: 0.8809 - val_accuracy: 0.6283\n",
            "Epoch 3/5\n",
            "168/168 [==============================] - 139s 830ms/step - loss: 0.3889 - accuracy: 0.8581 - val_loss: 0.3330 - val_accuracy: 0.9058\n",
            "Epoch 4/5\n",
            "168/168 [==============================] - 139s 828ms/step - loss: 0.0283 - accuracy: 0.9940 - val_loss: 0.2381 - val_accuracy: 0.9476\n",
            "Epoch 5/5\n",
            "168/168 [==============================] - 139s 828ms/step - loss: 0.0063 - accuracy: 1.0000 - val_loss: 0.2195 - val_accuracy: 0.9372\n"
          ]
        }
      ]
    },
    {
      "cell_type": "code",
      "metadata": {
        "colab": {
          "base_uri": "https://localhost:8080/",
          "height": 541
        },
        "id": "-ocrlVWqtxSZ",
        "outputId": "252d5920-4631-4089-f5b5-b282375e9db7"
      },
      "source": [
        "def plot_graphs(history, string):\n",
        "  plt.plot(history.history[string])\n",
        "  plt.plot(history.history['val_'+string])\n",
        "  plt.xlabel(\"Epochs\")\n",
        "  plt.ylabel(string)\n",
        "  plt.legend([string, 'val_'+string])\n",
        "  plt.show()\n",
        "plot_graphs(history, \"accuracy\")\n",
        "plot_graphs(history, \"loss\")"
      ],
      "execution_count": 86,
      "outputs": [
        {
          "output_type": "display_data",
          "data": {
            "image/png": "[encoded data removed]",
            "text/plain": [
              "<Figure size 432x288 with 1 Axes>"
            ]
          },
          "metadata": {
            "needs_background": "light"
          }
        },
        {
          "output_type": "display_data",
          "data": {
            "image/png": "[encoded data removed]",
            "text/plain": [
              "<Figure size 432x288 with 1 Axes>"
            ]
          },
          "metadata": {
            "needs_background": "light"
          }
        }
      ]
    },
    {
      "cell_type": "code",
      "metadata": {
        "colab": {
          "base_uri": "https://localhost:8080/"
        },
        "id": "pOhNFHvKtxSa",
        "outputId": "9067c16b-c471-4157-be7c-30202c8210c1"
      },
      "source": [
        "test_loss, test_accuracy = model_ffnn.evaluate(X_test,Y_test)\n",
        "print('Test set\\n  Loss: {:0.3f}\\n  Accuracy: {:0.3f}'.format(test_loss, test_accuracy))"
      ],
      "execution_count": 87,
      "outputs": [
        {
          "output_type": "stream",
          "name": "stdout",
          "text": [
            "12/12 [==============================] - 2s 181ms/step - loss: 0.1895 - accuracy: 0.9476\n",
            "Test set\n",
            "  Loss: 0.190\n",
            "  Accuracy: 0.948\n"
          ]
        }
      ]
    },
    {
      "cell_type": "code",
      "metadata": {
        "colab": {
          "base_uri": "https://localhost:8080/"
        },
        "id": "Tj-WwlYZtxSb",
        "outputId": "cb748cfc-fafc-4e66-f44d-49a2623aaa62"
      },
      "source": [
        "history.history['accuracy']"
      ],
      "execution_count": 88,
      "outputs": [
        {
          "output_type": "execute_result",
          "data": {
            "text/plain": [
              "[0.2793129086494446,\n",
              " 0.38237491250038147,\n",
              " 0.8581030368804932,\n",
              " 0.9940254092216492,\n",
              " 1.0]"
            ]
          },
          "metadata": {},
          "execution_count": 88
        }
      ]
    },
    {
      "cell_type": "code",
      "metadata": {
        "id": "jt2cPzIgtxSb"
      },
      "source": [
        "train_loss = history.history['loss'][4]\n",
        "valid_loss = history.history['val_loss'][4]\n",
        "valid_accuracy = history.history['val_accuracy'][4]\n",
        "model_parameters = model_ffnn.count_params()"
      ],
      "execution_count": 89,
      "outputs": []
    },
    {
      "cell_type": "code",
      "metadata": {
        "id": "FzqkSf10txSb"
      },
      "source": [
        "model_statistics.append(\n",
        "        {\n",
        "            'Model Parameters': model_parameters,\n",
        "            'Training Loss': train_loss,\n",
        "            'Validation Loss': valid_loss,\n",
        "            'Validation Accuracy': valid_accuracy,\n",
        "            'Test Accuracy': test_accuracy,\n",
        "        }\n",
        "    )"
      ],
      "execution_count": 90,
      "outputs": []
    },
    {
      "cell_type": "code",
      "metadata": {
        "id": "sMCkhR4xtxSc"
      },
      "source": [
        "prediction_ffnn = model_ffnn.predict(X_test)\n",
        "prediction_ffnn = np.argmax(prediction_ffnn, axis = 1)"
      ],
      "execution_count": 91,
      "outputs": []
    },
    {
      "cell_type": "code",
      "metadata": {
        "colab": {
          "base_uri": "https://localhost:8080/"
        },
        "id": "QJTrxzBGtxSc",
        "outputId": "b7d367c1-b37e-4fb8-c517-12a087cb721a"
      },
      "source": [
        "accuracy = accuracy_score(df_test['labels'], prediction_ffnn)\n",
        "accuracy_models[model_parameters] = accuracy\n",
        "print(f'Accuracy of Model = {accuracy}')\n",
        "print(classification_report(df_test['labels'], prediction_ffnn))"
      ],
      "execution_count": 92,
      "outputs": [
        {
          "output_type": "stream",
          "name": "stdout",
          "text": [
            "Accuracy of Model = 0.9476439790575916\n",
            "              precision    recall  f1-score   support\n",
            "\n",
            "           0       0.90      0.98      0.94        93\n",
            "           1       0.96      0.99      0.97        76\n",
            "           2       0.96      0.95      0.96        82\n",
            "           3       0.97      0.90      0.94        42\n",
            "           4       0.96      0.90      0.93        89\n",
            "\n",
            "    accuracy                           0.95       382\n",
            "   macro avg       0.95      0.94      0.95       382\n",
            "weighted avg       0.95      0.95      0.95       382\n",
            "\n"
          ]
        }
      ]
    },
    {
      "cell_type": "code",
      "metadata": {
        "id": "ch1dAokKtxSd"
      },
      "source": [
        "df_stats = pd.DataFrame(data = model_statistics)\n",
        "df_stats.to_csv(\"Statistics.csv\", index = None)"
      ],
      "execution_count": 93,
      "outputs": []
    },
    {
      "cell_type": "code",
      "metadata": {
        "id": "AZG3lHIM4Pyn"
      },
      "source": [
        "import matplotlib.pyplot as plt\n",
        "%matplotlib inline\n",
        "plt.style.use('ggplot')"
      ],
      "execution_count": 95,
      "outputs": []
    },
    {
      "cell_type": "code",
      "metadata": {
        "id": "5FUXCq215NPg"
      },
      "source": [
        "df_stats.sort_values(['Model Parameters', 'Test Accuracy'], inplace = True)"
      ],
      "execution_count": 97,
      "outputs": []
    },
    {
      "cell_type": "code",
      "metadata": {
        "colab": {
          "base_uri": "https://localhost:8080/",
          "height": 206
        },
        "id": "7r6ydsfh36bD",
        "outputId": "f9b2198a-57d6-4806-c442-af6f4075dd8e"
      },
      "source": [
        "df_stats"
      ],
      "execution_count": 98,
      "outputs": [
        {
          "output_type": "execute_result",
          "data": {
            "text/html": [
              "<div>\n",
              "<style scoped>\n",
              "    .dataframe tbody tr th:only-of-type {\n",
              "        vertical-align: middle;\n",
              "    }\n",
              "\n",
              "    .dataframe tbody tr th {\n",
              "        vertical-align: top;\n",
              "    }\n",
              "\n",
              "    .dataframe thead th {\n",
              "        text-align: right;\n",
              "    }\n",
              "</style>\n",
              "<table border=\"1\" class=\"dataframe\">\n",
              "  <thead>\n",
              "    <tr style=\"text-align: right;\">\n",
              "      <th></th>\n",
              "      <th>Model Parameters</th>\n",
              "      <th>Training Loss</th>\n",
              "      <th>Validation Loss</th>\n",
              "      <th>Validation Accuracy</th>\n",
              "      <th>Test Accuracy</th>\n",
              "    </tr>\n",
              "  </thead>\n",
              "  <tbody>\n",
              "    <tr>\n",
              "      <th>3</th>\n",
              "      <td>29346477</td>\n",
              "      <td>0.000166</td>\n",
              "      <td>0.151131</td>\n",
              "      <td>0.963351</td>\n",
              "      <td>0.971204</td>\n",
              "    </tr>\n",
              "    <tr>\n",
              "      <th>0</th>\n",
              "      <td>29410221</td>\n",
              "      <td>0.000329</td>\n",
              "      <td>0.216730</td>\n",
              "      <td>0.937173</td>\n",
              "      <td>0.971204</td>\n",
              "    </tr>\n",
              "    <tr>\n",
              "      <th>1</th>\n",
              "      <td>55822509</td>\n",
              "      <td>0.000103</td>\n",
              "      <td>0.256800</td>\n",
              "      <td>0.916230</td>\n",
              "      <td>0.921466</td>\n",
              "    </tr>\n",
              "    <tr>\n",
              "      <th>2</th>\n",
              "      <td>55837997</td>\n",
              "      <td>0.002420</td>\n",
              "      <td>0.231197</td>\n",
              "      <td>0.931937</td>\n",
              "      <td>0.931937</td>\n",
              "    </tr>\n",
              "    <tr>\n",
              "      <th>4</th>\n",
              "      <td>108120109</td>\n",
              "      <td>0.006270</td>\n",
              "      <td>0.219498</td>\n",
              "      <td>0.937173</td>\n",
              "      <td>0.947644</td>\n",
              "    </tr>\n",
              "  </tbody>\n",
              "</table>\n",
              "</div>"
            ],
            "text/plain": [
              "   Model Parameters  Training Loss  ...  Validation Accuracy  Test Accuracy\n",
              "3          29346477       0.000166  ...             0.963351       0.971204\n",
              "0          29410221       0.000329  ...             0.937173       0.971204\n",
              "1          55822509       0.000103  ...             0.916230       0.921466\n",
              "2          55837997       0.002420  ...             0.931937       0.931937\n",
              "4         108120109       0.006270  ...             0.937173       0.947644\n",
              "\n",
              "[5 rows x 5 columns]"
            ]
          },
          "metadata": {},
          "execution_count": 98
        }
      ]
    },
    {
      "cell_type": "code",
      "metadata": {
        "colab": {
          "base_uri": "https://localhost:8080/",
          "height": 652
        },
        "id": "uyW1hS974vDC",
        "outputId": "c2862646-7c41-415b-cd88-8b5b21487049"
      },
      "source": [
        "axl = df_stats.plot(kind='line', x='Model Parameters', y='Test Accuracy', color='blue', figsize=(15, 10))\n",
        "plt.title('Accuracy vs Parameters Plot', size=20)\n",
        "plt.xlabel('Number of Parameters', size=18)\n",
        "plt.ylabel('Test Accuracy', size=18)"
      ],
      "execution_count": 99,
      "outputs": [
        {
          "output_type": "execute_result",
          "data": {
            "text/plain": [
              "Text(0, 0.5, 'Test Accuracy')"
            ]
          },
          "metadata": {},
          "execution_count": 99
        },
        {
          "output_type": "display_data",
          "data": {
            "image/png": "[encoded data removed]",
            "text/plain": [
              "<Figure size 1080x720 with 1 Axes>"
            ]
          },
          "metadata": {}
        }
      ]
    },
    {
      "cell_type": "code",
      "metadata": {
        "id": "QzabhVYF5r6A"
      },
      "source": [
        "df_stats.to_csv(\"Q1_Statistics.csv\")"
      ],
      "execution_count": 100,
      "outputs": []
    },
    {
      "cell_type": "markdown",
      "metadata": {
        "id": "vefpkhXH55Vu"
      },
      "source": [
        "#**Q2**"
      ]
    },
    {
      "cell_type": "code",
      "metadata": {
        "id": "AN-FNGgL7Cwr"
      },
      "source": [
        "model_statistics = []"
      ],
      "execution_count": 101,
      "outputs": []
    },
    {
      "cell_type": "markdown",
      "metadata": {
        "id": "jd5UPQGK7RDT"
      },
      "source": [
        "#Tanh Activation and Adam Optimizer"
      ]
    },
    {
      "cell_type": "code",
      "metadata": {
        "id": "4SEUgiUc7BGO"
      },
      "source": [
        "model_ffnn = Sequential()\n",
        "model_ffnn.add(Embedding(vocab_size, embedding_dim, input_length = max_length))\n",
        "model_ffnn.add(Flatten())\n",
        "model_ffnn.add(Dropout(0.2))\n",
        "model_ffnn.add(Dense(512, activation='tanh'))\n",
        "model_ffnn.add(Dropout(0.2))\n",
        "model_ffnn.add(Dense(128, activation='tanh'))\n",
        "model_ffnn.add(Dropout(0.2))\n",
        "model_ffnn.add(Dense(5, activation='softmax'))"
      ],
      "execution_count": 114,
      "outputs": []
    },
    {
      "cell_type": "code",
      "metadata": {
        "colab": {
          "base_uri": "https://localhost:8080/"
        },
        "id": "r7WV-CzL7BGP",
        "outputId": "e6628bb1-7ac4-47a2-cbd6-a5f693124174"
      },
      "source": [
        "model_ffnn.compile(loss='categorical_crossentropy', optimizer='adam', metrics=['accuracy'])\n",
        "print(model_ffnn.summary())"
      ],
      "execution_count": 103,
      "outputs": [
        {
          "output_type": "stream",
          "name": "stdout",
          "text": [
            "Model: \"sequential_6\"\n",
            "_________________________________________________________________\n",
            " Layer (type)                Output Shape              Param #   \n",
            "=================================================================\n",
            " embedding_6 (Embedding)     (None, 512, 100)          3129000   \n",
            "                                                                 \n",
            " flatten_6 (Flatten)         (None, 51200)             0         \n",
            "                                                                 \n",
            " dropout_18 (Dropout)        (None, 51200)             0         \n",
            "                                                                 \n",
            " dense_18 (Dense)            (None, 512)               26214912  \n",
            "                                                                 \n",
            " dropout_19 (Dropout)        (None, 512)               0         \n",
            "                                                                 \n",
            " dense_19 (Dense)            (None, 128)               65664     \n",
            "                                                                 \n",
            " dropout_20 (Dropout)        (None, 128)               0         \n",
            "                                                                 \n",
            " dense_20 (Dense)            (None, 5)                 645       \n",
            "                                                                 \n",
            "=================================================================\n",
            "Total params: 29,410,221\n",
            "Trainable params: 29,410,221\n",
            "Non-trainable params: 0\n",
            "_________________________________________________________________\n",
            "None\n"
          ]
        }
      ]
    },
    {
      "cell_type": "code",
      "metadata": {
        "colab": {
          "base_uri": "https://localhost:8080/"
        },
        "id": "e6CybLLj7BGQ",
        "outputId": "70faa9af-843c-4a01-ed6b-163b75dca241"
      },
      "source": [
        "history = model_ffnn.fit(X_train, Y_train, epochs=num_epochs, batch_size = 8, validation_data=(X_valid, Y_valid), verbose=1)"
      ],
      "execution_count": 104,
      "outputs": [
        {
          "output_type": "stream",
          "name": "stdout",
          "text": [
            "Epoch 1/5\n",
            "168/168 [==============================] - 40s 231ms/step - loss: 1.2690 - accuracy: 0.5034 - val_loss: 0.4166 - val_accuracy: 0.8639\n",
            "Epoch 2/5\n",
            "168/168 [==============================] - 39s 230ms/step - loss: 0.0333 - accuracy: 0.9940 - val_loss: 0.1952 - val_accuracy: 0.9215\n",
            "Epoch 3/5\n",
            "168/168 [==============================] - 38s 229ms/step - loss: 0.0014 - accuracy: 1.0000 - val_loss: 0.1897 - val_accuracy: 0.9319\n",
            "Epoch 4/5\n",
            "168/168 [==============================] - 39s 230ms/step - loss: 3.1202e-04 - accuracy: 1.0000 - val_loss: 0.1881 - val_accuracy: 0.9267\n",
            "Epoch 5/5\n",
            "168/168 [==============================] - 39s 229ms/step - loss: 2.3208e-04 - accuracy: 1.0000 - val_loss: 0.1880 - val_accuracy: 0.9267\n"
          ]
        }
      ]
    },
    {
      "cell_type": "code",
      "metadata": {
        "colab": {
          "base_uri": "https://localhost:8080/",
          "height": 547
        },
        "id": "V3hpdOjK7BGR",
        "outputId": "9257137f-4744-406f-c7b8-8afdf520a7a8"
      },
      "source": [
        "def plot_graphs(history, string):\n",
        "  plt.plot(history.history[string])\n",
        "  plt.plot(history.history['val_'+string])\n",
        "  plt.xlabel(\"Epochs\")\n",
        "  plt.ylabel(string)\n",
        "  plt.legend([string, 'val_'+string])\n",
        "  plt.show()\n",
        "plot_graphs(history, \"accuracy\")\n",
        "plot_graphs(history, \"loss\")"
      ],
      "execution_count": 105,
      "outputs": [
        {
          "output_type": "display_data",
          "data": {
            "image/png": "[encoded data removed]",
            "text/plain": [
              "<Figure size 432x288 with 1 Axes>"
            ]
          },
          "metadata": {}
        },
        {
          "output_type": "display_data",
          "data": {
            "image/png": "[encoded data removed]",
            "text/plain": [
              "<Figure size 432x288 with 1 Axes>"
            ]
          },
          "metadata": {}
        }
      ]
    },
    {
      "cell_type": "code",
      "metadata": {
        "colab": {
          "base_uri": "https://localhost:8080/"
        },
        "id": "ILWn5HcD7BGR",
        "outputId": "22219fb0-e7c9-4a42-8cae-11d7932c8eb9"
      },
      "source": [
        "test_loss, test_accuracy = model_ffnn.evaluate(X_test,Y_test)\n",
        "print('Test set\\n  Loss: {:0.3f}\\n  Accuracy: {:0.3f}'.format(test_loss, test_accuracy))"
      ],
      "execution_count": 106,
      "outputs": [
        {
          "output_type": "stream",
          "name": "stdout",
          "text": [
            "12/12 [==============================] - 1s 49ms/step - loss: 0.1417 - accuracy: 0.9555\n",
            "Test set\n",
            "  Loss: 0.142\n",
            "  Accuracy: 0.955\n"
          ]
        }
      ]
    },
    {
      "cell_type": "code",
      "metadata": {
        "colab": {
          "base_uri": "https://localhost:8080/"
        },
        "id": "ilpe1iOP7BGS",
        "outputId": "159e271f-fc7f-48b1-9dff-5e0d9bb9458c"
      },
      "source": [
        "history.history['accuracy']"
      ],
      "execution_count": 107,
      "outputs": [
        {
          "output_type": "execute_result",
          "data": {
            "text/plain": [
              "[0.5033606886863708, 0.9940254092216492, 1.0, 1.0, 1.0]"
            ]
          },
          "metadata": {},
          "execution_count": 107
        }
      ]
    },
    {
      "cell_type": "code",
      "metadata": {
        "id": "xu76bXg87BGS"
      },
      "source": [
        "train_loss = history.history['loss'][4]\n",
        "valid_loss = history.history['val_loss'][4]\n",
        "valid_accuracy = history.history['val_accuracy'][4]"
      ],
      "execution_count": 108,
      "outputs": []
    },
    {
      "cell_type": "code",
      "metadata": {
        "id": "zdIDRwBr7BGS"
      },
      "source": [
        "model_statistics.append(\n",
        "        {\n",
        "            'Activation Function': 'tanh',\n",
        "            'Optimizer': 'adam',\n",
        "            'Training Loss': train_loss,\n",
        "            'Validation Loss': valid_loss,\n",
        "            'Validation Accuracy': valid_accuracy,\n",
        "            'Test Accuracy': test_accuracy,\n",
        "        }\n",
        "    )"
      ],
      "execution_count": 110,
      "outputs": []
    },
    {
      "cell_type": "code",
      "metadata": {
        "id": "1A2HBzXD7BGS"
      },
      "source": [
        "prediction_ffnn = model_ffnn.predict(X_test)\n",
        "prediction_ffnn = np.argmax(prediction_ffnn, axis = 1)"
      ],
      "execution_count": 111,
      "outputs": []
    },
    {
      "cell_type": "code",
      "metadata": {
        "colab": {
          "base_uri": "https://localhost:8080/"
        },
        "id": "5gEAPLRw7BGS",
        "outputId": "12a443b3-90f8-4b02-c830-9c63e1d17667"
      },
      "source": [
        "accuracy = accuracy_score(df_test['labels'], prediction_ffnn)\n",
        "accuracy_models[model_parameters] = accuracy\n",
        "print(f'Accuracy of Model = {accuracy}')\n",
        "print(classification_report(df_test['labels'], prediction_ffnn))"
      ],
      "execution_count": 112,
      "outputs": [
        {
          "output_type": "stream",
          "name": "stdout",
          "text": [
            "Accuracy of Model = 0.9554973821989529\n",
            "              precision    recall  f1-score   support\n",
            "\n",
            "           0       0.92      0.97      0.94        93\n",
            "           1       0.95      0.96      0.95        76\n",
            "           2       0.99      0.98      0.98        82\n",
            "           3       0.95      0.93      0.94        42\n",
            "           4       0.98      0.93      0.95        89\n",
            "\n",
            "    accuracy                           0.96       382\n",
            "   macro avg       0.96      0.95      0.95       382\n",
            "weighted avg       0.96      0.96      0.96       382\n",
            "\n"
          ]
        }
      ]
    },
    {
      "cell_type": "code",
      "metadata": {
        "id": "3ktXM83a7BGT"
      },
      "source": [
        "df_stats = pd.DataFrame(data = model_statistics)\n",
        "df_stats.to_csv(\"Statistics.csv\", index = None)"
      ],
      "execution_count": 113,
      "outputs": []
    },
    {
      "cell_type": "markdown",
      "metadata": {
        "id": "hjvU_Ehh7-Pj"
      },
      "source": [
        "#Tanh Activation and SGD Optimizer"
      ]
    },
    {
      "cell_type": "code",
      "metadata": {
        "id": "5ckqqTMF9Ccc"
      },
      "source": [
        "model_ffnn = Sequential()\n",
        "model_ffnn.add(Embedding(vocab_size, embedding_dim, input_length = max_length))\n",
        "model_ffnn.add(Flatten())\n",
        "model_ffnn.add(Dropout(0.2))\n",
        "model_ffnn.add(Dense(512, activation='tanh'))\n",
        "model_ffnn.add(Dropout(0.2))\n",
        "model_ffnn.add(Dense(128, activation='tanh'))\n",
        "model_ffnn.add(Dropout(0.2))\n",
        "model_ffnn.add(Dense(5, activation='softmax'))"
      ],
      "execution_count": 115,
      "outputs": []
    },
    {
      "cell_type": "code",
      "metadata": {
        "colab": {
          "base_uri": "https://localhost:8080/"
        },
        "id": "sugLI-rL9Cc0",
        "outputId": "7c873211-494e-475d-b106-eb5bf7afc5d7"
      },
      "source": [
        "model_ffnn.compile(loss='categorical_crossentropy', optimizer='sgd', metrics=['accuracy'])\n",
        "print(model_ffnn.summary())"
      ],
      "execution_count": 116,
      "outputs": [
        {
          "output_type": "stream",
          "name": "stdout",
          "text": [
            "Model: \"sequential_8\"\n",
            "_________________________________________________________________\n",
            " Layer (type)                Output Shape              Param #   \n",
            "=================================================================\n",
            " embedding_8 (Embedding)     (None, 512, 100)          3129000   \n",
            "                                                                 \n",
            " flatten_8 (Flatten)         (None, 51200)             0         \n",
            "                                                                 \n",
            " dropout_24 (Dropout)        (None, 51200)             0         \n",
            "                                                                 \n",
            " dense_24 (Dense)            (None, 512)               26214912  \n",
            "                                                                 \n",
            " dropout_25 (Dropout)        (None, 512)               0         \n",
            "                                                                 \n",
            " dense_25 (Dense)            (None, 128)               65664     \n",
            "                                                                 \n",
            " dropout_26 (Dropout)        (None, 128)               0         \n",
            "                                                                 \n",
            " dense_26 (Dense)            (None, 5)                 645       \n",
            "                                                                 \n",
            "=================================================================\n",
            "Total params: 29,410,221\n",
            "Trainable params: 29,410,221\n",
            "Non-trainable params: 0\n",
            "_________________________________________________________________\n",
            "None\n"
          ]
        }
      ]
    },
    {
      "cell_type": "code",
      "metadata": {
        "colab": {
          "base_uri": "https://localhost:8080/"
        },
        "id": "SGtmRkMi9Cc1",
        "outputId": "5bda52e5-2335-4679-c1c5-105bcacaf7de"
      },
      "source": [
        "history = model_ffnn.fit(X_train, Y_train, epochs=num_epochs, batch_size = 8, validation_data=(X_valid, Y_valid), verbose=1)"
      ],
      "execution_count": 117,
      "outputs": [
        {
          "output_type": "stream",
          "name": "stdout",
          "text": [
            "Epoch 1/5\n",
            "168/168 [==============================] - 27s 158ms/step - loss: 1.5265 - accuracy: 0.3069 - val_loss: 1.4701 - val_accuracy: 0.3927\n",
            "Epoch 2/5\n",
            "168/168 [==============================] - 26s 155ms/step - loss: 1.4155 - accuracy: 0.4137 - val_loss: 1.4809 - val_accuracy: 0.2356\n",
            "Epoch 3/5\n",
            "168/168 [==============================] - 26s 157ms/step - loss: 1.3332 - accuracy: 0.4645 - val_loss: 1.3763 - val_accuracy: 0.4450\n",
            "Epoch 4/5\n",
            "168/168 [==============================] - 26s 156ms/step - loss: 1.2414 - accuracy: 0.5459 - val_loss: 1.3745 - val_accuracy: 0.4084\n",
            "Epoch 5/5\n",
            "168/168 [==============================] - 26s 157ms/step - loss: 1.1154 - accuracy: 0.6565 - val_loss: 1.3252 - val_accuracy: 0.5026\n"
          ]
        }
      ]
    },
    {
      "cell_type": "code",
      "metadata": {
        "colab": {
          "base_uri": "https://localhost:8080/",
          "height": 547
        },
        "id": "mIuKciW29Cc1",
        "outputId": "1ff381a4-61c7-4e92-a8c7-15428973a2db"
      },
      "source": [
        "def plot_graphs(history, string):\n",
        "  plt.plot(history.history[string])\n",
        "  plt.plot(history.history['val_'+string])\n",
        "  plt.xlabel(\"Epochs\")\n",
        "  plt.ylabel(string)\n",
        "  plt.legend([string, 'val_'+string])\n",
        "  plt.show()\n",
        "plot_graphs(history, \"accuracy\")\n",
        "plot_graphs(history, \"loss\")"
      ],
      "execution_count": 118,
      "outputs": [
        {
          "output_type": "display_data",
          "data": {
            "image/png": "[encoded data removed]",
            "text/plain": [
              "<Figure size 432x288 with 1 Axes>"
            ]
          },
          "metadata": {}
        },
        {
          "output_type": "display_data",
          "data": {
            "image/png": "[encoded data removed]",
            "text/plain": [
              "<Figure size 432x288 with 1 Axes>"
            ]
          },
          "metadata": {}
        }
      ]
    },
    {
      "cell_type": "code",
      "metadata": {
        "colab": {
          "base_uri": "https://localhost:8080/"
        },
        "id": "LCXL3FX59Cc1",
        "outputId": "7dc19bfe-2db1-47d6-e764-bd8afea477b8"
      },
      "source": [
        "test_loss, test_accuracy = model_ffnn.evaluate(X_test,Y_test)\n",
        "print('Test set\\n  Loss: {:0.3f}\\n  Accuracy: {:0.3f}'.format(test_loss, test_accuracy))"
      ],
      "execution_count": 119,
      "outputs": [
        {
          "output_type": "stream",
          "name": "stdout",
          "text": [
            "12/12 [==============================] - 1s 49ms/step - loss: 1.3312 - accuracy: 0.4921\n",
            "Test set\n",
            "  Loss: 1.331\n",
            "  Accuracy: 0.492\n"
          ]
        }
      ]
    },
    {
      "cell_type": "code",
      "metadata": {
        "colab": {
          "base_uri": "https://localhost:8080/"
        },
        "id": "4QlZf4619Cc2",
        "outputId": "50e03ace-aa15-4eb0-9483-54e8f9ad6073"
      },
      "source": [
        "history.history['accuracy']"
      ],
      "execution_count": 120,
      "outputs": [
        {
          "output_type": "execute_result",
          "data": {
            "text/plain": [
              "[0.30694547295570374,\n",
              " 0.4137415885925293,\n",
              " 0.4645257592201233,\n",
              " 0.5459297895431519,\n",
              " 0.6564600467681885]"
            ]
          },
          "metadata": {},
          "execution_count": 120
        }
      ]
    },
    {
      "cell_type": "code",
      "metadata": {
        "id": "aPvtIXq09Cc2"
      },
      "source": [
        "train_loss = history.history['loss'][4]\n",
        "valid_loss = history.history['val_loss'][4]\n",
        "valid_accuracy = history.history['val_accuracy'][4]"
      ],
      "execution_count": 121,
      "outputs": []
    },
    {
      "cell_type": "code",
      "metadata": {
        "id": "no_rnyKi9Cc2"
      },
      "source": [
        "model_statistics.append(\n",
        "        {\n",
        "            'Activation Function': 'tanh',\n",
        "            'Optimizer': 'sgd',\n",
        "            'Training Loss': train_loss,\n",
        "            'Validation Loss': valid_loss,\n",
        "            'Validation Accuracy': valid_accuracy,\n",
        "            'Test Accuracy': test_accuracy,\n",
        "        }\n",
        "    )"
      ],
      "execution_count": 122,
      "outputs": []
    },
    {
      "cell_type": "code",
      "metadata": {
        "id": "sdkhQz8i9Cc3"
      },
      "source": [
        "prediction_ffnn = model_ffnn.predict(X_test)\n",
        "prediction_ffnn = np.argmax(prediction_ffnn, axis = 1)"
      ],
      "execution_count": 123,
      "outputs": []
    },
    {
      "cell_type": "code",
      "metadata": {
        "colab": {
          "base_uri": "https://localhost:8080/"
        },
        "id": "YQnn-tfv9Cc3",
        "outputId": "82e86b21-8a58-40b8-d865-9f2806a1f8a7"
      },
      "source": [
        "accuracy = accuracy_score(df_test['labels'], prediction_ffnn)\n",
        "accuracy_models[model_parameters] = accuracy\n",
        "print(f'Accuracy of Model = {accuracy}')\n",
        "print(classification_report(df_test['labels'], prediction_ffnn))"
      ],
      "execution_count": 124,
      "outputs": [
        {
          "output_type": "stream",
          "name": "stdout",
          "text": [
            "Accuracy of Model = 0.49214659685863876\n",
            "              precision    recall  f1-score   support\n",
            "\n",
            "           0       0.39      0.63      0.48        93\n",
            "           1       0.68      0.30      0.42        76\n",
            "           2       0.48      0.70      0.57        82\n",
            "           3       0.55      0.14      0.23        42\n",
            "           4       0.65      0.48      0.55        89\n",
            "\n",
            "    accuracy                           0.49       382\n",
            "   macro avg       0.55      0.45      0.45       382\n",
            "weighted avg       0.54      0.49      0.48       382\n",
            "\n"
          ]
        }
      ]
    },
    {
      "cell_type": "code",
      "metadata": {
        "id": "-OeTAPVC9Cc3"
      },
      "source": [
        "df_stats = pd.DataFrame(data = model_statistics)\n",
        "df_stats.to_csv(\"Statistics.csv\", index = None)"
      ],
      "execution_count": 125,
      "outputs": []
    },
    {
      "cell_type": "markdown",
      "metadata": {
        "id": "05J-x4bv9N00"
      },
      "source": [
        "#ReLU Activation and Adam Optimizer"
      ]
    },
    {
      "cell_type": "code",
      "metadata": {
        "id": "VUX8-VxH9Uas"
      },
      "source": [
        "model_ffnn = Sequential()\n",
        "model_ffnn.add(Embedding(vocab_size, embedding_dim, input_length = max_length))\n",
        "model_ffnn.add(Flatten())\n",
        "model_ffnn.add(Dropout(0.2))\n",
        "model_ffnn.add(Dense(512, activation='relu'))\n",
        "model_ffnn.add(Dropout(0.2))\n",
        "model_ffnn.add(Dense(128, activation='relu'))\n",
        "model_ffnn.add(Dropout(0.2))\n",
        "model_ffnn.add(Dense(5, activation='softmax'))"
      ],
      "execution_count": 154,
      "outputs": []
    },
    {
      "cell_type": "code",
      "metadata": {
        "colab": {
          "base_uri": "https://localhost:8080/"
        },
        "id": "CnTfqxY-9Uat",
        "outputId": "2a71777f-1522-48bb-a6ad-ff060cbc939b"
      },
      "source": [
        "model_ffnn.compile(loss='categorical_crossentropy', optimizer='adam', metrics=['accuracy'])\n",
        "print(model_ffnn.summary())"
      ],
      "execution_count": 155,
      "outputs": [
        {
          "output_type": "stream",
          "name": "stdout",
          "text": [
            "Model: \"sequential_11\"\n",
            "_________________________________________________________________\n",
            " Layer (type)                Output Shape              Param #   \n",
            "=================================================================\n",
            " embedding_11 (Embedding)    (None, 512, 100)          3129000   \n",
            "                                                                 \n",
            " flatten_11 (Flatten)        (None, 51200)             0         \n",
            "                                                                 \n",
            " dropout_33 (Dropout)        (None, 51200)             0         \n",
            "                                                                 \n",
            " dense_33 (Dense)            (None, 512)               26214912  \n",
            "                                                                 \n",
            " dropout_34 (Dropout)        (None, 512)               0         \n",
            "                                                                 \n",
            " dense_34 (Dense)            (None, 128)               65664     \n",
            "                                                                 \n",
            " dropout_35 (Dropout)        (None, 128)               0         \n",
            "                                                                 \n",
            " dense_35 (Dense)            (None, 5)                 645       \n",
            "                                                                 \n",
            "=================================================================\n",
            "Total params: 29,410,221\n",
            "Trainable params: 29,410,221\n",
            "Non-trainable params: 0\n",
            "_________________________________________________________________\n",
            "None\n"
          ]
        }
      ]
    },
    {
      "cell_type": "code",
      "metadata": {
        "colab": {
          "base_uri": "https://localhost:8080/"
        },
        "id": "YHN3a0Bt9Uau",
        "outputId": "216e6d2a-bb64-4fa2-871a-f7da43ccd7bb"
      },
      "source": [
        "history = model_ffnn.fit(X_train, Y_train, epochs=num_epochs, batch_size = 8, validation_data=(X_valid, Y_valid), verbose=1)"
      ],
      "execution_count": 156,
      "outputs": [
        {
          "output_type": "stream",
          "name": "stdout",
          "text": [
            "Epoch 1/5\n",
            "168/168 [==============================] - 39s 227ms/step - loss: 1.1519 - accuracy: 0.5190 - val_loss: 0.3753 - val_accuracy: 0.8796\n",
            "Epoch 2/5\n",
            "168/168 [==============================] - 38s 225ms/step - loss: 0.0501 - accuracy: 0.9888 - val_loss: 0.2195 - val_accuracy: 0.9267\n",
            "Epoch 3/5\n",
            "168/168 [==============================] - 37s 222ms/step - loss: 0.0023 - accuracy: 0.9993 - val_loss: 0.2132 - val_accuracy: 0.9424\n",
            "Epoch 4/5\n",
            "168/168 [==============================] - 37s 223ms/step - loss: 3.0993e-04 - accuracy: 1.0000 - val_loss: 0.2076 - val_accuracy: 0.9424\n",
            "Epoch 5/5\n",
            "168/168 [==============================] - 37s 223ms/step - loss: 1.0082e-04 - accuracy: 1.0000 - val_loss: 0.2126 - val_accuracy: 0.9424\n"
          ]
        }
      ]
    },
    {
      "cell_type": "code",
      "metadata": {
        "colab": {
          "base_uri": "https://localhost:8080/",
          "height": 550
        },
        "id": "O_n-aAyV9Uau",
        "outputId": "170f0181-8360-4b45-b7fd-8675974a1d78"
      },
      "source": [
        "def plot_graphs(history, string):\n",
        "  plt.plot(history.history[string])\n",
        "  plt.plot(history.history['val_'+string])\n",
        "  plt.xlabel(\"Epochs\")\n",
        "  plt.ylabel(string)\n",
        "  plt.legend([string, 'val_'+string])\n",
        "  plt.show()\n",
        "plot_graphs(history, \"accuracy\")\n",
        "plot_graphs(history, \"loss\")"
      ],
      "execution_count": 157,
      "outputs": [
        {
          "output_type": "display_data",
          "data": {
            "image/png": "[encoded data removed]",
            "text/plain": [
              "<Figure size 432x288 with 1 Axes>"
            ]
          },
          "metadata": {}
        },
        {
          "output_type": "display_data",
          "data": {
            "image/png": "[encoded data removed]",
            "text/plain": [
              "<Figure size 432x288 with 1 Axes>"
            ]
          },
          "metadata": {}
        }
      ]
    },
    {
      "cell_type": "code",
      "metadata": {
        "colab": {
          "base_uri": "https://localhost:8080/"
        },
        "id": "rt6b2nML9Uav",
        "outputId": "97e0edb9-b2f0-484b-dad1-1568d915e150"
      },
      "source": [
        "test_loss, test_accuracy = model_ffnn.evaluate(X_test,Y_test)\n",
        "print('Test set\\n  Loss: {:0.3f}\\n  Accuracy: {:0.3f}'.format(test_loss, test_accuracy))"
      ],
      "execution_count": 158,
      "outputs": [
        {
          "output_type": "stream",
          "name": "stdout",
          "text": [
            "12/12 [==============================] - 1s 47ms/step - loss: 0.1266 - accuracy: 0.9634\n",
            "Test set\n",
            "  Loss: 0.127\n",
            "  Accuracy: 0.963\n"
          ]
        }
      ]
    },
    {
      "cell_type": "code",
      "metadata": {
        "colab": {
          "base_uri": "https://localhost:8080/"
        },
        "id": "0_vz4n-Q9Uav",
        "outputId": "d60c8f9f-dd30-438f-9021-33d252b61d42"
      },
      "source": [
        "history.history['accuracy']"
      ],
      "execution_count": 159,
      "outputs": [
        {
          "output_type": "execute_result",
          "data": {
            "text/plain": [
              "[0.519044041633606, 0.9887976050376892, 0.9992531538009644, 1.0, 1.0]"
            ]
          },
          "metadata": {},
          "execution_count": 159
        }
      ]
    },
    {
      "cell_type": "code",
      "metadata": {
        "id": "_JXSE_Mu9Uaw"
      },
      "source": [
        "train_loss = history.history['loss'][4]\n",
        "valid_loss = history.history['val_loss'][4]\n",
        "valid_accuracy = history.history['val_accuracy'][4]"
      ],
      "execution_count": 160,
      "outputs": []
    },
    {
      "cell_type": "code",
      "metadata": {
        "id": "sS9WBpsA9Uaw"
      },
      "source": [
        "model_statistics.append(\n",
        "        {\n",
        "            'Activation Function': 'relu',\n",
        "            'Optimizer': 'adam',\n",
        "            'Training Loss': train_loss,\n",
        "            'Validation Loss': valid_loss,\n",
        "            'Validation Accuracy': valid_accuracy,\n",
        "            'Test Accuracy': test_accuracy,\n",
        "        }\n",
        "    )"
      ],
      "execution_count": 161,
      "outputs": []
    },
    {
      "cell_type": "code",
      "metadata": {
        "id": "NM08eqC19Uax"
      },
      "source": [
        "prediction_ffnn = model_ffnn.predict(X_test)\n",
        "prediction_ffnn = np.argmax(prediction_ffnn, axis = 1)"
      ],
      "execution_count": 162,
      "outputs": []
    },
    {
      "cell_type": "code",
      "metadata": {
        "colab": {
          "base_uri": "https://localhost:8080/"
        },
        "id": "5Zze85aF9Uax",
        "outputId": "fc0d9966-ea06-4b58-d1fe-4a4e2a646776"
      },
      "source": [
        "accuracy = accuracy_score(df_test['labels'], prediction_ffnn)\n",
        "accuracy_models[model_parameters] = accuracy\n",
        "print(f'Accuracy of Model = {accuracy}')\n",
        "print(classification_report(df_test['labels'], prediction_ffnn))"
      ],
      "execution_count": 163,
      "outputs": [
        {
          "output_type": "stream",
          "name": "stdout",
          "text": [
            "Accuracy of Model = 0.9633507853403142\n",
            "              precision    recall  f1-score   support\n",
            "\n",
            "           0       0.92      0.98      0.95        93\n",
            "           1       0.96      0.97      0.97        76\n",
            "           2       0.99      0.94      0.96        82\n",
            "           3       0.98      1.00      0.99        42\n",
            "           4       0.99      0.94      0.97        89\n",
            "\n",
            "    accuracy                           0.96       382\n",
            "   macro avg       0.97      0.97      0.97       382\n",
            "weighted avg       0.96      0.96      0.96       382\n",
            "\n"
          ]
        }
      ]
    },
    {
      "cell_type": "code",
      "metadata": {
        "id": "PGV_WwVp9Uay"
      },
      "source": [
        "df_stats = pd.DataFrame(data = model_statistics)\n",
        "df_stats.to_csv(\"Statistics.csv\", index = None)"
      ],
      "execution_count": 164,
      "outputs": []
    },
    {
      "cell_type": "markdown",
      "metadata": {
        "id": "ofM5Zge89a2J"
      },
      "source": [
        "#ReLU Activation and SGD Optimizer"
      ]
    },
    {
      "cell_type": "code",
      "metadata": {
        "id": "mS8Qi2Mg9oWf"
      },
      "source": [
        "model_ffnn = Sequential()\n",
        "model_ffnn.add(Embedding(vocab_size, embedding_dim, input_length = max_length))\n",
        "model_ffnn.add(Flatten())\n",
        "model_ffnn.add(Dropout(0.2))\n",
        "model_ffnn.add(Dense(512, activation='relu'))\n",
        "model_ffnn.add(Dropout(0.2))\n",
        "model_ffnn.add(Dense(128, activation='relu'))\n",
        "model_ffnn.add(Dropout(0.2))\n",
        "model_ffnn.add(Dense(5, activation='softmax'))"
      ],
      "execution_count": 165,
      "outputs": []
    },
    {
      "cell_type": "code",
      "metadata": {
        "colab": {
          "base_uri": "https://localhost:8080/"
        },
        "id": "vfPgY6Z39oWg",
        "outputId": "9af70815-b87c-4fdf-d5f1-5efd151d6270"
      },
      "source": [
        "model_ffnn.compile(loss='categorical_crossentropy', optimizer='sgd', metrics=['accuracy'])\n",
        "print(model_ffnn.summary())"
      ],
      "execution_count": 166,
      "outputs": [
        {
          "output_type": "stream",
          "name": "stdout",
          "text": [
            "Model: \"sequential_12\"\n",
            "_________________________________________________________________\n",
            " Layer (type)                Output Shape              Param #   \n",
            "=================================================================\n",
            " embedding_12 (Embedding)    (None, 512, 100)          3129000   \n",
            "                                                                 \n",
            " flatten_12 (Flatten)        (None, 51200)             0         \n",
            "                                                                 \n",
            " dropout_36 (Dropout)        (None, 51200)             0         \n",
            "                                                                 \n",
            " dense_36 (Dense)            (None, 512)               26214912  \n",
            "                                                                 \n",
            " dropout_37 (Dropout)        (None, 512)               0         \n",
            "                                                                 \n",
            " dense_37 (Dense)            (None, 128)               65664     \n",
            "                                                                 \n",
            " dropout_38 (Dropout)        (None, 128)               0         \n",
            "                                                                 \n",
            " dense_38 (Dense)            (None, 5)                 645       \n",
            "                                                                 \n",
            "=================================================================\n",
            "Total params: 29,410,221\n",
            "Trainable params: 29,410,221\n",
            "Non-trainable params: 0\n",
            "_________________________________________________________________\n",
            "None\n"
          ]
        }
      ]
    },
    {
      "cell_type": "code",
      "metadata": {
        "colab": {
          "base_uri": "https://localhost:8080/"
        },
        "id": "8xnZXwUD9oWh",
        "outputId": "e84fcb58-1c89-40ff-873e-b9140e261560"
      },
      "source": [
        "history = model_ffnn.fit(X_train, Y_train, epochs=num_epochs, batch_size = 8, validation_data=(X_valid, Y_valid), verbose=1)"
      ],
      "execution_count": 167,
      "outputs": [
        {
          "output_type": "stream",
          "name": "stdout",
          "text": [
            "Epoch 1/5\n",
            "168/168 [==============================] - 27s 155ms/step - loss: 1.5446 - accuracy: 0.2950 - val_loss: 1.4888 - val_accuracy: 0.3770\n",
            "Epoch 2/5\n",
            "168/168 [==============================] - 26s 154ms/step - loss: 1.4804 - accuracy: 0.3577 - val_loss: 1.4607 - val_accuracy: 0.3927\n",
            "Epoch 3/5\n",
            "168/168 [==============================] - 26s 154ms/step - loss: 1.4524 - accuracy: 0.3794 - val_loss: 1.4857 - val_accuracy: 0.3508\n",
            "Epoch 4/5\n",
            "168/168 [==============================] - 26s 153ms/step - loss: 1.4289 - accuracy: 0.3913 - val_loss: 1.4277 - val_accuracy: 0.3560\n",
            "Epoch 5/5\n",
            "168/168 [==============================] - 26s 154ms/step - loss: 1.3935 - accuracy: 0.4010 - val_loss: 1.4189 - val_accuracy: 0.3717\n"
          ]
        }
      ]
    },
    {
      "cell_type": "code",
      "metadata": {
        "colab": {
          "base_uri": "https://localhost:8080/",
          "height": 547
        },
        "id": "Hm9H3yw29oWh",
        "outputId": "42259ffe-e2bd-4c7b-8585-b3d032557169"
      },
      "source": [
        "def plot_graphs(history, string):\n",
        "  plt.plot(history.history[string])\n",
        "  plt.plot(history.history['val_'+string])\n",
        "  plt.xlabel(\"Epochs\")\n",
        "  plt.ylabel(string)\n",
        "  plt.legend([string, 'val_'+string])\n",
        "  plt.show()\n",
        "plot_graphs(history, \"accuracy\")\n",
        "plot_graphs(history, \"loss\")"
      ],
      "execution_count": 168,
      "outputs": [
        {
          "output_type": "display_data",
          "data": {
            "image/png": "[encoded data removed]",
            "text/plain": [
              "<Figure size 432x288 with 1 Axes>"
            ]
          },
          "metadata": {}
        },
        {
          "output_type": "display_data",
          "data": {
            "image/png": "[encoded data removed]",
            "text/plain": [
              "<Figure size 432x288 with 1 Axes>"
            ]
          },
          "metadata": {}
        }
      ]
    },
    {
      "cell_type": "code",
      "metadata": {
        "colab": {
          "base_uri": "https://localhost:8080/"
        },
        "id": "l3PMMAKK9oWi",
        "outputId": "2c0f1783-fb93-4747-8c40-9344a34b88b7"
      },
      "source": [
        "test_loss, test_accuracy = model_ffnn.evaluate(X_test,Y_test)\n",
        "print('Test set\\n  Loss: {:0.3f}\\n  Accuracy: {:0.3f}'.format(test_loss, test_accuracy))"
      ],
      "execution_count": 169,
      "outputs": [
        {
          "output_type": "stream",
          "name": "stdout",
          "text": [
            "12/12 [==============================] - 1s 46ms/step - loss: 1.4340 - accuracy: 0.3770\n",
            "Test set\n",
            "  Loss: 1.434\n",
            "  Accuracy: 0.377\n"
          ]
        }
      ]
    },
    {
      "cell_type": "code",
      "metadata": {
        "colab": {
          "base_uri": "https://localhost:8080/"
        },
        "id": "8qOv4aUL9oWi",
        "outputId": "9c85a000-0eb0-4330-ff48-91d820a6bf01"
      },
      "source": [
        "history.history['accuracy']"
      ],
      "execution_count": 170,
      "outputs": [
        {
          "output_type": "execute_result",
          "data": {
            "text/plain": [
              "[0.2949962615966797,\n",
              " 0.35772964358329773,\n",
              " 0.37938761711120605,\n",
              " 0.3913368284702301,\n",
              " 0.401045560836792]"
            ]
          },
          "metadata": {},
          "execution_count": 170
        }
      ]
    },
    {
      "cell_type": "code",
      "metadata": {
        "id": "kJ5nRccW9oWj"
      },
      "source": [
        "train_loss = history.history['loss'][4]\n",
        "valid_loss = history.history['val_loss'][4]\n",
        "valid_accuracy = history.history['val_accuracy'][4]"
      ],
      "execution_count": 171,
      "outputs": []
    },
    {
      "cell_type": "code",
      "metadata": {
        "id": "liOMNF8R9oWj"
      },
      "source": [
        "model_statistics.append(\n",
        "        {\n",
        "            'Activation Function': 'relu',\n",
        "            'Optimizer': 'sgd',\n",
        "            'Training Loss': train_loss,\n",
        "            'Validation Loss': valid_loss,\n",
        "            'Validation Accuracy': valid_accuracy,\n",
        "            'Test Accuracy': test_accuracy,\n",
        "        }\n",
        "    )"
      ],
      "execution_count": 172,
      "outputs": []
    },
    {
      "cell_type": "code",
      "metadata": {
        "id": "71JRcYgk9oWk"
      },
      "source": [
        "prediction_ffnn = model_ffnn.predict(X_test)\n",
        "prediction_ffnn = np.argmax(prediction_ffnn, axis = 1)"
      ],
      "execution_count": 173,
      "outputs": []
    },
    {
      "cell_type": "code",
      "metadata": {
        "colab": {
          "base_uri": "https://localhost:8080/"
        },
        "id": "MRfn_bI69oWk",
        "outputId": "4027b616-f169-405b-b193-3d7870410349"
      },
      "source": [
        "accuracy = accuracy_score(df_test['labels'], prediction_ffnn)\n",
        "accuracy_models[model_parameters] = accuracy\n",
        "print(f'Accuracy of Model = {accuracy}')\n",
        "print(classification_report(df_test['labels'], prediction_ffnn))"
      ],
      "execution_count": 174,
      "outputs": [
        {
          "output_type": "stream",
          "name": "stdout",
          "text": [
            "Accuracy of Model = 0.3769633507853403\n",
            "              precision    recall  f1-score   support\n",
            "\n",
            "           0       0.36      0.31      0.34        93\n",
            "           1       0.39      0.47      0.43        76\n",
            "           2       0.34      0.70      0.46        82\n",
            "           3       0.00      0.00      0.00        42\n",
            "           4       0.52      0.25      0.34        89\n",
            "\n",
            "    accuracy                           0.38       382\n",
            "   macro avg       0.32      0.35      0.31       382\n",
            "weighted avg       0.36      0.38      0.34       382\n",
            "\n"
          ]
        }
      ]
    },
    {
      "cell_type": "code",
      "metadata": {
        "id": "0HG__Roz9oWl"
      },
      "source": [
        "df_stats = pd.DataFrame(data = model_statistics)\n",
        "df_stats.to_csv(\"Statistics.csv\", index = None)"
      ],
      "execution_count": 175,
      "outputs": []
    },
    {
      "cell_type": "code",
      "metadata": {
        "id": "j9AeBHjr-8UR"
      },
      "source": [
        "df_stats.to_csv(\"Q2_Statistics.csv\", index = None)"
      ],
      "execution_count": 176,
      "outputs": []
    },
    {
      "cell_type": "markdown",
      "metadata": {
        "id": "gYNqnGYMCm4n"
      },
      "source": [
        "#**Q3**"
      ]
    },
    {
      "cell_type": "code",
      "metadata": {
        "colab": {
          "base_uri": "https://localhost:8080/",
          "height": 424
        },
        "id": "wBjGD11lHnjD",
        "outputId": "f20104e5-3119-42e8-9486-cca594a4f36f"
      },
      "source": [
        "df"
      ],
      "execution_count": 177,
      "outputs": [
        {
          "output_type": "execute_result",
          "data": {
            "text/html": [
              "<div>\n",
              "<style scoped>\n",
              "    .dataframe tbody tr th:only-of-type {\n",
              "        vertical-align: middle;\n",
              "    }\n",
              "\n",
              "    .dataframe tbody tr th {\n",
              "        vertical-align: top;\n",
              "    }\n",
              "\n",
              "    .dataframe thead th {\n",
              "        text-align: right;\n",
              "    }\n",
              "</style>\n",
              "<table border=\"1\" class=\"dataframe\">\n",
              "  <thead>\n",
              "    <tr style=\"text-align: right;\">\n",
              "      <th></th>\n",
              "      <th>Article</th>\n",
              "      <th>Class</th>\n",
              "      <th>labels</th>\n",
              "      <th>text</th>\n",
              "      <th>length</th>\n",
              "    </tr>\n",
              "  </thead>\n",
              "  <tbody>\n",
              "    <tr>\n",
              "      <th>0</th>\n",
              "      <td>Cactus diet deal for Phytopharm\\n\\nA slimming ...</td>\n",
              "      <td>business</td>\n",
              "      <td>0</td>\n",
              "      <td>Cactus diet deal Phytopharm slimming aid made ...</td>\n",
              "      <td>143</td>\n",
              "    </tr>\n",
              "    <tr>\n",
              "      <th>1</th>\n",
              "      <td>Winter freeze keeps oil above $50\\n\\nOil price...</td>\n",
              "      <td>business</td>\n",
              "      <td>0</td>\n",
              "      <td>Winter freeze keeps oil 50 Oil prices carried ...</td>\n",
              "      <td>201</td>\n",
              "    </tr>\n",
              "    <tr>\n",
              "      <th>2</th>\n",
              "      <td>Mobiles rack up 20 years of use\\n\\nMobile phon...</td>\n",
              "      <td>tech</td>\n",
              "      <td>4</td>\n",
              "      <td>Mobiles rack 20 years use Mobile phones UK cel...</td>\n",
              "      <td>255</td>\n",
              "    </tr>\n",
              "    <tr>\n",
              "      <th>3</th>\n",
              "      <td>Giving financial gifts to children\\n\\nYour chi...</td>\n",
              "      <td>business</td>\n",
              "      <td>0</td>\n",
              "      <td>Giving financial gifts children child grandchi...</td>\n",
              "      <td>436</td>\n",
              "    </tr>\n",
              "    <tr>\n",
              "      <th>4</th>\n",
              "      <td>Bank payout to Pinochet victims\\n\\nA US bank h...</td>\n",
              "      <td>business</td>\n",
              "      <td>0</td>\n",
              "      <td>Bank payout Pinochet victims US bank said dona...</td>\n",
              "      <td>184</td>\n",
              "    </tr>\n",
              "    <tr>\n",
              "      <th>...</th>\n",
              "      <td>...</td>\n",
              "      <td>...</td>\n",
              "      <td>...</td>\n",
              "      <td>...</td>\n",
              "      <td>...</td>\n",
              "    </tr>\n",
              "    <tr>\n",
              "      <th>1907</th>\n",
              "      <td>Crucial decision on super-casinos\\n\\nA decisio...</td>\n",
              "      <td>politics</td>\n",
              "      <td>2</td>\n",
              "      <td>Crucial decision super casinos decision whethe...</td>\n",
              "      <td>108</td>\n",
              "    </tr>\n",
              "    <tr>\n",
              "      <th>1908</th>\n",
              "      <td>Cyber crime booms in 2004\\n\\nThe last 12 month...</td>\n",
              "      <td>tech</td>\n",
              "      <td>4</td>\n",
              "      <td>Cyber crime booms 2004 last 12 months seen dra...</td>\n",
              "      <td>471</td>\n",
              "    </tr>\n",
              "    <tr>\n",
              "      <th>1909</th>\n",
              "      <td>Howard rejects BNP's claim\\n\\nTory leader Mich...</td>\n",
              "      <td>politics</td>\n",
              "      <td>2</td>\n",
              "      <td>Howard rejects BNP claim Tory leader Michael H...</td>\n",
              "      <td>184</td>\n",
              "    </tr>\n",
              "    <tr>\n",
              "      <th>1910</th>\n",
              "      <td>Card fraudsters 'targeting web'\\n\\nNew safegua...</td>\n",
              "      <td>business</td>\n",
              "      <td>0</td>\n",
              "      <td>Card fraudsters targeting web New safeguards c...</td>\n",
              "      <td>248</td>\n",
              "    </tr>\n",
              "    <tr>\n",
              "      <th>1911</th>\n",
              "      <td>Blunkett tells of love and pain\\n\\nDavid Blunk...</td>\n",
              "      <td>politics</td>\n",
              "      <td>2</td>\n",
              "      <td>Blunkett tells love pain David Blunkett spoken...</td>\n",
              "      <td>209</td>\n",
              "    </tr>\n",
              "  </tbody>\n",
              "</table>\n",
              "<p>1912 rows × 5 columns</p>\n",
              "</div>"
            ],
            "text/plain": [
              "                                                Article  ... length\n",
              "0     Cactus diet deal for Phytopharm\\n\\nA slimming ...  ...    143\n",
              "1     Winter freeze keeps oil above $50\\n\\nOil price...  ...    201\n",
              "2     Mobiles rack up 20 years of use\\n\\nMobile phon...  ...    255\n",
              "3     Giving financial gifts to children\\n\\nYour chi...  ...    436\n",
              "4     Bank payout to Pinochet victims\\n\\nA US bank h...  ...    184\n",
              "...                                                 ...  ...    ...\n",
              "1907  Crucial decision on super-casinos\\n\\nA decisio...  ...    108\n",
              "1908  Cyber crime booms in 2004\\n\\nThe last 12 month...  ...    471\n",
              "1909  Howard rejects BNP's claim\\n\\nTory leader Mich...  ...    184\n",
              "1910  Card fraudsters 'targeting web'\\n\\nNew safegua...  ...    248\n",
              "1911  Blunkett tells of love and pain\\n\\nDavid Blunk...  ...    209\n",
              "\n",
              "[1912 rows x 5 columns]"
            ]
          },
          "metadata": {},
          "execution_count": 177
        }
      ]
    },
    {
      "cell_type": "code",
      "metadata": {
        "id": "aSljvhVsH_Cr"
      },
      "source": [
        "X_cross = np.concatenate((X_train, X_valid), axis = 0)\n",
        "Y_cross = np.concatenate((Y_train, Y_valid), axis = 0)"
      ],
      "execution_count": 180,
      "outputs": []
    },
    {
      "cell_type": "code",
      "metadata": {
        "id": "yB3fnXTdIc2r"
      },
      "source": [
        "X1 = X_cross[0:math.ceil(0.33*len(X_cross))]\n",
        "X2 = X_cross[math.ceil(0.33*len(X_cross)):math.ceil(0.67*len(X_cross))]\n",
        "X3 = X_cross[math.ceil(0.67*len(X_cross)):]\n",
        "Y1 = Y_cross[0:math.ceil(0.33*len(X_cross))]\n",
        "Y2 = Y_cross[math.ceil(0.33*len(X_cross)):math.ceil(0.67*len(X_cross))]\n",
        "Y3 = Y_cross[math.ceil(0.67*len(X_cross)):]"
      ],
      "execution_count": 184,
      "outputs": []
    },
    {
      "cell_type": "code",
      "metadata": {
        "id": "JYWtZo31LGag"
      },
      "source": [
        "cross_validation = []"
      ],
      "execution_count": 185,
      "outputs": []
    },
    {
      "cell_type": "markdown",
      "metadata": {
        "id": "D_vSbY9WKjq7"
      },
      "source": [
        "#First Cross Validation"
      ]
    },
    {
      "cell_type": "code",
      "metadata": {
        "id": "Iz1uXLjnKnzm"
      },
      "source": [
        "X_train = np.concatenate((X1, X2), axis = 0)\n",
        "Y_train = np.concatenate((Y1, Y2), axis = 0)\n",
        "X_valid = X3\n",
        "Y_valid = Y3"
      ],
      "execution_count": 186,
      "outputs": []
    },
    {
      "cell_type": "code",
      "metadata": {
        "id": "6vDg7LOTK9iI"
      },
      "source": [
        "model_ffnn = Sequential()\n",
        "model_ffnn.add(Embedding(vocab_size, embedding_dim, input_length = max_length))\n",
        "model_ffnn.add(Flatten())\n",
        "model_ffnn.add(Dropout(0.2))\n",
        "model_ffnn.add(Dense(512, activation='relu'))\n",
        "model_ffnn.add(Dropout(0.2))\n",
        "model_ffnn.add(Dense(128, activation='relu'))\n",
        "model_ffnn.add(Dropout(0.2))\n",
        "model_ffnn.add(Dense(5, activation='softmax'))"
      ],
      "execution_count": 187,
      "outputs": []
    },
    {
      "cell_type": "code",
      "metadata": {
        "colab": {
          "base_uri": "https://localhost:8080/"
        },
        "id": "d6Fyof-cK9iJ",
        "outputId": "5f2789c2-caaa-4e08-fbdd-b62f686d7a49"
      },
      "source": [
        "model_ffnn.compile(loss='categorical_crossentropy', optimizer='adam', metrics=['accuracy'])\n",
        "print(model_ffnn.summary())"
      ],
      "execution_count": 188,
      "outputs": [
        {
          "output_type": "stream",
          "name": "stdout",
          "text": [
            "Model: \"sequential_13\"\n",
            "_________________________________________________________________\n",
            " Layer (type)                Output Shape              Param #   \n",
            "=================================================================\n",
            " embedding_13 (Embedding)    (None, 512, 100)          3129000   \n",
            "                                                                 \n",
            " flatten_13 (Flatten)        (None, 51200)             0         \n",
            "                                                                 \n",
            " dropout_39 (Dropout)        (None, 51200)             0         \n",
            "                                                                 \n",
            " dense_39 (Dense)            (None, 512)               26214912  \n",
            "                                                                 \n",
            " dropout_40 (Dropout)        (None, 512)               0         \n",
            "                                                                 \n",
            " dense_40 (Dense)            (None, 128)               65664     \n",
            "                                                                 \n",
            " dropout_41 (Dropout)        (None, 128)               0         \n",
            "                                                                 \n",
            " dense_41 (Dense)            (None, 5)                 645       \n",
            "                                                                 \n",
            "=================================================================\n",
            "Total params: 29,410,221\n",
            "Trainable params: 29,410,221\n",
            "Non-trainable params: 0\n",
            "_________________________________________________________________\n",
            "None\n"
          ]
        }
      ]
    },
    {
      "cell_type": "code",
      "metadata": {
        "colab": {
          "base_uri": "https://localhost:8080/"
        },
        "id": "DIZl0VzcK9iJ",
        "outputId": "bc5e412c-14e0-46b1-f1e7-44573c801b30"
      },
      "source": [
        "history = model_ffnn.fit(X_train, Y_train, epochs=num_epochs, batch_size = 8, validation_data=(X_valid, Y_valid), verbose=1)"
      ],
      "execution_count": 189,
      "outputs": [
        {
          "output_type": "stream",
          "name": "stdout",
          "text": [
            "Epoch 1/5\n",
            "129/129 [==============================] - 31s 234ms/step - loss: 1.4311 - accuracy: 0.4094 - val_loss: 0.8259 - val_accuracy: 0.7520\n",
            "Epoch 2/5\n",
            "129/129 [==============================] - 30s 232ms/step - loss: 0.1383 - accuracy: 0.9659 - val_loss: 0.2034 - val_accuracy: 0.9444\n",
            "Epoch 3/5\n",
            "129/129 [==============================] - 30s 230ms/step - loss: 0.0028 - accuracy: 1.0000 - val_loss: 0.1439 - val_accuracy: 0.9623\n",
            "Epoch 4/5\n",
            "129/129 [==============================] - 30s 231ms/step - loss: 5.9847e-04 - accuracy: 1.0000 - val_loss: 0.1398 - val_accuracy: 0.9623\n",
            "Epoch 5/5\n",
            "129/129 [==============================] - 30s 231ms/step - loss: 3.0840e-04 - accuracy: 1.0000 - val_loss: 0.1378 - val_accuracy: 0.9623\n"
          ]
        }
      ]
    },
    {
      "cell_type": "code",
      "metadata": {
        "colab": {
          "base_uri": "https://localhost:8080/",
          "height": 547
        },
        "id": "KxCKdwxSK9iK",
        "outputId": "da0a60e0-9bc8-47b2-966f-a6fa9e2fa92e"
      },
      "source": [
        "def plot_graphs(history, string):\n",
        "  plt.plot(history.history[string])\n",
        "  plt.plot(history.history['val_'+string])\n",
        "  plt.xlabel(\"Epochs\")\n",
        "  plt.ylabel(string)\n",
        "  plt.legend([string, 'val_'+string])\n",
        "  plt.show()\n",
        "plot_graphs(history, \"accuracy\")\n",
        "plot_graphs(history, \"loss\")"
      ],
      "execution_count": 190,
      "outputs": [
        {
          "output_type": "display_data",
          "data": {
            "image/png": "[encoded data removed]",
            "text/plain": [
              "<Figure size 432x288 with 1 Axes>"
            ]
          },
          "metadata": {}
        },
        {
          "output_type": "display_data",
          "data": {
            "image/png": "[encoded data removed]",
            "text/plain": [
              "<Figure size 432x288 with 1 Axes>"
            ]
          },
          "metadata": {}
        }
      ]
    },
    {
      "cell_type": "code",
      "metadata": {
        "colab": {
          "base_uri": "https://localhost:8080/"
        },
        "id": "yezO4_lfK9iK",
        "outputId": "b3763d16-62cb-4382-dd56-cb95a626a8b3"
      },
      "source": [
        "test_loss, test_accuracy = model_ffnn.evaluate(X_test,Y_test)\n",
        "print('Test set\\n  Loss: {:0.3f}\\n  Accuracy: {:0.3f}'.format(test_loss, test_accuracy))"
      ],
      "execution_count": 191,
      "outputs": [
        {
          "output_type": "stream",
          "name": "stdout",
          "text": [
            "12/12 [==============================] - 1s 45ms/step - loss: 0.1222 - accuracy: 0.9686\n",
            "Test set\n",
            "  Loss: 0.122\n",
            "  Accuracy: 0.969\n"
          ]
        }
      ]
    },
    {
      "cell_type": "code",
      "metadata": {
        "id": "c1aZgW66K9iL"
      },
      "source": [
        "train_loss = history.history['loss'][4]\n",
        "valid_loss = history.history['val_loss'][4]\n",
        "valid_accuracy = history.history['val_accuracy'][4]"
      ],
      "execution_count": 192,
      "outputs": []
    },
    {
      "cell_type": "code",
      "metadata": {
        "id": "chUAA-v0K9iL"
      },
      "source": [
        "cross_validation.append(\n",
        "        {\n",
        "            'Training Loss': train_loss,\n",
        "            'Validation Loss': valid_loss,\n",
        "            'Validation Accuracy': valid_accuracy,\n",
        "            'Test Accuracy': test_accuracy,\n",
        "        }\n",
        "    )"
      ],
      "execution_count": 193,
      "outputs": []
    },
    {
      "cell_type": "code",
      "metadata": {
        "id": "CgE01GQ7K9iM"
      },
      "source": [
        "prediction_ffnn = model_ffnn.predict(X_test)\n",
        "prediction_ffnn = np.argmax(prediction_ffnn, axis = 1)"
      ],
      "execution_count": 194,
      "outputs": []
    },
    {
      "cell_type": "code",
      "metadata": {
        "colab": {
          "base_uri": "https://localhost:8080/"
        },
        "id": "eeJcoQCFK9iM",
        "outputId": "6eb865a3-e3e0-48a0-a78b-b74f2674f231"
      },
      "source": [
        "accuracy = accuracy_score(df_test['labels'], prediction_ffnn)\n",
        "accuracy_models[model_parameters] = accuracy\n",
        "print(f'Accuracy of Model = {accuracy}')\n",
        "print(classification_report(df_test['labels'], prediction_ffnn))"
      ],
      "execution_count": 195,
      "outputs": [
        {
          "output_type": "stream",
          "name": "stdout",
          "text": [
            "Accuracy of Model = 0.9685863874345549\n",
            "              precision    recall  f1-score   support\n",
            "\n",
            "           0       0.99      0.97      0.98        93\n",
            "           1       0.94      0.97      0.95        76\n",
            "           2       0.95      0.98      0.96        82\n",
            "           3       1.00      0.95      0.98        42\n",
            "           4       0.98      0.97      0.97        89\n",
            "\n",
            "    accuracy                           0.97       382\n",
            "   macro avg       0.97      0.97      0.97       382\n",
            "weighted avg       0.97      0.97      0.97       382\n",
            "\n"
          ]
        }
      ]
    },
    {
      "cell_type": "code",
      "metadata": {
        "id": "ZyoV-Uo1K9iN"
      },
      "source": [
        "df_stats = pd.DataFrame(data = cross_validation)\n",
        "df_stats.to_csv(\"Statistics.csv\", index = None)"
      ],
      "execution_count": 196,
      "outputs": []
    },
    {
      "cell_type": "markdown",
      "metadata": {
        "id": "R_isF_8NLZwy"
      },
      "source": [
        "#Second Cross Validation"
      ]
    },
    {
      "cell_type": "code",
      "metadata": {
        "id": "IuNYdgkKLhlz"
      },
      "source": [
        "X_train = np.concatenate((X1, X3), axis = 0)\n",
        "Y_train = np.concatenate((Y1, Y3), axis = 0)\n",
        "X_valid = X2\n",
        "Y_valid = Y2"
      ],
      "execution_count": 197,
      "outputs": []
    },
    {
      "cell_type": "code",
      "metadata": {
        "id": "uyWWMvjhLhl0"
      },
      "source": [
        "model_ffnn = Sequential()\n",
        "model_ffnn.add(Embedding(vocab_size, embedding_dim, input_length = max_length))\n",
        "model_ffnn.add(Flatten())\n",
        "model_ffnn.add(Dropout(0.2))\n",
        "model_ffnn.add(Dense(512, activation='relu'))\n",
        "model_ffnn.add(Dropout(0.2))\n",
        "model_ffnn.add(Dense(128, activation='relu'))\n",
        "model_ffnn.add(Dropout(0.2))\n",
        "model_ffnn.add(Dense(5, activation='softmax'))"
      ],
      "execution_count": 198,
      "outputs": []
    },
    {
      "cell_type": "code",
      "metadata": {
        "colab": {
          "base_uri": "https://localhost:8080/"
        },
        "id": "enKdb_orLhl0",
        "outputId": "ae433774-dbac-4a3b-f813-32179268de88"
      },
      "source": [
        "model_ffnn.compile(loss='categorical_crossentropy', optimizer='adam', metrics=['accuracy'])\n",
        "print(model_ffnn.summary())"
      ],
      "execution_count": 199,
      "outputs": [
        {
          "output_type": "stream",
          "name": "stdout",
          "text": [
            "Model: \"sequential_14\"\n",
            "_________________________________________________________________\n",
            " Layer (type)                Output Shape              Param #   \n",
            "=================================================================\n",
            " embedding_14 (Embedding)    (None, 512, 100)          3129000   \n",
            "                                                                 \n",
            " flatten_14 (Flatten)        (None, 51200)             0         \n",
            "                                                                 \n",
            " dropout_42 (Dropout)        (None, 51200)             0         \n",
            "                                                                 \n",
            " dense_42 (Dense)            (None, 512)               26214912  \n",
            "                                                                 \n",
            " dropout_43 (Dropout)        (None, 512)               0         \n",
            "                                                                 \n",
            " dense_43 (Dense)            (None, 128)               65664     \n",
            "                                                                 \n",
            " dropout_44 (Dropout)        (None, 128)               0         \n",
            "                                                                 \n",
            " dense_44 (Dense)            (None, 5)                 645       \n",
            "                                                                 \n",
            "=================================================================\n",
            "Total params: 29,410,221\n",
            "Trainable params: 29,410,221\n",
            "Non-trainable params: 0\n",
            "_________________________________________________________________\n",
            "None\n"
          ]
        }
      ]
    },
    {
      "cell_type": "code",
      "metadata": {
        "colab": {
          "base_uri": "https://localhost:8080/"
        },
        "id": "NyfZ1-H-Lhl0",
        "outputId": "3c0ed28c-5c88-4109-a7fe-337c54014e29"
      },
      "source": [
        "history = model_ffnn.fit(X_train, Y_train, epochs=num_epochs, batch_size = 8, validation_data=(X_valid, Y_valid), verbose=1)"
      ],
      "execution_count": 200,
      "outputs": [
        {
          "output_type": "stream",
          "name": "stdout",
          "text": [
            "Epoch 1/5\n",
            "127/127 [==============================] - 30s 234ms/step - loss: 1.3774 - accuracy: 0.4192 - val_loss: 0.7643 - val_accuracy: 0.7044\n",
            "Epoch 2/5\n",
            "127/127 [==============================] - 29s 231ms/step - loss: 0.1304 - accuracy: 0.9643 - val_loss: 0.2346 - val_accuracy: 0.9271\n",
            "Epoch 3/5\n",
            "127/127 [==============================] - 29s 231ms/step - loss: 0.0020 - accuracy: 1.0000 - val_loss: 0.1922 - val_accuracy: 0.9405\n",
            "Epoch 4/5\n",
            "127/127 [==============================] - 29s 232ms/step - loss: 3.6333e-04 - accuracy: 1.0000 - val_loss: 0.1873 - val_accuracy: 0.9424\n",
            "Epoch 5/5\n",
            "127/127 [==============================] - 29s 232ms/step - loss: 2.5326e-04 - accuracy: 1.0000 - val_loss: 0.1802 - val_accuracy: 0.9443\n"
          ]
        }
      ]
    },
    {
      "cell_type": "code",
      "metadata": {
        "colab": {
          "base_uri": "https://localhost:8080/",
          "height": 547
        },
        "id": "nBcNPHLxLhl1",
        "outputId": "55047391-05d1-4184-ca13-dae6d4c31d5f"
      },
      "source": [
        "def plot_graphs(history, string):\n",
        "  plt.plot(history.history[string])\n",
        "  plt.plot(history.history['val_'+string])\n",
        "  plt.xlabel(\"Epochs\")\n",
        "  plt.ylabel(string)\n",
        "  plt.legend([string, 'val_'+string])\n",
        "  plt.show()\n",
        "plot_graphs(history, \"accuracy\")\n",
        "plot_graphs(history, \"loss\")"
      ],
      "execution_count": 201,
      "outputs": [
        {
          "output_type": "display_data",
          "data": {
            "image/png": "[encoded data removed]",
            "text/plain": [
              "<Figure size 432x288 with 1 Axes>"
            ]
          },
          "metadata": {}
        },
        {
          "output_type": "display_data",
          "data": {
            "image/png": "[encoded data removed]",
            "text/plain": [
              "<Figure size 432x288 with 1 Axes>"
            ]
          },
          "metadata": {}
        }
      ]
    },
    {
      "cell_type": "code",
      "metadata": {
        "colab": {
          "base_uri": "https://localhost:8080/"
        },
        "id": "CiI0c7dQLhl1",
        "outputId": "ced1bf47-ef98-4687-f1ab-834ee2290282"
      },
      "source": [
        "test_loss, test_accuracy = model_ffnn.evaluate(X_test,Y_test)\n",
        "print('Test set\\n  Loss: {:0.3f}\\n  Accuracy: {:0.3f}'.format(test_loss, test_accuracy))"
      ],
      "execution_count": 202,
      "outputs": [
        {
          "output_type": "stream",
          "name": "stdout",
          "text": [
            "12/12 [==============================] - 1s 44ms/step - loss: 0.1482 - accuracy: 0.9476\n",
            "Test set\n",
            "  Loss: 0.148\n",
            "  Accuracy: 0.948\n"
          ]
        }
      ]
    },
    {
      "cell_type": "code",
      "metadata": {
        "id": "drt92cf2Lhl2"
      },
      "source": [
        "train_loss = history.history['loss'][4]\n",
        "valid_loss = history.history['val_loss'][4]\n",
        "valid_accuracy = history.history['val_accuracy'][4]"
      ],
      "execution_count": 203,
      "outputs": []
    },
    {
      "cell_type": "code",
      "metadata": {
        "id": "V-QNa2pTLhl2"
      },
      "source": [
        "cross_validation.append(\n",
        "        {\n",
        "            'Training Loss': train_loss,\n",
        "            'Validation Loss': valid_loss,\n",
        "            'Validation Accuracy': valid_accuracy,\n",
        "            'Test Accuracy': test_accuracy,\n",
        "        }\n",
        "    )"
      ],
      "execution_count": 204,
      "outputs": []
    },
    {
      "cell_type": "code",
      "metadata": {
        "id": "SK1dGkEYLhl2"
      },
      "source": [
        "prediction_ffnn = model_ffnn.predict(X_test)\n",
        "prediction_ffnn = np.argmax(prediction_ffnn, axis = 1)"
      ],
      "execution_count": 205,
      "outputs": []
    },
    {
      "cell_type": "code",
      "metadata": {
        "colab": {
          "base_uri": "https://localhost:8080/"
        },
        "id": "YEc9aMFNLhl2",
        "outputId": "01ba8b8c-f7cc-44ab-a764-84e430b65307"
      },
      "source": [
        "accuracy = accuracy_score(df_test['labels'], prediction_ffnn)\n",
        "accuracy_models[model_parameters] = accuracy\n",
        "print(f'Accuracy of Model = {accuracy}')\n",
        "print(classification_report(df_test['labels'], prediction_ffnn))"
      ],
      "execution_count": 206,
      "outputs": [
        {
          "output_type": "stream",
          "name": "stdout",
          "text": [
            "Accuracy of Model = 0.9476439790575916\n",
            "              precision    recall  f1-score   support\n",
            "\n",
            "           0       0.90      0.97      0.93        93\n",
            "           1       0.99      0.96      0.97        76\n",
            "           2       0.94      0.94      0.94        82\n",
            "           3       0.97      0.93      0.95        42\n",
            "           4       0.97      0.93      0.95        89\n",
            "\n",
            "    accuracy                           0.95       382\n",
            "   macro avg       0.95      0.95      0.95       382\n",
            "weighted avg       0.95      0.95      0.95       382\n",
            "\n"
          ]
        }
      ]
    },
    {
      "cell_type": "code",
      "metadata": {
        "id": "ls4M78PHLhl2"
      },
      "source": [
        "df_stats = pd.DataFrame(data = cross_validation)\n",
        "df_stats.to_csv(\"Statistics.csv\", index = None)"
      ],
      "execution_count": 207,
      "outputs": []
    },
    {
      "cell_type": "markdown",
      "metadata": {
        "id": "9U2GjjkSLwne"
      },
      "source": [
        "#Third Cross Validation"
      ]
    },
    {
      "cell_type": "code",
      "metadata": {
        "id": "lsEF4hTML5nG"
      },
      "source": [
        "X_train = np.concatenate((X2, X3), axis = 0)\n",
        "Y_train = np.concatenate((Y2, Y3), axis = 0)\n",
        "X_valid = X1\n",
        "Y_valid = Y1"
      ],
      "execution_count": 208,
      "outputs": []
    },
    {
      "cell_type": "code",
      "metadata": {
        "id": "MYOb6Y-2L5nH"
      },
      "source": [
        "model_ffnn = Sequential()\n",
        "model_ffnn.add(Embedding(vocab_size, embedding_dim, input_length = max_length))\n",
        "model_ffnn.add(Flatten())\n",
        "model_ffnn.add(Dropout(0.2))\n",
        "model_ffnn.add(Dense(512, activation='relu'))\n",
        "model_ffnn.add(Dropout(0.2))\n",
        "model_ffnn.add(Dense(128, activation='relu'))\n",
        "model_ffnn.add(Dropout(0.2))\n",
        "model_ffnn.add(Dense(5, activation='softmax'))"
      ],
      "execution_count": 209,
      "outputs": []
    },
    {
      "cell_type": "code",
      "metadata": {
        "colab": {
          "base_uri": "https://localhost:8080/"
        },
        "id": "bUhUUkKGL5nH",
        "outputId": "574bd7c8-7ce4-4e5d-fcff-9a79b00525e2"
      },
      "source": [
        "model_ffnn.compile(loss='categorical_crossentropy', optimizer='adam', metrics=['accuracy'])\n",
        "print(model_ffnn.summary())"
      ],
      "execution_count": 210,
      "outputs": [
        {
          "output_type": "stream",
          "name": "stdout",
          "text": [
            "Model: \"sequential_15\"\n",
            "_________________________________________________________________\n",
            " Layer (type)                Output Shape              Param #   \n",
            "=================================================================\n",
            " embedding_15 (Embedding)    (None, 512, 100)          3129000   \n",
            "                                                                 \n",
            " flatten_15 (Flatten)        (None, 51200)             0         \n",
            "                                                                 \n",
            " dropout_45 (Dropout)        (None, 51200)             0         \n",
            "                                                                 \n",
            " dense_45 (Dense)            (None, 512)               26214912  \n",
            "                                                                 \n",
            " dropout_46 (Dropout)        (None, 512)               0         \n",
            "                                                                 \n",
            " dense_46 (Dense)            (None, 128)               65664     \n",
            "                                                                 \n",
            " dropout_47 (Dropout)        (None, 128)               0         \n",
            "                                                                 \n",
            " dense_47 (Dense)            (None, 5)                 645       \n",
            "                                                                 \n",
            "=================================================================\n",
            "Total params: 29,410,221\n",
            "Trainable params: 29,410,221\n",
            "Non-trainable params: 0\n",
            "_________________________________________________________________\n",
            "None\n"
          ]
        }
      ]
    },
    {
      "cell_type": "code",
      "metadata": {
        "colab": {
          "base_uri": "https://localhost:8080/"
        },
        "id": "DRPH4ARjL5nI",
        "outputId": "a804b6dc-92b3-4c21-b93f-93ad8329af5c"
      },
      "source": [
        "history = model_ffnn.fit(X_train, Y_train, epochs=num_epochs, batch_size = 8, validation_data=(X_valid, Y_valid), verbose=1)"
      ],
      "execution_count": 211,
      "outputs": [
        {
          "output_type": "stream",
          "name": "stdout",
          "text": [
            "Epoch 1/5\n",
            "129/129 [==============================] - 31s 232ms/step - loss: 1.3727 - accuracy: 0.4283 - val_loss: 0.5296 - val_accuracy: 0.8119\n",
            "Epoch 2/5\n",
            "129/129 [==============================] - 30s 230ms/step - loss: 0.1094 - accuracy: 0.9727 - val_loss: 0.1594 - val_accuracy: 0.9604\n",
            "Epoch 3/5\n",
            "129/129 [==============================] - 30s 229ms/step - loss: 0.0018 - accuracy: 1.0000 - val_loss: 0.1207 - val_accuracy: 0.9683\n",
            "Epoch 4/5\n",
            "129/129 [==============================] - 30s 229ms/step - loss: 7.4800e-04 - accuracy: 1.0000 - val_loss: 0.1118 - val_accuracy: 0.9743\n",
            "Epoch 5/5\n",
            "129/129 [==============================] - 30s 231ms/step - loss: 3.5433e-04 - accuracy: 1.0000 - val_loss: 0.1086 - val_accuracy: 0.9723\n"
          ]
        }
      ]
    },
    {
      "cell_type": "code",
      "metadata": {
        "colab": {
          "base_uri": "https://localhost:8080/",
          "height": 547
        },
        "id": "jGvy0zO7L5nJ",
        "outputId": "d210de82-cd89-4b14-d1c9-2ce73a58d35f"
      },
      "source": [
        "def plot_graphs(history, string):\n",
        "  plt.plot(history.history[string])\n",
        "  plt.plot(history.history['val_'+string])\n",
        "  plt.xlabel(\"Epochs\")\n",
        "  plt.ylabel(string)\n",
        "  plt.legend([string, 'val_'+string])\n",
        "  plt.show()\n",
        "plot_graphs(history, \"accuracy\")\n",
        "plot_graphs(history, \"loss\")"
      ],
      "execution_count": 212,
      "outputs": [
        {
          "output_type": "display_data",
          "data": {
            "image/png": "[encoded data removed]",
            "text/plain": [
              "<Figure size 432x288 with 1 Axes>"
            ]
          },
          "metadata": {}
        },
        {
          "output_type": "display_data",
          "data": {
            "image/png": "[encoded data removed]",
            "text/plain": [
              "<Figure size 432x288 with 1 Axes>"
            ]
          },
          "metadata": {}
        }
      ]
    },
    {
      "cell_type": "code",
      "metadata": {
        "colab": {
          "base_uri": "https://localhost:8080/"
        },
        "id": "FMrp7gIaL5nJ",
        "outputId": "177bb2ae-724f-43c6-a461-700eb3776b3c"
      },
      "source": [
        "test_loss, test_accuracy = model_ffnn.evaluate(X_test,Y_test)\n",
        "print('Test set\\n  Loss: {:0.3f}\\n  Accuracy: {:0.3f}'.format(test_loss, test_accuracy))"
      ],
      "execution_count": 213,
      "outputs": [
        {
          "output_type": "stream",
          "name": "stdout",
          "text": [
            "12/12 [==============================] - 1s 45ms/step - loss: 0.1214 - accuracy: 0.9503\n",
            "Test set\n",
            "  Loss: 0.121\n",
            "  Accuracy: 0.950\n"
          ]
        }
      ]
    },
    {
      "cell_type": "code",
      "metadata": {
        "id": "i-ufPLf8L5nJ"
      },
      "source": [
        "train_loss = history.history['loss'][4]\n",
        "valid_loss = history.history['val_loss'][4]\n",
        "valid_accuracy = history.history['val_accuracy'][4]"
      ],
      "execution_count": 214,
      "outputs": []
    },
    {
      "cell_type": "code",
      "metadata": {
        "id": "Hg8OFgYhL5nK"
      },
      "source": [
        "cross_validation.append(\n",
        "        {\n",
        "            'Training Loss': train_loss,\n",
        "            'Validation Loss': valid_loss,\n",
        "            'Validation Accuracy': valid_accuracy,\n",
        "            'Test Accuracy': test_accuracy,\n",
        "        }\n",
        "    )"
      ],
      "execution_count": 215,
      "outputs": []
    },
    {
      "cell_type": "code",
      "metadata": {
        "id": "UudMzs9pL5nK"
      },
      "source": [
        "prediction_ffnn = model_ffnn.predict(X_test)\n",
        "prediction_ffnn = np.argmax(prediction_ffnn, axis = 1)"
      ],
      "execution_count": 216,
      "outputs": []
    },
    {
      "cell_type": "code",
      "metadata": {
        "colab": {
          "base_uri": "https://localhost:8080/"
        },
        "id": "l6dTpqsJL5nL",
        "outputId": "fe741bf6-4af1-4e25-f346-d004a730d40f"
      },
      "source": [
        "accuracy = accuracy_score(df_test['labels'], prediction_ffnn)\n",
        "accuracy_models[model_parameters] = accuracy\n",
        "print(f'Accuracy of Model = {accuracy}')\n",
        "print(classification_report(df_test['labels'], prediction_ffnn))"
      ],
      "execution_count": 217,
      "outputs": [
        {
          "output_type": "stream",
          "name": "stdout",
          "text": [
            "Accuracy of Model = 0.9502617801047121\n",
            "              precision    recall  f1-score   support\n",
            "\n",
            "           0       0.94      0.97      0.95        93\n",
            "           1       0.91      0.96      0.94        76\n",
            "           2       0.97      0.93      0.95        82\n",
            "           3       0.97      0.93      0.95        42\n",
            "           4       0.97      0.96      0.96        89\n",
            "\n",
            "    accuracy                           0.95       382\n",
            "   macro avg       0.95      0.95      0.95       382\n",
            "weighted avg       0.95      0.95      0.95       382\n",
            "\n"
          ]
        }
      ]
    },
    {
      "cell_type": "code",
      "metadata": {
        "id": "EEo_9rA9L5nL"
      },
      "source": [
        "df_stats = pd.DataFrame(data = cross_validation)\n",
        "df_stats.to_csv(\"Statistics.csv\", index = None)"
      ],
      "execution_count": 218,
      "outputs": []
    },
    {
      "cell_type": "code",
      "metadata": {
        "id": "Li0czPsNMGtP"
      },
      "source": [
        "df_stats.to_csv(\"Q3_Statistics.csv\")"
      ],
      "execution_count": 219,
      "outputs": []
    }
  ]
}