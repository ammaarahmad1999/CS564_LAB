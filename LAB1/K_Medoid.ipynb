{
  "nbformat": 4,
  "nbformat_minor": 0,
  "metadata": {
    "colab": {
      "name": "K_Medoid.ipynb",
      "provenance": []
    },
    "kernelspec": {
      "name": "python3",
      "display_name": "Python 3"
    },
    "language_info": {
      "name": "python"
    }
  },
  "cells": [
    {
      "cell_type": "code",
      "metadata": {
        "id": "a_w69r9O0Ovv"
      },
      "source": [
        "import pandas as pd\n",
        "import numpy as np"
      ],
      "execution_count": 63,
      "outputs": []
    },
    {
      "cell_type": "code",
      "metadata": {
        "id": "8smRDC1P3MP2"
      },
      "source": [
        "import math"
      ],
      "execution_count": 64,
      "outputs": []
    },
    {
      "cell_type": "code",
      "metadata": {
        "id": "Ojjc43lI0hHN"
      },
      "source": [
        "%cp /content/drive/MyDrive/BR_mod.csv ./"
      ],
      "execution_count": 65,
      "outputs": []
    },
    {
      "cell_type": "code",
      "metadata": {
        "id": "H6G7qCiE0yRF"
      },
      "source": [
        "df = pd.read_csv(\"BR_mod.csv\")"
      ],
      "execution_count": 66,
      "outputs": []
    },
    {
      "cell_type": "code",
      "metadata": {
        "colab": {
          "base_uri": "https://localhost:8080/",
          "height": 439
        },
        "id": "VEVY9Cc805nC",
        "outputId": "708a37d5-68bd-484b-dbcc-ddc27fe5661e"
      },
      "source": [
        "df"
      ],
      "execution_count": 67,
      "outputs": [
        {
          "output_type": "execute_result",
          "data": {
            "text/html": [
              "<div>\n",
              "<style scoped>\n",
              "    .dataframe tbody tr th:only-of-type {\n",
              "        vertical-align: middle;\n",
              "    }\n",
              "\n",
              "    .dataframe tbody tr th {\n",
              "        vertical-align: top;\n",
              "    }\n",
              "\n",
              "    .dataframe thead th {\n",
              "        text-align: right;\n",
              "    }\n",
              "</style>\n",
              "<table border=\"1\" class=\"dataframe\">\n",
              "  <thead>\n",
              "    <tr style=\"text-align: right;\">\n",
              "      <th></th>\n",
              "      <th>patient.age_at_initial_pathologic_diagnosis</th>\n",
              "      <th>patient.anatomic_neoplasm_subdivisions.anatomic_neoplasm_subdivision</th>\n",
              "      <th>patient.axillary_lymph_node_stage_method_type</th>\n",
              "      <th>patient.breast_carcinoma_estrogen_receptor_status</th>\n",
              "      <th>patient.breast_carcinoma_progesterone_receptor_status</th>\n",
              "      <th>patient.breast_carcinoma_surgical_procedure_name</th>\n",
              "      <th>patient.gender</th>\n",
              "      <th>patient.histological_type</th>\n",
              "      <th>patient.history_of_neoadjuvant_treatment</th>\n",
              "      <th>patient.initial_pathologic_diagnosis_method</th>\n",
              "      <th>patient.lab_proc_her2_neu_immunohistochemistry_receptor_status</th>\n",
              "      <th>patient.lymph_node_examined_count</th>\n",
              "      <th>patient.margin_status</th>\n",
              "      <th>patient.menopause_status</th>\n",
              "      <th>patient.number_of_lymphnodes_positive_by_he</th>\n",
              "      <th>patient.other_dx</th>\n",
              "      <th>patient.person_neoplasm_cancer_status</th>\n",
              "      <th>patient.race_list.race</th>\n",
              "      <th>patient.stage_event.pathologic_stage</th>\n",
              "      <th>patient.stage_event.tnm_categories.pathologic_categories.pathologic_m</th>\n",
              "      <th>patient.stage_event.tnm_categories.pathologic_categories.pathologic_n</th>\n",
              "      <th>patient.stage_event.tnm_categories.pathologic_categories.pathologic_t</th>\n",
              "      <th>patient.tissue_prospective_collection_indicator</th>\n",
              "      <th>patient.tissue_source_site</th>\n",
              "    </tr>\n",
              "  </thead>\n",
              "  <tbody>\n",
              "    <tr>\n",
              "      <th>0</th>\n",
              "      <td>55</td>\n",
              "      <td>0.4</td>\n",
              "      <td>3.0</td>\n",
              "      <td>1.0</td>\n",
              "      <td>1.0</td>\n",
              "      <td>1.0</td>\n",
              "      <td>1</td>\n",
              "      <td>2.0</td>\n",
              "      <td>0.0</td>\n",
              "      <td>NaN</td>\n",
              "      <td>0.0</td>\n",
              "      <td>13.0</td>\n",
              "      <td>0.0</td>\n",
              "      <td>3.0</td>\n",
              "      <td>4.0</td>\n",
              "      <td>0.0</td>\n",
              "      <td>1.0</td>\n",
              "      <td>2.0</td>\n",
              "      <td>12.0</td>\n",
              "      <td>2</td>\n",
              "      <td>15</td>\n",
              "      <td>13</td>\n",
              "      <td>0.0</td>\n",
              "      <td>0</td>\n",
              "    </tr>\n",
              "    <tr>\n",
              "      <th>1</th>\n",
              "      <td>50</td>\n",
              "      <td>1.8</td>\n",
              "      <td>3.0</td>\n",
              "      <td>1.0</td>\n",
              "      <td>1.0</td>\n",
              "      <td>0.0</td>\n",
              "      <td>1</td>\n",
              "      <td>1.0</td>\n",
              "      <td>0.0</td>\n",
              "      <td>0.0</td>\n",
              "      <td>1.0</td>\n",
              "      <td>15.0</td>\n",
              "      <td>0.0</td>\n",
              "      <td>2.0</td>\n",
              "      <td>1.0</td>\n",
              "      <td>0.0</td>\n",
              "      <td>0.0</td>\n",
              "      <td>1.0</td>\n",
              "      <td>6.0</td>\n",
              "      <td>0</td>\n",
              "      <td>5</td>\n",
              "      <td>5</td>\n",
              "      <td>0.0</td>\n",
              "      <td>0</td>\n",
              "    </tr>\n",
              "    <tr>\n",
              "      <th>2</th>\n",
              "      <td>62</td>\n",
              "      <td>1.0</td>\n",
              "      <td>NaN</td>\n",
              "      <td>1.0</td>\n",
              "      <td>1.0</td>\n",
              "      <td>1.0</td>\n",
              "      <td>1</td>\n",
              "      <td>1.0</td>\n",
              "      <td>0.0</td>\n",
              "      <td>0.0</td>\n",
              "      <td>0.0</td>\n",
              "      <td>23.0</td>\n",
              "      <td>0.0</td>\n",
              "      <td>2.0</td>\n",
              "      <td>1.0</td>\n",
              "      <td>0.0</td>\n",
              "      <td>0.0</td>\n",
              "      <td>1.0</td>\n",
              "      <td>6.0</td>\n",
              "      <td>0</td>\n",
              "      <td>5</td>\n",
              "      <td>5</td>\n",
              "      <td>0.0</td>\n",
              "      <td>0</td>\n",
              "    </tr>\n",
              "    <tr>\n",
              "      <th>3</th>\n",
              "      <td>52</td>\n",
              "      <td>1.0</td>\n",
              "      <td>4.0</td>\n",
              "      <td>1.0</td>\n",
              "      <td>1.0</td>\n",
              "      <td>3.0</td>\n",
              "      <td>1</td>\n",
              "      <td>1.0</td>\n",
              "      <td>0.0</td>\n",
              "      <td>0.0</td>\n",
              "      <td>1.0</td>\n",
              "      <td>2.0</td>\n",
              "      <td>2.0</td>\n",
              "      <td>NaN</td>\n",
              "      <td>0.0</td>\n",
              "      <td>0.0</td>\n",
              "      <td>0.0</td>\n",
              "      <td>1.0</td>\n",
              "      <td>2.0</td>\n",
              "      <td>0</td>\n",
              "      <td>2</td>\n",
              "      <td>4</td>\n",
              "      <td>0.0</td>\n",
              "      <td>0</td>\n",
              "    </tr>\n",
              "    <tr>\n",
              "      <th>4</th>\n",
              "      <td>50</td>\n",
              "      <td>0.0</td>\n",
              "      <td>0.0</td>\n",
              "      <td>1.0</td>\n",
              "      <td>1.0</td>\n",
              "      <td>1.0</td>\n",
              "      <td>1</td>\n",
              "      <td>2.0</td>\n",
              "      <td>0.0</td>\n",
              "      <td>0.0</td>\n",
              "      <td>1.0</td>\n",
              "      <td>14.0</td>\n",
              "      <td>0.0</td>\n",
              "      <td>2.0</td>\n",
              "      <td>4.0</td>\n",
              "      <td>0.0</td>\n",
              "      <td>0.0</td>\n",
              "      <td>2.0</td>\n",
              "      <td>8.0</td>\n",
              "      <td>0</td>\n",
              "      <td>10</td>\n",
              "      <td>5</td>\n",
              "      <td>1.0</td>\n",
              "      <td>1</td>\n",
              "    </tr>\n",
              "    <tr>\n",
              "      <th>...</th>\n",
              "      <td>...</td>\n",
              "      <td>...</td>\n",
              "      <td>...</td>\n",
              "      <td>...</td>\n",
              "      <td>...</td>\n",
              "      <td>...</td>\n",
              "      <td>...</td>\n",
              "      <td>...</td>\n",
              "      <td>...</td>\n",
              "      <td>...</td>\n",
              "      <td>...</td>\n",
              "      <td>...</td>\n",
              "      <td>...</td>\n",
              "      <td>...</td>\n",
              "      <td>...</td>\n",
              "      <td>...</td>\n",
              "      <td>...</td>\n",
              "      <td>...</td>\n",
              "      <td>...</td>\n",
              "      <td>...</td>\n",
              "      <td>...</td>\n",
              "      <td>...</td>\n",
              "      <td>...</td>\n",
              "      <td>...</td>\n",
              "    </tr>\n",
              "    <tr>\n",
              "      <th>1092</th>\n",
              "      <td>77</td>\n",
              "      <td>0.0</td>\n",
              "      <td>1.0</td>\n",
              "      <td>1.0</td>\n",
              "      <td>1.0</td>\n",
              "      <td>0.0</td>\n",
              "      <td>1</td>\n",
              "      <td>2.0</td>\n",
              "      <td>0.0</td>\n",
              "      <td>0.0</td>\n",
              "      <td>0.0</td>\n",
              "      <td>4.0</td>\n",
              "      <td>0.0</td>\n",
              "      <td>2.0</td>\n",
              "      <td>0.0</td>\n",
              "      <td>0.0</td>\n",
              "      <td>0.0</td>\n",
              "      <td>2.0</td>\n",
              "      <td>2.0</td>\n",
              "      <td>2</td>\n",
              "      <td>1</td>\n",
              "      <td>4</td>\n",
              "      <td>0.0</td>\n",
              "      <td>37</td>\n",
              "    </tr>\n",
              "    <tr>\n",
              "      <th>1093</th>\n",
              "      <td>46</td>\n",
              "      <td>1.4</td>\n",
              "      <td>3.0</td>\n",
              "      <td>1.0</td>\n",
              "      <td>1.0</td>\n",
              "      <td>1.0</td>\n",
              "      <td>1</td>\n",
              "      <td>2.0</td>\n",
              "      <td>0.0</td>\n",
              "      <td>0.0</td>\n",
              "      <td>0.0</td>\n",
              "      <td>22.0</td>\n",
              "      <td>0.0</td>\n",
              "      <td>2.0</td>\n",
              "      <td>5.0</td>\n",
              "      <td>0.0</td>\n",
              "      <td>0.0</td>\n",
              "      <td>2.0</td>\n",
              "      <td>8.0</td>\n",
              "      <td>2</td>\n",
              "      <td>10</td>\n",
              "      <td>4</td>\n",
              "      <td>0.0</td>\n",
              "      <td>38</td>\n",
              "    </tr>\n",
              "    <tr>\n",
              "      <th>1094</th>\n",
              "      <td>68</td>\n",
              "      <td>0.8</td>\n",
              "      <td>NaN</td>\n",
              "      <td>1.0</td>\n",
              "      <td>1.0</td>\n",
              "      <td>3.0</td>\n",
              "      <td>1</td>\n",
              "      <td>2.0</td>\n",
              "      <td>0.0</td>\n",
              "      <td>0.0</td>\n",
              "      <td>0.0</td>\n",
              "      <td>11.0</td>\n",
              "      <td>0.0</td>\n",
              "      <td>2.0</td>\n",
              "      <td>0.0</td>\n",
              "      <td>0.0</td>\n",
              "      <td>0.0</td>\n",
              "      <td>2.0</td>\n",
              "      <td>6.0</td>\n",
              "      <td>2</td>\n",
              "      <td>0</td>\n",
              "      <td>8</td>\n",
              "      <td>0.0</td>\n",
              "      <td>38</td>\n",
              "    </tr>\n",
              "    <tr>\n",
              "      <th>1095</th>\n",
              "      <td>61</td>\n",
              "      <td>0.8</td>\n",
              "      <td>3.0</td>\n",
              "      <td>1.0</td>\n",
              "      <td>1.0</td>\n",
              "      <td>2.0</td>\n",
              "      <td>1</td>\n",
              "      <td>2.0</td>\n",
              "      <td>0.0</td>\n",
              "      <td>0.0</td>\n",
              "      <td>0.0</td>\n",
              "      <td>5.0</td>\n",
              "      <td>1.0</td>\n",
              "      <td>2.0</td>\n",
              "      <td>3.0</td>\n",
              "      <td>1.0</td>\n",
              "      <td>0.0</td>\n",
              "      <td>2.0</td>\n",
              "      <td>8.0</td>\n",
              "      <td>2</td>\n",
              "      <td>5</td>\n",
              "      <td>8</td>\n",
              "      <td>0.0</td>\n",
              "      <td>39</td>\n",
              "    </tr>\n",
              "    <tr>\n",
              "      <th>1096</th>\n",
              "      <td>46</td>\n",
              "      <td>0.8</td>\n",
              "      <td>3.0</td>\n",
              "      <td>1.0</td>\n",
              "      <td>1.0</td>\n",
              "      <td>0.0</td>\n",
              "      <td>1</td>\n",
              "      <td>2.0</td>\n",
              "      <td>0.0</td>\n",
              "      <td>6.0</td>\n",
              "      <td>0.0</td>\n",
              "      <td>2.0</td>\n",
              "      <td>0.0</td>\n",
              "      <td>3.0</td>\n",
              "      <td>0.0</td>\n",
              "      <td>0.0</td>\n",
              "      <td>0.0</td>\n",
              "      <td>2.0</td>\n",
              "      <td>1.0</td>\n",
              "      <td>0</td>\n",
              "      <td>0</td>\n",
              "      <td>4</td>\n",
              "      <td>0.0</td>\n",
              "      <td>39</td>\n",
              "    </tr>\n",
              "  </tbody>\n",
              "</table>\n",
              "<p>1097 rows × 24 columns</p>\n",
              "</div>"
            ],
            "text/plain": [
              "      patient.age_at_initial_pathologic_diagnosis  ...  patient.tissue_source_site\n",
              "0                                              55  ...                           0\n",
              "1                                              50  ...                           0\n",
              "2                                              62  ...                           0\n",
              "3                                              52  ...                           0\n",
              "4                                              50  ...                           1\n",
              "...                                           ...  ...                         ...\n",
              "1092                                           77  ...                          37\n",
              "1093                                           46  ...                          38\n",
              "1094                                           68  ...                          38\n",
              "1095                                           61  ...                          39\n",
              "1096                                           46  ...                          39\n",
              "\n",
              "[1097 rows x 24 columns]"
            ]
          },
          "metadata": {},
          "execution_count": 67
        }
      ]
    },
    {
      "cell_type": "code",
      "metadata": {
        "id": "vEYX_t0BCxmB",
        "colab": {
          "base_uri": "https://localhost:8080/"
        },
        "outputId": "aa4648db-d6cf-4ff8-c7b9-e03210562026"
      },
      "source": [
        "df.columns"
      ],
      "execution_count": 68,
      "outputs": [
        {
          "output_type": "execute_result",
          "data": {
            "text/plain": [
              "Index(['patient.age_at_initial_pathologic_diagnosis',\n",
              "       'patient.anatomic_neoplasm_subdivisions.anatomic_neoplasm_subdivision',\n",
              "       'patient.axillary_lymph_node_stage_method_type',\n",
              "       'patient.breast_carcinoma_estrogen_receptor_status',\n",
              "       'patient.breast_carcinoma_progesterone_receptor_status',\n",
              "       'patient.breast_carcinoma_surgical_procedure_name', 'patient.gender',\n",
              "       'patient.histological_type', 'patient.history_of_neoadjuvant_treatment',\n",
              "       'patient.initial_pathologic_diagnosis_method',\n",
              "       'patient.lab_proc_her2_neu_immunohistochemistry_receptor_status',\n",
              "       'patient.lymph_node_examined_count', 'patient.margin_status',\n",
              "       'patient.menopause_status',\n",
              "       'patient.number_of_lymphnodes_positive_by_he', 'patient.other_dx',\n",
              "       'patient.person_neoplasm_cancer_status', 'patient.race_list.race',\n",
              "       'patient.stage_event.pathologic_stage',\n",
              "       'patient.stage_event.tnm_categories.pathologic_categories.pathologic_m',\n",
              "       'patient.stage_event.tnm_categories.pathologic_categories.pathologic_n',\n",
              "       'patient.stage_event.tnm_categories.pathologic_categories.pathologic_t',\n",
              "       'patient.tissue_prospective_collection_indicator',\n",
              "       'patient.tissue_source_site'],\n",
              "      dtype='object')"
            ]
          },
          "metadata": {},
          "execution_count": 68
        }
      ]
    },
    {
      "cell_type": "code",
      "metadata": {
        "colab": {
          "base_uri": "https://localhost:8080/"
        },
        "id": "B07mU0l7CcK8",
        "outputId": "84025e30-ccd1-4a12-c057-a9521b48ade8"
      },
      "source": [
        "df.median()"
      ],
      "execution_count": 69,
      "outputs": [
        {
          "output_type": "execute_result",
          "data": {
            "text/plain": [
              "patient.age_at_initial_pathologic_diagnosis                              58.0\n",
              "patient.anatomic_neoplasm_subdivisions.anatomic_neoplasm_subdivision      0.8\n",
              "patient.axillary_lymph_node_stage_method_type                             3.0\n",
              "patient.breast_carcinoma_estrogen_receptor_status                         1.0\n",
              "patient.breast_carcinoma_progesterone_receptor_status                     1.0\n",
              "patient.breast_carcinoma_surgical_procedure_name                          1.0\n",
              "patient.gender                                                            1.0\n",
              "patient.histological_type                                                 1.0\n",
              "patient.history_of_neoadjuvant_treatment                                  0.0\n",
              "patient.initial_pathologic_diagnosis_method                               0.0\n",
              "patient.lab_proc_her2_neu_immunohistochemistry_receptor_status            0.0\n",
              "patient.lymph_node_examined_count                                         9.0\n",
              "patient.margin_status                                                     0.0\n",
              "patient.menopause_status                                                  2.0\n",
              "patient.number_of_lymphnodes_positive_by_he                               1.0\n",
              "patient.other_dx                                                          0.0\n",
              "patient.person_neoplasm_cancer_status                                     0.0\n",
              "patient.race_list.race                                                    2.0\n",
              "patient.stage_event.pathologic_stage                                      5.0\n",
              "patient.stage_event.tnm_categories.pathologic_categories.pathologic_m     0.0\n",
              "patient.stage_event.tnm_categories.pathologic_categories.pathologic_n     4.0\n",
              "patient.stage_event.tnm_categories.pathologic_categories.pathologic_t     5.0\n",
              "patient.tissue_prospective_collection_indicator                           0.0\n",
              "patient.tissue_source_site                                               14.0\n",
              "dtype: float64"
            ]
          },
          "metadata": {},
          "execution_count": 69
        }
      ]
    },
    {
      "cell_type": "code",
      "metadata": {
        "id": "KHM-8ISBBO1R"
      },
      "source": [
        "for column in df.columns:\n",
        "    df[column].fillna(df[column].median(), inplace=True)"
      ],
      "execution_count": 70,
      "outputs": []
    },
    {
      "cell_type": "code",
      "metadata": {
        "colab": {
          "base_uri": "https://localhost:8080/",
          "height": 439
        },
        "id": "uIuIPfdr_J6o",
        "outputId": "a2e6c409-4aca-46a8-e1af-4288200acfc7"
      },
      "source": [
        "df"
      ],
      "execution_count": 71,
      "outputs": [
        {
          "output_type": "execute_result",
          "data": {
            "text/html": [
              "<div>\n",
              "<style scoped>\n",
              "    .dataframe tbody tr th:only-of-type {\n",
              "        vertical-align: middle;\n",
              "    }\n",
              "\n",
              "    .dataframe tbody tr th {\n",
              "        vertical-align: top;\n",
              "    }\n",
              "\n",
              "    .dataframe thead th {\n",
              "        text-align: right;\n",
              "    }\n",
              "</style>\n",
              "<table border=\"1\" class=\"dataframe\">\n",
              "  <thead>\n",
              "    <tr style=\"text-align: right;\">\n",
              "      <th></th>\n",
              "      <th>patient.age_at_initial_pathologic_diagnosis</th>\n",
              "      <th>patient.anatomic_neoplasm_subdivisions.anatomic_neoplasm_subdivision</th>\n",
              "      <th>patient.axillary_lymph_node_stage_method_type</th>\n",
              "      <th>patient.breast_carcinoma_estrogen_receptor_status</th>\n",
              "      <th>patient.breast_carcinoma_progesterone_receptor_status</th>\n",
              "      <th>patient.breast_carcinoma_surgical_procedure_name</th>\n",
              "      <th>patient.gender</th>\n",
              "      <th>patient.histological_type</th>\n",
              "      <th>patient.history_of_neoadjuvant_treatment</th>\n",
              "      <th>patient.initial_pathologic_diagnosis_method</th>\n",
              "      <th>patient.lab_proc_her2_neu_immunohistochemistry_receptor_status</th>\n",
              "      <th>patient.lymph_node_examined_count</th>\n",
              "      <th>patient.margin_status</th>\n",
              "      <th>patient.menopause_status</th>\n",
              "      <th>patient.number_of_lymphnodes_positive_by_he</th>\n",
              "      <th>patient.other_dx</th>\n",
              "      <th>patient.person_neoplasm_cancer_status</th>\n",
              "      <th>patient.race_list.race</th>\n",
              "      <th>patient.stage_event.pathologic_stage</th>\n",
              "      <th>patient.stage_event.tnm_categories.pathologic_categories.pathologic_m</th>\n",
              "      <th>patient.stage_event.tnm_categories.pathologic_categories.pathologic_n</th>\n",
              "      <th>patient.stage_event.tnm_categories.pathologic_categories.pathologic_t</th>\n",
              "      <th>patient.tissue_prospective_collection_indicator</th>\n",
              "      <th>patient.tissue_source_site</th>\n",
              "    </tr>\n",
              "  </thead>\n",
              "  <tbody>\n",
              "    <tr>\n",
              "      <th>0</th>\n",
              "      <td>55</td>\n",
              "      <td>0.4</td>\n",
              "      <td>3.0</td>\n",
              "      <td>1.0</td>\n",
              "      <td>1.0</td>\n",
              "      <td>1.0</td>\n",
              "      <td>1</td>\n",
              "      <td>2.0</td>\n",
              "      <td>0.0</td>\n",
              "      <td>0.0</td>\n",
              "      <td>0.0</td>\n",
              "      <td>13.0</td>\n",
              "      <td>0.0</td>\n",
              "      <td>3.0</td>\n",
              "      <td>4.0</td>\n",
              "      <td>0.0</td>\n",
              "      <td>1.0</td>\n",
              "      <td>2.0</td>\n",
              "      <td>12.0</td>\n",
              "      <td>2</td>\n",
              "      <td>15</td>\n",
              "      <td>13</td>\n",
              "      <td>0.0</td>\n",
              "      <td>0</td>\n",
              "    </tr>\n",
              "    <tr>\n",
              "      <th>1</th>\n",
              "      <td>50</td>\n",
              "      <td>1.8</td>\n",
              "      <td>3.0</td>\n",
              "      <td>1.0</td>\n",
              "      <td>1.0</td>\n",
              "      <td>0.0</td>\n",
              "      <td>1</td>\n",
              "      <td>1.0</td>\n",
              "      <td>0.0</td>\n",
              "      <td>0.0</td>\n",
              "      <td>1.0</td>\n",
              "      <td>15.0</td>\n",
              "      <td>0.0</td>\n",
              "      <td>2.0</td>\n",
              "      <td>1.0</td>\n",
              "      <td>0.0</td>\n",
              "      <td>0.0</td>\n",
              "      <td>1.0</td>\n",
              "      <td>6.0</td>\n",
              "      <td>0</td>\n",
              "      <td>5</td>\n",
              "      <td>5</td>\n",
              "      <td>0.0</td>\n",
              "      <td>0</td>\n",
              "    </tr>\n",
              "    <tr>\n",
              "      <th>2</th>\n",
              "      <td>62</td>\n",
              "      <td>1.0</td>\n",
              "      <td>3.0</td>\n",
              "      <td>1.0</td>\n",
              "      <td>1.0</td>\n",
              "      <td>1.0</td>\n",
              "      <td>1</td>\n",
              "      <td>1.0</td>\n",
              "      <td>0.0</td>\n",
              "      <td>0.0</td>\n",
              "      <td>0.0</td>\n",
              "      <td>23.0</td>\n",
              "      <td>0.0</td>\n",
              "      <td>2.0</td>\n",
              "      <td>1.0</td>\n",
              "      <td>0.0</td>\n",
              "      <td>0.0</td>\n",
              "      <td>1.0</td>\n",
              "      <td>6.0</td>\n",
              "      <td>0</td>\n",
              "      <td>5</td>\n",
              "      <td>5</td>\n",
              "      <td>0.0</td>\n",
              "      <td>0</td>\n",
              "    </tr>\n",
              "    <tr>\n",
              "      <th>3</th>\n",
              "      <td>52</td>\n",
              "      <td>1.0</td>\n",
              "      <td>4.0</td>\n",
              "      <td>1.0</td>\n",
              "      <td>1.0</td>\n",
              "      <td>3.0</td>\n",
              "      <td>1</td>\n",
              "      <td>1.0</td>\n",
              "      <td>0.0</td>\n",
              "      <td>0.0</td>\n",
              "      <td>1.0</td>\n",
              "      <td>2.0</td>\n",
              "      <td>2.0</td>\n",
              "      <td>2.0</td>\n",
              "      <td>0.0</td>\n",
              "      <td>0.0</td>\n",
              "      <td>0.0</td>\n",
              "      <td>1.0</td>\n",
              "      <td>2.0</td>\n",
              "      <td>0</td>\n",
              "      <td>2</td>\n",
              "      <td>4</td>\n",
              "      <td>0.0</td>\n",
              "      <td>0</td>\n",
              "    </tr>\n",
              "    <tr>\n",
              "      <th>4</th>\n",
              "      <td>50</td>\n",
              "      <td>0.0</td>\n",
              "      <td>0.0</td>\n",
              "      <td>1.0</td>\n",
              "      <td>1.0</td>\n",
              "      <td>1.0</td>\n",
              "      <td>1</td>\n",
              "      <td>2.0</td>\n",
              "      <td>0.0</td>\n",
              "      <td>0.0</td>\n",
              "      <td>1.0</td>\n",
              "      <td>14.0</td>\n",
              "      <td>0.0</td>\n",
              "      <td>2.0</td>\n",
              "      <td>4.0</td>\n",
              "      <td>0.0</td>\n",
              "      <td>0.0</td>\n",
              "      <td>2.0</td>\n",
              "      <td>8.0</td>\n",
              "      <td>0</td>\n",
              "      <td>10</td>\n",
              "      <td>5</td>\n",
              "      <td>1.0</td>\n",
              "      <td>1</td>\n",
              "    </tr>\n",
              "    <tr>\n",
              "      <th>...</th>\n",
              "      <td>...</td>\n",
              "      <td>...</td>\n",
              "      <td>...</td>\n",
              "      <td>...</td>\n",
              "      <td>...</td>\n",
              "      <td>...</td>\n",
              "      <td>...</td>\n",
              "      <td>...</td>\n",
              "      <td>...</td>\n",
              "      <td>...</td>\n",
              "      <td>...</td>\n",
              "      <td>...</td>\n",
              "      <td>...</td>\n",
              "      <td>...</td>\n",
              "      <td>...</td>\n",
              "      <td>...</td>\n",
              "      <td>...</td>\n",
              "      <td>...</td>\n",
              "      <td>...</td>\n",
              "      <td>...</td>\n",
              "      <td>...</td>\n",
              "      <td>...</td>\n",
              "      <td>...</td>\n",
              "      <td>...</td>\n",
              "    </tr>\n",
              "    <tr>\n",
              "      <th>1092</th>\n",
              "      <td>77</td>\n",
              "      <td>0.0</td>\n",
              "      <td>1.0</td>\n",
              "      <td>1.0</td>\n",
              "      <td>1.0</td>\n",
              "      <td>0.0</td>\n",
              "      <td>1</td>\n",
              "      <td>2.0</td>\n",
              "      <td>0.0</td>\n",
              "      <td>0.0</td>\n",
              "      <td>0.0</td>\n",
              "      <td>4.0</td>\n",
              "      <td>0.0</td>\n",
              "      <td>2.0</td>\n",
              "      <td>0.0</td>\n",
              "      <td>0.0</td>\n",
              "      <td>0.0</td>\n",
              "      <td>2.0</td>\n",
              "      <td>2.0</td>\n",
              "      <td>2</td>\n",
              "      <td>1</td>\n",
              "      <td>4</td>\n",
              "      <td>0.0</td>\n",
              "      <td>37</td>\n",
              "    </tr>\n",
              "    <tr>\n",
              "      <th>1093</th>\n",
              "      <td>46</td>\n",
              "      <td>1.4</td>\n",
              "      <td>3.0</td>\n",
              "      <td>1.0</td>\n",
              "      <td>1.0</td>\n",
              "      <td>1.0</td>\n",
              "      <td>1</td>\n",
              "      <td>2.0</td>\n",
              "      <td>0.0</td>\n",
              "      <td>0.0</td>\n",
              "      <td>0.0</td>\n",
              "      <td>22.0</td>\n",
              "      <td>0.0</td>\n",
              "      <td>2.0</td>\n",
              "      <td>5.0</td>\n",
              "      <td>0.0</td>\n",
              "      <td>0.0</td>\n",
              "      <td>2.0</td>\n",
              "      <td>8.0</td>\n",
              "      <td>2</td>\n",
              "      <td>10</td>\n",
              "      <td>4</td>\n",
              "      <td>0.0</td>\n",
              "      <td>38</td>\n",
              "    </tr>\n",
              "    <tr>\n",
              "      <th>1094</th>\n",
              "      <td>68</td>\n",
              "      <td>0.8</td>\n",
              "      <td>3.0</td>\n",
              "      <td>1.0</td>\n",
              "      <td>1.0</td>\n",
              "      <td>3.0</td>\n",
              "      <td>1</td>\n",
              "      <td>2.0</td>\n",
              "      <td>0.0</td>\n",
              "      <td>0.0</td>\n",
              "      <td>0.0</td>\n",
              "      <td>11.0</td>\n",
              "      <td>0.0</td>\n",
              "      <td>2.0</td>\n",
              "      <td>0.0</td>\n",
              "      <td>0.0</td>\n",
              "      <td>0.0</td>\n",
              "      <td>2.0</td>\n",
              "      <td>6.0</td>\n",
              "      <td>2</td>\n",
              "      <td>0</td>\n",
              "      <td>8</td>\n",
              "      <td>0.0</td>\n",
              "      <td>38</td>\n",
              "    </tr>\n",
              "    <tr>\n",
              "      <th>1095</th>\n",
              "      <td>61</td>\n",
              "      <td>0.8</td>\n",
              "      <td>3.0</td>\n",
              "      <td>1.0</td>\n",
              "      <td>1.0</td>\n",
              "      <td>2.0</td>\n",
              "      <td>1</td>\n",
              "      <td>2.0</td>\n",
              "      <td>0.0</td>\n",
              "      <td>0.0</td>\n",
              "      <td>0.0</td>\n",
              "      <td>5.0</td>\n",
              "      <td>1.0</td>\n",
              "      <td>2.0</td>\n",
              "      <td>3.0</td>\n",
              "      <td>1.0</td>\n",
              "      <td>0.0</td>\n",
              "      <td>2.0</td>\n",
              "      <td>8.0</td>\n",
              "      <td>2</td>\n",
              "      <td>5</td>\n",
              "      <td>8</td>\n",
              "      <td>0.0</td>\n",
              "      <td>39</td>\n",
              "    </tr>\n",
              "    <tr>\n",
              "      <th>1096</th>\n",
              "      <td>46</td>\n",
              "      <td>0.8</td>\n",
              "      <td>3.0</td>\n",
              "      <td>1.0</td>\n",
              "      <td>1.0</td>\n",
              "      <td>0.0</td>\n",
              "      <td>1</td>\n",
              "      <td>2.0</td>\n",
              "      <td>0.0</td>\n",
              "      <td>6.0</td>\n",
              "      <td>0.0</td>\n",
              "      <td>2.0</td>\n",
              "      <td>0.0</td>\n",
              "      <td>3.0</td>\n",
              "      <td>0.0</td>\n",
              "      <td>0.0</td>\n",
              "      <td>0.0</td>\n",
              "      <td>2.0</td>\n",
              "      <td>1.0</td>\n",
              "      <td>0</td>\n",
              "      <td>0</td>\n",
              "      <td>4</td>\n",
              "      <td>0.0</td>\n",
              "      <td>39</td>\n",
              "    </tr>\n",
              "  </tbody>\n",
              "</table>\n",
              "<p>1097 rows × 24 columns</p>\n",
              "</div>"
            ],
            "text/plain": [
              "      patient.age_at_initial_pathologic_diagnosis  ...  patient.tissue_source_site\n",
              "0                                              55  ...                           0\n",
              "1                                              50  ...                           0\n",
              "2                                              62  ...                           0\n",
              "3                                              52  ...                           0\n",
              "4                                              50  ...                           1\n",
              "...                                           ...  ...                         ...\n",
              "1092                                           77  ...                          37\n",
              "1093                                           46  ...                          38\n",
              "1094                                           68  ...                          38\n",
              "1095                                           61  ...                          39\n",
              "1096                                           46  ...                          39\n",
              "\n",
              "[1097 rows x 24 columns]"
            ]
          },
          "metadata": {},
          "execution_count": 71
        }
      ]
    },
    {
      "cell_type": "code",
      "metadata": {
        "id": "zTQ8-pNuRhOn"
      },
      "source": [
        "data = df.to_numpy()"
      ],
      "execution_count": 72,
      "outputs": []
    },
    {
      "cell_type": "code",
      "metadata": {
        "colab": {
          "base_uri": "https://localhost:8080/"
        },
        "id": "bepmO-ZlS8LC",
        "outputId": "628c9b85-69f0-4c30-fdaf-8170d40ce28a"
      },
      "source": [
        "type(data)"
      ],
      "execution_count": 73,
      "outputs": [
        {
          "output_type": "execute_result",
          "data": {
            "text/plain": [
              "numpy.ndarray"
            ]
          },
          "metadata": {},
          "execution_count": 73
        }
      ]
    },
    {
      "cell_type": "code",
      "metadata": {
        "colab": {
          "base_uri": "https://localhost:8080/"
        },
        "id": "bLi1cfIAS0m6",
        "outputId": "75a8ce25-1e38-4e0d-9b6f-a5f246772e05"
      },
      "source": [
        "length = data.shape[0]\n",
        "print(length)"
      ],
      "execution_count": 74,
      "outputs": [
        {
          "output_type": "stream",
          "text": [
            "1097\n"
          ],
          "name": "stdout"
        }
      ]
    },
    {
      "cell_type": "code",
      "metadata": {
        "colab": {
          "base_uri": "https://localhost:8080/"
        },
        "id": "Pxrq3NApki2P",
        "outputId": "d019c164-76f7-45f3-adc0-ff16adebaada"
      },
      "source": [
        "k_values = np.arange(2, 11, 1)\n",
        "print(k_values)\n",
        "cost_values = []"
      ],
      "execution_count": 85,
      "outputs": [
        {
          "output_type": "stream",
          "text": [
            "[ 2  3  4  5  6  7  8  9 10]\n"
          ],
          "name": "stdout"
        }
      ]
    },
    {
      "cell_type": "code",
      "metadata": {
        "id": "UO3WTdeKsHpn"
      },
      "source": [
        "def cost_cal(centroid, Z):                  # Calculating the euclidian distance to find cost for particular cluster\n",
        "  cost = 0\n",
        "  for i, x in enumerate(data):\n",
        "    j = int (Z[i])\n",
        "    y = centroid[j]\n",
        "    cost += np.linalg.norm(y - x)\n",
        "  return cost"
      ],
      "execution_count": 76,
      "outputs": []
    },
    {
      "cell_type": "code",
      "metadata": {
        "id": "mC9_o9ltu7kq"
      },
      "source": [
        "def cluster(centroid, K):                   # Function to find the cluster with given K centroid\n",
        "  Y = np.zeros(length)\n",
        "  for i, x in enumerate(data):\n",
        "      dist = np.zeros(K)\n",
        "      for j, y in enumerate(centroid):\n",
        "        dist[j] = np.linalg.norm(y - x)\n",
        "      Y[i] = np.argmin(dist)\n",
        "  return Y  "
      ],
      "execution_count": 77,
      "outputs": []
    },
    {
      "cell_type": "code",
      "metadata": {
        "id": "VpmmnBQCXFk3"
      },
      "source": [
        "def K_mediod_clustering(K = 2):\n",
        "  \n",
        "  centroid = (df.sample(n=K)).to_numpy()    # Randomly select K centroid\n",
        "  Y = cluster(centroid, K)  \n",
        "  cost = cost_cal(centroid, Y)\n",
        "  iter = 0\n",
        "  while (1):                                # Run to find minimum cost\n",
        "    change = False\n",
        "    for i, x in enumerate(data):            # Changing medoid to one of non-medoid data points\n",
        "      new_centroid = centroid             \n",
        "      if x.tolist() in centroid.tolist():   # If data point is already a medoid\n",
        "        continue\n",
        "      z = int(Y[i])                         \n",
        "      new_centroid[z] = x\n",
        "      Z = cluster(new_centroid, K)          # Finding clusters with new medoid\n",
        "      new_cost = cost_cal(new_centroid, Z)  # New Cost\n",
        "      iter += 1\n",
        "      if(iter%1000==0):\n",
        "        print(iter)\n",
        "      if (new_cost < cost):                 # If new cost is less than original cost\n",
        "        cost = new_cost\n",
        "        Y = Z\n",
        "        centroid = new_centroid             # New Centroid\n",
        "        change = True\n",
        "        break\n",
        "    if change == False:                     # If no change in last iteration of data point then minimum cost is found\n",
        "      break\n",
        "  #print(iter)                              # Printing No. of iterations taken to find minimum cost\n",
        "  \n",
        "  cost_values.append(cost)\n",
        "  return Y, cost, centroid"
      ],
      "execution_count": 81,
      "outputs": []
    },
    {
      "cell_type": "code",
      "metadata": {
        "colab": {
          "base_uri": "https://localhost:8080/"
        },
        "id": "qlnJjvcDDc1y",
        "outputId": "a9bef414-1dda-434f-822a-8520d93c382d"
      },
      "source": [
        "for k in k_values:\n",
        "  K_mediod_clustering(k)"
      ],
      "execution_count": 86,
      "outputs": [
        {
          "output_type": "stream",
          "text": [
            "1000\n",
            "2000\n",
            "3000\n",
            "4000\n",
            "4589\n",
            "1000\n",
            "2000\n",
            "3000\n",
            "4000\n",
            "4960\n",
            "1000\n",
            "2000\n",
            "3000\n",
            "4000\n",
            "5000\n",
            "6000\n",
            "6720\n",
            "1000\n",
            "2000\n",
            "3000\n",
            "4000\n",
            "5000\n",
            "5769\n",
            "1000\n",
            "2000\n",
            "3000\n",
            "4000\n",
            "5000\n",
            "6000\n",
            "7000\n",
            "8000\n",
            "8046\n",
            "1000\n",
            "2000\n",
            "3000\n",
            "4000\n",
            "5000\n",
            "5756\n",
            "1000\n",
            "2000\n",
            "3000\n",
            "4000\n",
            "5000\n",
            "6000\n",
            "7000\n",
            "8000\n",
            "9000\n",
            "9623\n",
            "1000\n",
            "2000\n",
            "3000\n",
            "4000\n",
            "5000\n",
            "6000\n",
            "6074\n",
            "1000\n",
            "2000\n",
            "3000\n",
            "4000\n",
            "5000\n",
            "5344\n"
          ],
          "name": "stdout"
        }
      ]
    },
    {
      "cell_type": "code",
      "metadata": {
        "colab": {
          "base_uri": "https://localhost:8080/",
          "height": 295
        },
        "id": "Ha1ItDaji9is",
        "outputId": "35844140-6e94-4ed6-b4b6-a7c9ee1b4e61"
      },
      "source": [
        "import matplotlib.pyplot as plt\n",
        "plt.plot(k_values, cost_values, 'bx-')\n",
        "plt.xlabel('Values of K')\n",
        "plt.ylabel('Cost')\n",
        "plt.title('The Elbow Method using Cost')\n",
        "plt.show()"
      ],
      "execution_count": 87,
      "outputs": [
        {
          "output_type": "display_data",
          "data": {
            "image/png": "[encoded data removed]",
            "text/plain": [
              "<Figure size 432x288 with 1 Axes>"
            ]
          },
          "metadata": {
            "needs_background": "light"
          }
        }
      ]
    },
    {
      "cell_type": "code",
      "metadata": {
        "colab": {
          "base_uri": "https://localhost:8080/"
        },
        "id": "kCF1oOhM1neJ",
        "outputId": "a24939f4-72d2-447f-b30d-21f5f67c2859"
      },
      "source": [
        "Y, cost, centroid = K_mediod_clustering(7)\n",
        "print(Y)\n",
        "print(cost)\n",
        "print(centroid)"
      ],
      "execution_count": 89,
      "outputs": [
        {
          "output_type": "stream",
          "text": [
            "1000\n",
            "2000\n",
            "3000\n",
            "4000\n",
            "5000\n",
            "6000\n",
            "7000\n",
            "7656\n",
            "[1. 1. 0. ... 2. 2. 3.]\n",
            "12792.888511045756\n",
            "[[72.   1.6  3.   1.   1.   1.   1.   2.   0.   0.   1.  31.   0.   2.\n",
            "   5.   0.   0.   2.   8.   0.  10.   5.   0.  30. ]\n",
            " [29.   0.   0.   1.   1.   3.   1.   1.   0.   0.   1.  21.   0.   2.\n",
            "  14.   0.   0.   1.  10.   2.  12.   8.   1.  32. ]\n",
            " [61.   0.8  3.   1.   1.   2.   1.   2.   0.   0.   0.   5.   1.   2.\n",
            "   3.   1.   0.   2.   8.   2.   5.   8.   0.  39. ]\n",
            " [46.   0.8  3.   1.   1.   0.   1.   2.   0.   6.   0.   2.   0.   3.\n",
            "   0.   0.   0.   2.   1.   0.   0.   4.   0.  39. ]\n",
            " [80.   1.8  4.   1.   1.   0.   1.   2.   0.   0.   0.   4.   0.   2.\n",
            "   0.   0.   0.   2.   1.   2.   0.   4.   0.  29. ]\n",
            " [61.   1.   4.   1.   0.   0.   1.   1.   0.   0.   0.   3.   0.   2.\n",
            "   0.   0.   0.   1.   5.   2.   1.   5.   1.  25. ]\n",
            " [77.   1.8  0.   1.   1.   1.   1.   1.   0.   0.   0.  18.   0.   2.\n",
            "   7.   0.   0.   1.   8.   2.  10.   5.   1.  25. ]]\n"
          ],
          "name": "stdout"
        }
      ]
    },
    {
      "cell_type": "code",
      "metadata": {
        "id": "bjiS_7K2mCLv"
      },
      "source": [
        "def find(x):\n",
        "  org = x\n",
        "  while (clusters[x] != x):\n",
        "    x = clusters[x]\n",
        "  par = x\n",
        "  x = org \n",
        "  while (clusters[x] != par):\n",
        "    clusters[x] = par\n",
        "    x = clusters[x]\n",
        "  return par"
      ],
      "execution_count": 96,
      "outputs": []
    },
    {
      "cell_type": "code",
      "metadata": {
        "id": "u0Gv0SMlmOGp"
      },
      "source": [
        "clusters = [1, 1, 2, 4, 5, 6, 1, 8, 9, 10]"
      ],
      "execution_count": 97,
      "outputs": []
    },
    {
      "cell_type": "code",
      "metadata": {
        "colab": {
          "base_uri": "https://localhost:8080/"
        },
        "id": "ng8HJow_mV4I",
        "outputId": "23fc5de8-c14c-4b30-9645-547e474decae"
      },
      "source": [
        "find(6)"
      ],
      "execution_count": 98,
      "outputs": [
        {
          "output_type": "execute_result",
          "data": {
            "text/plain": [
              "1"
            ]
          },
          "metadata": {},
          "execution_count": 98
        }
      ]
    },
    {
      "cell_type": "code",
      "metadata": {
        "colab": {
          "base_uri": "https://localhost:8080/"
        },
        "id": "w2dw58ZQ3AVK",
        "outputId": "5789193c-88e4-46e9-f906-654dac7aa41b"
      },
      "source": [
        "print(centroid)"
      ],
      "execution_count": 36,
      "outputs": [
        {
          "output_type": "stream",
          "text": [
            "[[51.   0.8  0.   1.   0.   0.   1.   1.   0.   0.   1.  19.   1.   2.\n",
            "  17.   0.   0.   2.  10.   2.  11.   5.   1.  18. ]\n",
            " [71.   0.8  0.   1.   1.   1.   1.   1.   0.   6.   1.  14.   0.   2.\n",
            "   0.   0.   0.   2.   5.   0.   0.   5.   0.   9. ]]\n"
          ],
          "name": "stdout"
        }
      ]
    },
    {
      "cell_type": "code",
      "metadata": {
        "colab": {
          "base_uri": "https://localhost:8080/"
        },
        "id": "Bwudf50q3F8U",
        "outputId": "04c3cad6-ad42-46fa-be0c-3464de1ad0d9"
      },
      "source": [
        "print(centroid)"
      ],
      "execution_count": 61,
      "outputs": [
        {
          "output_type": "stream",
          "text": [
            "[[68.   0.8  3.   1.   1.   3.   1.   2.   0.   0.   0.  11.   0.   2.\n",
            "   0.   0.   0.   2.   6.   2.   0.   8.   0.  38. ]\n",
            " [46.   0.8  3.   1.   1.   0.   1.   2.   0.   6.   0.   2.   0.   3.\n",
            "   0.   0.   0.   2.   1.   0.   0.   4.   0.  39. ]]\n"
          ],
          "name": "stdout"
        }
      ]
    }
  ]
}