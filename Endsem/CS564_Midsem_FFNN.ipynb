{
  "nbformat": 4,
  "nbformat_minor": 0,
  "metadata": {
    "colab": {
      "name": "CS564_Midsem_FFNN.ipynb",
      "provenance": []
    },
    "kernelspec": {
      "name": "python3",
      "display_name": "Python 3"
    },
    "language_info": {
      "name": "python"
    }
  },
  "cells": [
    {
      "cell_type": "code",
      "metadata": {
        "id": "lRww3eAFxFT4"
      },
      "source": [
        "import numpy as np\n",
        "import pandas as pd\n",
        "import torch\n",
        "import random\n",
        "import torch.nn as nn\n",
        "import re\n",
        "import tensorflow as tf"
      ],
      "execution_count": 1,
      "outputs": []
    },
    {
      "cell_type": "code",
      "metadata": {
        "id": "1H2LZh9yw-RS"
      },
      "source": [
        "import math\n",
        "import matplotlib.pyplot as plt"
      ],
      "execution_count": 2,
      "outputs": []
    },
    {
      "cell_type": "code",
      "metadata": {
        "id": "C7GCeJiB1lRQ"
      },
      "source": [
        "import warnings\n",
        "warnings.filterwarnings(\"ignore\")"
      ],
      "execution_count": 3,
      "outputs": []
    },
    {
      "cell_type": "code",
      "metadata": {
        "id": "fCG9xElzh8Aa",
        "colab": {
          "base_uri": "https://localhost:8080/"
        },
        "outputId": "76106782-00b5-440c-d5e4-68e906131414"
      },
      "source": [
        "import nltk\n",
        "nltk.download('stopwords')\n",
        "from nltk.corpus import stopwords\n",
        "from nltk.tokenize import word_tokenize\n",
        "STOPWORDS = set(stopwords.words('english'))"
      ],
      "execution_count": 4,
      "outputs": [
        {
          "output_type": "stream",
          "name": "stdout",
          "text": [
            "[nltk_data] Downloading package stopwords to /root/nltk_data...\n",
            "[nltk_data]   Unzipping corpora/stopwords.zip.\n"
          ]
        }
      ]
    },
    {
      "cell_type": "code",
      "metadata": {
        "id": "84rEXVuxl3rP"
      },
      "source": [
        "from keras.models import Sequential\n",
        "from keras.layers import Dense, Dropout\n",
        "from keras.layers import LSTM, RNN, Flatten\n",
        "from keras.layers.embeddings import Embedding\n",
        "from keras.preprocessing import sequence\n",
        "from keras.preprocessing.text import Tokenizer\n",
        "from keras.preprocessing.sequence import pad_sequences"
      ],
      "execution_count": 5,
      "outputs": []
    },
    {
      "cell_type": "code",
      "metadata": {
        "id": "zkcjyKFhdQnA"
      },
      "source": [
        "from sklearn.metrics import accuracy_score\n",
        "from sklearn.metrics import classification_report\n",
        "from sklearn.metrics import confusion_matrix"
      ],
      "execution_count": 6,
      "outputs": []
    },
    {
      "cell_type": "code",
      "metadata": {
        "id": "nmOngxvWg8mQ"
      },
      "source": [
        "seed_val = 1\n",
        "random.seed(seed_val)\n",
        "np.random.seed(seed_val)\n",
        "torch.manual_seed(seed_val)\n",
        "torch.cuda.manual_seed_all(seed_val)"
      ],
      "execution_count": 7,
      "outputs": []
    },
    {
      "cell_type": "code",
      "metadata": {
        "id": "jOH0Ua4Fch3Y"
      },
      "source": [
        "df = pd.read_csv(\"https://raw.githubusercontent.com/ammaarahmad1999/Time_Series_Dataset/main/bbc.csv\", index_col=0)"
      ],
      "execution_count": 8,
      "outputs": []
    },
    {
      "cell_type": "code",
      "metadata": {
        "id": "fla0dGHkiIMi"
      },
      "source": [
        "label_dict = {'business': 0, 'entertainment' : 1, 'politics' : 2, 'sport' : 3, 'tech' : 4}"
      ],
      "execution_count": 9,
      "outputs": []
    },
    {
      "cell_type": "code",
      "metadata": {
        "id": "BKV7yiv2ifZY"
      },
      "source": [
        "df['labels'] = df['Class'].replace(label_dict)"
      ],
      "execution_count": 10,
      "outputs": []
    },
    {
      "cell_type": "code",
      "metadata": {
        "id": "aLRPU1sZuqsK"
      },
      "source": [
        "vocabulary = set()"
      ],
      "execution_count": 11,
      "outputs": []
    },
    {
      "cell_type": "code",
      "metadata": {
        "id": "BhJMhxuukhmo"
      },
      "source": [
        "accuracy_models = dict()"
      ],
      "execution_count": 12,
      "outputs": []
    },
    {
      "cell_type": "markdown",
      "metadata": {
        "id": "xOkWxf_2jlRH"
      },
      "source": [
        "#Data Preprocessing"
      ]
    },
    {
      "cell_type": "code",
      "metadata": {
        "id": "c603im52jLkq"
      },
      "source": [
        "def cleaning(text):\n",
        "  line = re.sub('[^A-Za-z0-9]+', ' ', text)\n",
        "  tokens = line.split()\n",
        "  tokens = [w for w in tokens if not w.lower() in STOPWORDS]\n",
        "  text = \" \".join(tokens)\n",
        "  for word in tokens:\n",
        "    vocabulary.add(word)\n",
        "  return text\n",
        "def length(text):\n",
        "  return len(text.split())\n",
        "df['text'] = df['Article'].apply(cleaning)\n",
        "df['length'] = df['text'].apply(length)"
      ],
      "execution_count": 13,
      "outputs": []
    },
    {
      "cell_type": "code",
      "metadata": {
        "id": "DDa2N61UjjRa"
      },
      "source": [
        "df = df.sample(frac = 1, random_state = 1)"
      ],
      "execution_count": 14,
      "outputs": []
    },
    {
      "cell_type": "code",
      "metadata": {
        "id": "SsFFm4UcAzId"
      },
      "source": [
        "df.reset_index(drop = True, inplace = True)"
      ],
      "execution_count": 15,
      "outputs": []
    },
    {
      "cell_type": "code",
      "metadata": {
        "colab": {
          "base_uri": "https://localhost:8080/",
          "height": 424
        },
        "id": "tVdM_x5xBJQA",
        "outputId": "6a13355f-5bea-4ffa-cb68-10b642b3b790"
      },
      "source": [
        "df"
      ],
      "execution_count": 16,
      "outputs": [
        {
          "output_type": "execute_result",
          "data": {
            "text/html": [
              "<div>\n",
              "<style scoped>\n",
              "    .dataframe tbody tr th:only-of-type {\n",
              "        vertical-align: middle;\n",
              "    }\n",
              "\n",
              "    .dataframe tbody tr th {\n",
              "        vertical-align: top;\n",
              "    }\n",
              "\n",
              "    .dataframe thead th {\n",
              "        text-align: right;\n",
              "    }\n",
              "</style>\n",
              "<table border=\"1\" class=\"dataframe\">\n",
              "  <thead>\n",
              "    <tr style=\"text-align: right;\">\n",
              "      <th></th>\n",
              "      <th>Article</th>\n",
              "      <th>Class</th>\n",
              "      <th>labels</th>\n",
              "      <th>text</th>\n",
              "      <th>length</th>\n",
              "    </tr>\n",
              "  </thead>\n",
              "  <tbody>\n",
              "    <tr>\n",
              "      <th>0</th>\n",
              "      <td>Cactus diet deal for Phytopharm\\n\\nA slimming ...</td>\n",
              "      <td>business</td>\n",
              "      <td>0</td>\n",
              "      <td>Cactus diet deal Phytopharm slimming aid made ...</td>\n",
              "      <td>143</td>\n",
              "    </tr>\n",
              "    <tr>\n",
              "      <th>1</th>\n",
              "      <td>Winter freeze keeps oil above $50\\n\\nOil price...</td>\n",
              "      <td>business</td>\n",
              "      <td>0</td>\n",
              "      <td>Winter freeze keeps oil 50 Oil prices carried ...</td>\n",
              "      <td>201</td>\n",
              "    </tr>\n",
              "    <tr>\n",
              "      <th>2</th>\n",
              "      <td>Mobiles rack up 20 years of use\\n\\nMobile phon...</td>\n",
              "      <td>tech</td>\n",
              "      <td>4</td>\n",
              "      <td>Mobiles rack 20 years use Mobile phones UK cel...</td>\n",
              "      <td>255</td>\n",
              "    </tr>\n",
              "    <tr>\n",
              "      <th>3</th>\n",
              "      <td>Giving financial gifts to children\\n\\nYour chi...</td>\n",
              "      <td>business</td>\n",
              "      <td>0</td>\n",
              "      <td>Giving financial gifts children child grandchi...</td>\n",
              "      <td>436</td>\n",
              "    </tr>\n",
              "    <tr>\n",
              "      <th>4</th>\n",
              "      <td>Bank payout to Pinochet victims\\n\\nA US bank h...</td>\n",
              "      <td>business</td>\n",
              "      <td>0</td>\n",
              "      <td>Bank payout Pinochet victims US bank said dona...</td>\n",
              "      <td>184</td>\n",
              "    </tr>\n",
              "    <tr>\n",
              "      <th>...</th>\n",
              "      <td>...</td>\n",
              "      <td>...</td>\n",
              "      <td>...</td>\n",
              "      <td>...</td>\n",
              "      <td>...</td>\n",
              "    </tr>\n",
              "    <tr>\n",
              "      <th>1907</th>\n",
              "      <td>Crucial decision on super-casinos\\n\\nA decisio...</td>\n",
              "      <td>politics</td>\n",
              "      <td>2</td>\n",
              "      <td>Crucial decision super casinos decision whethe...</td>\n",
              "      <td>108</td>\n",
              "    </tr>\n",
              "    <tr>\n",
              "      <th>1908</th>\n",
              "      <td>Cyber crime booms in 2004\\n\\nThe last 12 month...</td>\n",
              "      <td>tech</td>\n",
              "      <td>4</td>\n",
              "      <td>Cyber crime booms 2004 last 12 months seen dra...</td>\n",
              "      <td>471</td>\n",
              "    </tr>\n",
              "    <tr>\n",
              "      <th>1909</th>\n",
              "      <td>Howard rejects BNP's claim\\n\\nTory leader Mich...</td>\n",
              "      <td>politics</td>\n",
              "      <td>2</td>\n",
              "      <td>Howard rejects BNP claim Tory leader Michael H...</td>\n",
              "      <td>184</td>\n",
              "    </tr>\n",
              "    <tr>\n",
              "      <th>1910</th>\n",
              "      <td>Card fraudsters 'targeting web'\\n\\nNew safegua...</td>\n",
              "      <td>business</td>\n",
              "      <td>0</td>\n",
              "      <td>Card fraudsters targeting web New safeguards c...</td>\n",
              "      <td>248</td>\n",
              "    </tr>\n",
              "    <tr>\n",
              "      <th>1911</th>\n",
              "      <td>Blunkett tells of love and pain\\n\\nDavid Blunk...</td>\n",
              "      <td>politics</td>\n",
              "      <td>2</td>\n",
              "      <td>Blunkett tells love pain David Blunkett spoken...</td>\n",
              "      <td>209</td>\n",
              "    </tr>\n",
              "  </tbody>\n",
              "</table>\n",
              "<p>1912 rows × 5 columns</p>\n",
              "</div>"
            ],
            "text/plain": [
              "                                                Article  ... length\n",
              "0     Cactus diet deal for Phytopharm\\n\\nA slimming ...  ...    143\n",
              "1     Winter freeze keeps oil above $50\\n\\nOil price...  ...    201\n",
              "2     Mobiles rack up 20 years of use\\n\\nMobile phon...  ...    255\n",
              "3     Giving financial gifts to children\\n\\nYour chi...  ...    436\n",
              "4     Bank payout to Pinochet victims\\n\\nA US bank h...  ...    184\n",
              "...                                                 ...  ...    ...\n",
              "1907  Crucial decision on super-casinos\\n\\nA decisio...  ...    108\n",
              "1908  Cyber crime booms in 2004\\n\\nThe last 12 month...  ...    471\n",
              "1909  Howard rejects BNP's claim\\n\\nTory leader Mich...  ...    184\n",
              "1910  Card fraudsters 'targeting web'\\n\\nNew safegua...  ...    248\n",
              "1911  Blunkett tells of love and pain\\n\\nDavid Blunk...  ...    209\n",
              "\n",
              "[1912 rows x 5 columns]"
            ]
          },
          "metadata": {},
          "execution_count": 16
        }
      ]
    },
    {
      "cell_type": "code",
      "metadata": {
        "id": "w2toZwW8dfJP"
      },
      "source": [
        "vocab_size = len(vocabulary)\n",
        "embedding_dim = 100\n",
        "max_length = 512\n",
        "trunc_type = 'post'\n",
        "padding_type = 'post'\n",
        "oov_tok = '<OOV>'"
      ],
      "execution_count": 29,
      "outputs": []
    },
    {
      "cell_type": "code",
      "metadata": {
        "id": "XRzTnjS6do3h"
      },
      "source": [
        "train_size = math.ceil(0.7 * len(df))\n",
        "valid_size = math.ceil(0.8 * len(df))"
      ],
      "execution_count": 30,
      "outputs": []
    },
    {
      "cell_type": "code",
      "metadata": {
        "id": "OKZHOTrIdsbI"
      },
      "source": [
        "df_test = df[valid_size:]\n",
        "df_test.to_csv(\"Test_Data.csv\", index = None)"
      ],
      "execution_count": 19,
      "outputs": []
    },
    {
      "cell_type": "code",
      "metadata": {
        "id": "ehzyAlpXvgxL"
      },
      "source": [
        "X_train = df['text'][0:train_size]\n",
        "X_valid = df['text'][train_size:valid_size]\n",
        "X_test  = df['text'][valid_size:]\n",
        "Y_train = pd.get_dummies(df['labels'][0:train_size]).values\n",
        "Y_valid = pd.get_dummies(df['labels'][train_size:valid_size]).values\n",
        "Y_test  = pd.get_dummies(df['labels'][valid_size:]).values"
      ],
      "execution_count": 31,
      "outputs": []
    },
    {
      "cell_type": "code",
      "metadata": {
        "id": "lO7FMOR2xBlo"
      },
      "source": [
        "tokenizer = Tokenizer(num_words = vocab_size, oov_token=oov_tok)\n",
        "tokenizer.fit_on_texts(X_train)"
      ],
      "execution_count": 32,
      "outputs": []
    },
    {
      "cell_type": "code",
      "metadata": {
        "id": "5woxO7-l2Mk9"
      },
      "source": [
        "X_train = tokenizer.texts_to_sequences(X_train)\n",
        "X_valid = tokenizer.texts_to_sequences(X_valid)\n",
        "X_test = tokenizer.texts_to_sequences(X_test)"
      ],
      "execution_count": 33,
      "outputs": []
    },
    {
      "cell_type": "code",
      "metadata": {
        "id": "Ghc3sAxX10lR"
      },
      "source": [
        "X_train = pad_sequences(X_train, maxlen=max_length)\n",
        "X_valid = pad_sequences(X_valid, maxlen=max_length)\n",
        "X_test = pad_sequences(X_test, maxlen=max_length)"
      ],
      "execution_count": 34,
      "outputs": []
    },
    {
      "cell_type": "code",
      "metadata": {
        "id": "7FWEQK842uTA"
      },
      "source": [
        "label_tokenizer = Tokenizer()\n",
        "label_tokenizer.fit_on_texts(df['Class'])"
      ],
      "execution_count": 35,
      "outputs": []
    },
    {
      "cell_type": "markdown",
      "metadata": {
        "id": "SPVxToNXi8h2"
      },
      "source": [
        "#FFNN (Assignment 4 model)"
      ]
    },
    {
      "cell_type": "code",
      "metadata": {
        "id": "GKl1FhsxY32c"
      },
      "source": [
        "model_ffnn = Sequential()\n",
        "model_ffnn.add(Embedding(vocab_size, embedding_dim, input_length = max_length))\n",
        "model_ffnn.add(Flatten())\n",
        "model_ffnn.add(Dropout(0.2))\n",
        "model_ffnn.add(Dense(512, activation='tanh'))\n",
        "model_ffnn.add(Dropout(0.2))\n",
        "model_ffnn.add(Dense(128, activation='tanh'))\n",
        "model_ffnn.add(Dropout(0.2))\n",
        "model_ffnn.add(Dense(5, activation='softmax'))"
      ],
      "execution_count": 36,
      "outputs": []
    },
    {
      "cell_type": "code",
      "metadata": {
        "colab": {
          "base_uri": "https://localhost:8080/"
        },
        "id": "9tI28umMeOTr",
        "outputId": "f6c5bad5-595f-4f8c-fc27-640533aa4cb9"
      },
      "source": [
        "model_ffnn.compile(loss='categorical_crossentropy', optimizer='adam', metrics=['accuracy'])\n",
        "print(model_ffnn.summary())"
      ],
      "execution_count": 37,
      "outputs": [
        {
          "output_type": "stream",
          "name": "stdout",
          "text": [
            "Model: \"sequential_1\"\n",
            "_________________________________________________________________\n",
            " Layer (type)                Output Shape              Param #   \n",
            "=================================================================\n",
            " embedding_1 (Embedding)     (None, 512, 100)          3129000   \n",
            "                                                                 \n",
            " flatten_1 (Flatten)         (None, 51200)             0         \n",
            "                                                                 \n",
            " dropout_4 (Dropout)         (None, 51200)             0         \n",
            "                                                                 \n",
            " dense_4 (Dense)             (None, 512)               26214912  \n",
            "                                                                 \n",
            " dropout_5 (Dropout)         (None, 512)               0         \n",
            "                                                                 \n",
            " dense_5 (Dense)             (None, 128)               65664     \n",
            "                                                                 \n",
            " dropout_6 (Dropout)         (None, 128)               0         \n",
            "                                                                 \n",
            " dense_6 (Dense)             (None, 5)                 645       \n",
            "                                                                 \n",
            "=================================================================\n",
            "Total params: 29,410,221\n",
            "Trainable params: 29,410,221\n",
            "Non-trainable params: 0\n",
            "_________________________________________________________________\n",
            "None\n"
          ]
        }
      ]
    },
    {
      "cell_type": "code",
      "metadata": {
        "id": "61NcbP71op8M",
        "colab": {
          "base_uri": "https://localhost:8080/"
        },
        "outputId": "98fbb986-bc26-4eca-efe7-165899ddb675"
      },
      "source": [
        "num_epochs = 5\n",
        "history = model_ffnn.fit(X_train, Y_train, epochs=num_epochs, batch_size = 8, validation_data=(X_valid, Y_valid), verbose=1)"
      ],
      "execution_count": 38,
      "outputs": [
        {
          "output_type": "stream",
          "name": "stdout",
          "text": [
            "Epoch 1/5\n",
            "168/168 [==============================] - 40s 236ms/step - loss: 1.3426 - accuracy: 0.4645 - val_loss: 0.4436 - val_accuracy: 0.8377\n",
            "Epoch 2/5\n",
            "168/168 [==============================] - 40s 236ms/step - loss: 0.0538 - accuracy: 0.9836 - val_loss: 0.2429 - val_accuracy: 0.9267\n",
            "Epoch 3/5\n",
            "168/168 [==============================] - 44s 260ms/step - loss: 0.0012 - accuracy: 1.0000 - val_loss: 0.2450 - val_accuracy: 0.9215\n",
            "Epoch 4/5\n",
            "168/168 [==============================] - 42s 247ms/step - loss: 6.2591e-04 - accuracy: 1.0000 - val_loss: 0.2429 - val_accuracy: 0.9267\n",
            "Epoch 5/5\n",
            "168/168 [==============================] - 40s 237ms/step - loss: 4.6062e-04 - accuracy: 1.0000 - val_loss: 0.2416 - val_accuracy: 0.9319\n"
          ]
        }
      ]
    },
    {
      "cell_type": "code",
      "metadata": {
        "id": "X22tWaHrop8O",
        "colab": {
          "base_uri": "https://localhost:8080/",
          "height": 544
        },
        "outputId": "8390d489-45fa-4ad7-b593-daead7dce3f7"
      },
      "source": [
        "def plot_graphs(history, string):\n",
        "  plt.plot(history.history[string])\n",
        "  plt.plot(history.history['val_'+string])\n",
        "  plt.xlabel(\"Epochs\")\n",
        "  plt.ylabel(string)\n",
        "  plt.legend([string, 'val_'+string])\n",
        "  plt.show()\n",
        "plot_graphs(history, \"accuracy\")\n",
        "plot_graphs(history, \"loss\")"
      ],
      "execution_count": 39,
      "outputs": [
        {
          "output_type": "display_data",
          "data": {
            "image/png": "[encoded data removed]",
            "text/plain": [
              "<Figure size 432x288 with 1 Axes>"
            ]
          },
          "metadata": {
            "needs_background": "light"
          }
        },
        {
          "output_type": "display_data",
          "data": {
            "image/png": "[encoded data removed]",
            "text/plain": [
              "<Figure size 432x288 with 1 Axes>"
            ]
          },
          "metadata": {
            "needs_background": "light"
          }
        }
      ]
    },
    {
      "cell_type": "code",
      "metadata": {
        "colab": {
          "base_uri": "https://localhost:8080/"
        },
        "id": "M3YwpRimop8N",
        "outputId": "5d36d8eb-8b0c-4ad4-8011-e513971be2d6"
      },
      "source": [
        "test_loss, accuracy = model_ffnn.evaluate(X_test,Y_test)\n",
        "print('Test set\\n  Loss: {:0.3f}\\n  Accuracy: {:0.3f}'.format(test_loss, accuracy))"
      ],
      "execution_count": 40,
      "outputs": [
        {
          "output_type": "stream",
          "name": "stdout",
          "text": [
            "12/12 [==============================] - 1s 49ms/step - loss: 0.1630 - accuracy: 0.9424\n",
            "Test set\n",
            "  Loss: 0.163\n",
            "  Accuracy: 0.942\n"
          ]
        }
      ]
    },
    {
      "cell_type": "code",
      "metadata": {
        "id": "qoHQX_lsop8P"
      },
      "source": [
        "prediction_ffnn = model_ffnn.predict(X_test)\n",
        "prediction_ffnn = np.argmax(prediction_ffnn, axis = 1)\n",
        "df_test['prediction_ffnn'] = prediction_ffnn\n",
        "df_test.to_csv(\"Test_Results_FFNN.csv\", index = None)"
      ],
      "execution_count": 42,
      "outputs": []
    },
    {
      "cell_type": "code",
      "metadata": {
        "colab": {
          "base_uri": "https://localhost:8080/"
        },
        "id": "sQGD2Gj9op8P",
        "outputId": "f7ddc575-b04a-42b6-ea26-0ff9de11178b"
      },
      "source": [
        "accuracy = accuracy_score(df_test['labels'], prediction_ffnn)\n",
        "accuracy_models['FFNN'] = accuracy\n",
        "print(f'Accuracy of FFNN = {accuracy}')\n",
        "print(classification_report(df_test['labels'], prediction_ffnn))"
      ],
      "execution_count": 43,
      "outputs": [
        {
          "output_type": "stream",
          "name": "stdout",
          "text": [
            "Accuracy of FFNN = 0.9424083769633508\n",
            "              precision    recall  f1-score   support\n",
            "\n",
            "           0       0.97      0.91      0.94        93\n",
            "           1       0.92      0.96      0.94        76\n",
            "           2       0.91      0.95      0.93        82\n",
            "           3       0.98      0.95      0.96        42\n",
            "           4       0.95      0.94      0.95        89\n",
            "\n",
            "    accuracy                           0.94       382\n",
            "   macro avg       0.95      0.94      0.94       382\n",
            "weighted avg       0.94      0.94      0.94       382\n",
            "\n"
          ]
        }
      ]
    },
    {
      "cell_type": "code",
      "metadata": {
        "id": "QLh76P3xop8R"
      },
      "source": [
        "model_ffnn.save_weights(\"ffnn_model.h5\")"
      ],
      "execution_count": null,
      "outputs": []
    },
    {
      "cell_type": "markdown",
      "metadata": {
        "id": "1leeoXDnrjCu"
      },
      "source": [
        "#FFNN Pre_Trained Model Fine Tuned"
      ]
    },
    {
      "cell_type": "code",
      "metadata": {
        "id": "qMLgpQcArouc"
      },
      "source": [
        "model_ffnn_pre = Sequential()\n",
        "model_ffnn_pre.add(Embedding(vocab_size, embedding_dim, input_length = max_length))\n",
        "model_ffnn_pre.add(Flatten())\n",
        "model_ffnn_pre.add(Dropout(0.2))\n",
        "model_ffnn_pre.add(Dense(512, activation='tanh'))\n",
        "model_ffnn_pre.add(Dropout(0.2))\n",
        "model_ffnn_pre.add(Dense(128, activation='tanh'))\n",
        "model_ffnn_pre.add(Dropout(0.2))\n",
        "model_ffnn_pre.add(Dense(5, activation='softmax'))"
      ],
      "execution_count": 44,
      "outputs": []
    },
    {
      "cell_type": "markdown",
      "metadata": {
        "id": "G--w9JzE5ULS"
      },
      "source": [
        "**Loading Previous Trained FFNN Model**"
      ]
    },
    {
      "cell_type": "code",
      "metadata": {
        "id": "Vs_i-fSL5PpK"
      },
      "source": [
        "model_ffnn_pre.set_weights(model_ffnn.get_weights())"
      ],
      "execution_count": 45,
      "outputs": []
    },
    {
      "cell_type": "code",
      "metadata": {
        "colab": {
          "base_uri": "https://localhost:8080/"
        },
        "id": "nhMVhh6mrouc",
        "outputId": "f2e24bd9-7c38-4c58-fb16-4399cfb6c131"
      },
      "source": [
        "model_ffnn_pre.compile(loss='categorical_crossentropy', optimizer='adam', metrics=['accuracy'])\n",
        "print(model_ffnn.summary())"
      ],
      "execution_count": 46,
      "outputs": [
        {
          "output_type": "stream",
          "name": "stdout",
          "text": [
            "Model: \"sequential_1\"\n",
            "_________________________________________________________________\n",
            " Layer (type)                Output Shape              Param #   \n",
            "=================================================================\n",
            " embedding_1 (Embedding)     (None, 512, 100)          3129000   \n",
            "                                                                 \n",
            " flatten_1 (Flatten)         (None, 51200)             0         \n",
            "                                                                 \n",
            " dropout_4 (Dropout)         (None, 51200)             0         \n",
            "                                                                 \n",
            " dense_4 (Dense)             (None, 512)               26214912  \n",
            "                                                                 \n",
            " dropout_5 (Dropout)         (None, 512)               0         \n",
            "                                                                 \n",
            " dense_5 (Dense)             (None, 128)               65664     \n",
            "                                                                 \n",
            " dropout_6 (Dropout)         (None, 128)               0         \n",
            "                                                                 \n",
            " dense_6 (Dense)             (None, 5)                 645       \n",
            "                                                                 \n",
            "=================================================================\n",
            "Total params: 29,410,221\n",
            "Trainable params: 29,410,221\n",
            "Non-trainable params: 0\n",
            "_________________________________________________________________\n",
            "None\n"
          ]
        }
      ]
    },
    {
      "cell_type": "code",
      "metadata": {
        "id": "XGybm40crouc",
        "colab": {
          "base_uri": "https://localhost:8080/"
        },
        "outputId": "ba396bcf-b9ba-412b-db83-0669e0093274"
      },
      "source": [
        "num_epochs = 5\n",
        "history = model_ffnn_pre.fit(X_train, Y_train, epochs=num_epochs, batch_size = 8, validation_data=(X_valid, Y_valid), verbose=1)"
      ],
      "execution_count": 47,
      "outputs": [
        {
          "output_type": "stream",
          "name": "stdout",
          "text": [
            "Epoch 1/5\n",
            "168/168 [==============================] - 41s 238ms/step - loss: 3.3364e-05 - accuracy: 1.0000 - val_loss: 0.3379 - val_accuracy: 0.9267\n",
            "Epoch 2/5\n",
            "168/168 [==============================] - 40s 237ms/step - loss: 1.8740e-06 - accuracy: 1.0000 - val_loss: 0.3456 - val_accuracy: 0.9319\n",
            "Epoch 3/5\n",
            "168/168 [==============================] - 40s 238ms/step - loss: 8.8227e-07 - accuracy: 1.0000 - val_loss: 0.3568 - val_accuracy: 0.9319\n",
            "Epoch 4/5\n",
            "168/168 [==============================] - 39s 235ms/step - loss: 5.8510e-07 - accuracy: 1.0000 - val_loss: 0.3655 - val_accuracy: 0.9319\n",
            "Epoch 5/5\n",
            "168/168 [==============================] - 39s 233ms/step - loss: 4.6980e-07 - accuracy: 1.0000 - val_loss: 0.3689 - val_accuracy: 0.9319\n"
          ]
        }
      ]
    },
    {
      "cell_type": "code",
      "metadata": {
        "colab": {
          "base_uri": "https://localhost:8080/"
        },
        "id": "5c4hHXborouc",
        "outputId": "7a95889c-7a7d-44a3-d6f5-9e79964b7161"
      },
      "source": [
        "test_loss, accuracy = model_ffnn_pre.evaluate(X_test,Y_test)\n",
        "print('Test set\\n  Loss: {:0.3f}\\n  Accuracy: {:0.3f}'.format(test_loss, accuracy))"
      ],
      "execution_count": 48,
      "outputs": [
        {
          "output_type": "stream",
          "name": "stdout",
          "text": [
            "12/12 [==============================] - 1s 55ms/step - loss: 0.1518 - accuracy: 0.9607\n",
            "Test set\n",
            "  Loss: 0.152\n",
            "  Accuracy: 0.961\n"
          ]
        }
      ]
    },
    {
      "cell_type": "code",
      "metadata": {
        "id": "eK5et4wCrouc",
        "colab": {
          "base_uri": "https://localhost:8080/",
          "height": 541
        },
        "outputId": "06349f7e-47d6-4aa4-e82e-4ec08374a6e3"
      },
      "source": [
        "def plot_graphs(history, string):\n",
        "  plt.plot(history.history[string])\n",
        "  plt.plot(history.history['val_'+string])\n",
        "  plt.xlabel(\"Epochs\")\n",
        "  plt.ylabel(string)\n",
        "  plt.legend([string, 'val_'+string])\n",
        "  plt.show()\n",
        "plot_graphs(history, \"accuracy\")\n",
        "plot_graphs(history, \"loss\")"
      ],
      "execution_count": 49,
      "outputs": [
        {
          "output_type": "display_data",
          "data": {
            "image/png": "[encoded data removed]",
            "text/plain": [
              "<Figure size 432x288 with 1 Axes>"
            ]
          },
          "metadata": {
            "needs_background": "light"
          }
        },
        {
          "output_type": "display_data",
          "data": {
            "image/png": "[encoded data removed]",
            "text/plain": [
              "<Figure size 432x288 with 1 Axes>"
            ]
          },
          "metadata": {
            "needs_background": "light"
          }
        }
      ]
    },
    {
      "cell_type": "code",
      "metadata": {
        "id": "jbHCvOU1rouc"
      },
      "source": [
        "prediction_ffnn_pre = model_ffnn_pre.predict(X_test)\n",
        "prediction_ffnn_pre = np.argmax(prediction_ffnn_pre, axis = 1)\n",
        "df_test['prediction_ffnn_pre'] = prediction_ffnn_pre\n",
        "df_test.to_csv(\"Test_Results_FFNN.csv\", index = None)"
      ],
      "execution_count": 50,
      "outputs": []
    },
    {
      "cell_type": "code",
      "metadata": {
        "colab": {
          "base_uri": "https://localhost:8080/"
        },
        "id": "aFR3wNtsroud",
        "outputId": "4046e433-cd10-46cf-a26b-af4cfbf83ac0"
      },
      "source": [
        "accuracy = accuracy_score(df_test['labels'], prediction_ffnn_pre)\n",
        "accuracy_models['FFNN_Pre'] = accuracy\n",
        "print(f'Accuracy of FFNN Fine Tuned = {accuracy}')\n",
        "print(classification_report(df_test['labels'], prediction_ffnn_pre))"
      ],
      "execution_count": 52,
      "outputs": [
        {
          "output_type": "stream",
          "name": "stdout",
          "text": [
            "Accuracy of FFNN Fine Tuned = 0.9607329842931938\n",
            "              precision    recall  f1-score   support\n",
            "\n",
            "           0       0.97      0.92      0.95        93\n",
            "           1       0.95      0.97      0.96        76\n",
            "           2       0.94      0.96      0.95        82\n",
            "           3       1.00      0.98      0.99        42\n",
            "           4       0.97      0.98      0.97        89\n",
            "\n",
            "    accuracy                           0.96       382\n",
            "   macro avg       0.96      0.96      0.96       382\n",
            "weighted avg       0.96      0.96      0.96       382\n",
            "\n"
          ]
        }
      ]
    }
  ]
}