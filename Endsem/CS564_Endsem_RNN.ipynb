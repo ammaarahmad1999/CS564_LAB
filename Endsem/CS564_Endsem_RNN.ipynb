{
  "nbformat": 4,
  "nbformat_minor": 0,
  "metadata": {
    "colab": {
      "name": "CS564_Endsem_RNN.ipynb",
      "provenance": []
    },
    "kernelspec": {
      "name": "python3",
      "display_name": "Python 3"
    },
    "language_info": {
      "name": "python"
    }
  },
  "cells": [
    {
      "cell_type": "code",
      "metadata": {
        "id": "lRww3eAFxFT4"
      },
      "source": [
        "import numpy as np\n",
        "import pandas as pd\n",
        "import torch\n",
        "import random\n",
        "import torch.nn as nn\n",
        "import re\n",
        "import tensorflow as tf"
      ],
      "execution_count": 1,
      "outputs": []
    },
    {
      "cell_type": "code",
      "metadata": {
        "id": "1H2LZh9yw-RS"
      },
      "source": [
        "import math\n",
        "import matplotlib.pyplot as plt"
      ],
      "execution_count": 2,
      "outputs": []
    },
    {
      "cell_type": "code",
      "metadata": {
        "id": "C7GCeJiB1lRQ"
      },
      "source": [
        "import warnings\n",
        "warnings.filterwarnings(\"ignore\")"
      ],
      "execution_count": 3,
      "outputs": []
    },
    {
      "cell_type": "code",
      "metadata": {
        "id": "fCG9xElzh8Aa",
        "colab": {
          "base_uri": "https://localhost:8080/"
        },
        "outputId": "d2122c4b-8cde-4255-96ae-51de6515379f"
      },
      "source": [
        "import nltk\n",
        "nltk.download('stopwords')\n",
        "from nltk.corpus import stopwords\n",
        "from nltk.tokenize import word_tokenize\n",
        "STOPWORDS = set(stopwords.words('english'))"
      ],
      "execution_count": 4,
      "outputs": [
        {
          "output_type": "stream",
          "name": "stdout",
          "text": [
            "[nltk_data] Downloading package stopwords to /root/nltk_data...\n",
            "[nltk_data]   Package stopwords is already up-to-date!\n"
          ]
        }
      ]
    },
    {
      "cell_type": "code",
      "metadata": {
        "id": "84rEXVuxl3rP"
      },
      "source": [
        "from keras.models import Sequential\n",
        "from keras.layers import Dense, Dropout\n",
        "from keras.layers import LSTM, RNN, Flatten\n",
        "from keras.layers.embeddings import Embedding\n",
        "from keras.preprocessing import sequence\n",
        "from keras.preprocessing.text import Tokenizer\n",
        "from keras.preprocessing.sequence import pad_sequences"
      ],
      "execution_count": 5,
      "outputs": []
    },
    {
      "cell_type": "code",
      "metadata": {
        "id": "zkcjyKFhdQnA"
      },
      "source": [
        "from sklearn.metrics import accuracy_score\n",
        "from sklearn.metrics import classification_report\n",
        "from sklearn.metrics import confusion_matrix"
      ],
      "execution_count": 6,
      "outputs": []
    },
    {
      "cell_type": "code",
      "metadata": {
        "id": "nmOngxvWg8mQ"
      },
      "source": [
        "seed_val = 1\n",
        "random.seed(seed_val)\n",
        "np.random.seed(seed_val)\n",
        "torch.manual_seed(seed_val)\n",
        "torch.cuda.manual_seed_all(seed_val)"
      ],
      "execution_count": 7,
      "outputs": []
    },
    {
      "cell_type": "code",
      "metadata": {
        "id": "jOH0Ua4Fch3Y"
      },
      "source": [
        "df = pd.read_csv(\"https://raw.githubusercontent.com/ammaarahmad1999/Time_Series_Dataset/main/bbc.csv\", index_col=0)"
      ],
      "execution_count": 8,
      "outputs": []
    },
    {
      "cell_type": "code",
      "metadata": {
        "id": "fla0dGHkiIMi"
      },
      "source": [
        "label_dict = {'business': 0, 'entertainment' : 1, 'politics' : 2, 'sport' : 3, 'tech' : 4}"
      ],
      "execution_count": 9,
      "outputs": []
    },
    {
      "cell_type": "code",
      "metadata": {
        "id": "BKV7yiv2ifZY"
      },
      "source": [
        "df['labels'] = df['Class'].replace(label_dict)"
      ],
      "execution_count": 10,
      "outputs": []
    },
    {
      "cell_type": "code",
      "metadata": {
        "id": "aLRPU1sZuqsK"
      },
      "source": [
        "vocabulary = set()"
      ],
      "execution_count": 11,
      "outputs": []
    },
    {
      "cell_type": "code",
      "metadata": {
        "id": "BhJMhxuukhmo"
      },
      "source": [
        "accuracy_models = dict()"
      ],
      "execution_count": 12,
      "outputs": []
    },
    {
      "cell_type": "markdown",
      "metadata": {
        "id": "xOkWxf_2jlRH"
      },
      "source": [
        "#Data Preprocessing"
      ]
    },
    {
      "cell_type": "code",
      "metadata": {
        "id": "c603im52jLkq"
      },
      "source": [
        "def cleaning(text):\n",
        "  line = re.sub('[^A-Za-z0-9]+', ' ', text)\n",
        "  tokens = line.split()\n",
        "  tokens = [w for w in tokens if not w.lower() in STOPWORDS]\n",
        "  text = \" \".join(tokens)\n",
        "  for word in tokens:\n",
        "    vocabulary.add(word)\n",
        "  return text\n",
        "def length(text):\n",
        "  return len(text.split())\n",
        "df['text'] = df['Article'].apply(cleaning)\n",
        "df['length'] = df['text'].apply(length)"
      ],
      "execution_count": 13,
      "outputs": []
    },
    {
      "cell_type": "code",
      "metadata": {
        "id": "DDa2N61UjjRa"
      },
      "source": [
        "df = df.sample(frac = 1, random_state = 1)"
      ],
      "execution_count": 14,
      "outputs": []
    },
    {
      "cell_type": "code",
      "metadata": {
        "id": "SsFFm4UcAzId"
      },
      "source": [
        "df.reset_index(drop = True, inplace = True)"
      ],
      "execution_count": 15,
      "outputs": []
    },
    {
      "cell_type": "code",
      "metadata": {
        "colab": {
          "base_uri": "https://localhost:8080/",
          "height": 424
        },
        "id": "tVdM_x5xBJQA",
        "outputId": "b1ab50c2-c4f9-43c8-be0f-bfe94a299045"
      },
      "source": [
        "df"
      ],
      "execution_count": 16,
      "outputs": [
        {
          "output_type": "execute_result",
          "data": {
            "text/html": [
              "<div>\n",
              "<style scoped>\n",
              "    .dataframe tbody tr th:only-of-type {\n",
              "        vertical-align: middle;\n",
              "    }\n",
              "\n",
              "    .dataframe tbody tr th {\n",
              "        vertical-align: top;\n",
              "    }\n",
              "\n",
              "    .dataframe thead th {\n",
              "        text-align: right;\n",
              "    }\n",
              "</style>\n",
              "<table border=\"1\" class=\"dataframe\">\n",
              "  <thead>\n",
              "    <tr style=\"text-align: right;\">\n",
              "      <th></th>\n",
              "      <th>Article</th>\n",
              "      <th>Class</th>\n",
              "      <th>labels</th>\n",
              "      <th>text</th>\n",
              "      <th>length</th>\n",
              "    </tr>\n",
              "  </thead>\n",
              "  <tbody>\n",
              "    <tr>\n",
              "      <th>0</th>\n",
              "      <td>Cactus diet deal for Phytopharm\\n\\nA slimming ...</td>\n",
              "      <td>business</td>\n",
              "      <td>0</td>\n",
              "      <td>Cactus diet deal Phytopharm slimming aid made ...</td>\n",
              "      <td>143</td>\n",
              "    </tr>\n",
              "    <tr>\n",
              "      <th>1</th>\n",
              "      <td>Winter freeze keeps oil above $50\\n\\nOil price...</td>\n",
              "      <td>business</td>\n",
              "      <td>0</td>\n",
              "      <td>Winter freeze keeps oil 50 Oil prices carried ...</td>\n",
              "      <td>201</td>\n",
              "    </tr>\n",
              "    <tr>\n",
              "      <th>2</th>\n",
              "      <td>Mobiles rack up 20 years of use\\n\\nMobile phon...</td>\n",
              "      <td>tech</td>\n",
              "      <td>4</td>\n",
              "      <td>Mobiles rack 20 years use Mobile phones UK cel...</td>\n",
              "      <td>255</td>\n",
              "    </tr>\n",
              "    <tr>\n",
              "      <th>3</th>\n",
              "      <td>Giving financial gifts to children\\n\\nYour chi...</td>\n",
              "      <td>business</td>\n",
              "      <td>0</td>\n",
              "      <td>Giving financial gifts children child grandchi...</td>\n",
              "      <td>436</td>\n",
              "    </tr>\n",
              "    <tr>\n",
              "      <th>4</th>\n",
              "      <td>Bank payout to Pinochet victims\\n\\nA US bank h...</td>\n",
              "      <td>business</td>\n",
              "      <td>0</td>\n",
              "      <td>Bank payout Pinochet victims US bank said dona...</td>\n",
              "      <td>184</td>\n",
              "    </tr>\n",
              "    <tr>\n",
              "      <th>...</th>\n",
              "      <td>...</td>\n",
              "      <td>...</td>\n",
              "      <td>...</td>\n",
              "      <td>...</td>\n",
              "      <td>...</td>\n",
              "    </tr>\n",
              "    <tr>\n",
              "      <th>1907</th>\n",
              "      <td>Crucial decision on super-casinos\\n\\nA decisio...</td>\n",
              "      <td>politics</td>\n",
              "      <td>2</td>\n",
              "      <td>Crucial decision super casinos decision whethe...</td>\n",
              "      <td>108</td>\n",
              "    </tr>\n",
              "    <tr>\n",
              "      <th>1908</th>\n",
              "      <td>Cyber crime booms in 2004\\n\\nThe last 12 month...</td>\n",
              "      <td>tech</td>\n",
              "      <td>4</td>\n",
              "      <td>Cyber crime booms 2004 last 12 months seen dra...</td>\n",
              "      <td>471</td>\n",
              "    </tr>\n",
              "    <tr>\n",
              "      <th>1909</th>\n",
              "      <td>Howard rejects BNP's claim\\n\\nTory leader Mich...</td>\n",
              "      <td>politics</td>\n",
              "      <td>2</td>\n",
              "      <td>Howard rejects BNP claim Tory leader Michael H...</td>\n",
              "      <td>184</td>\n",
              "    </tr>\n",
              "    <tr>\n",
              "      <th>1910</th>\n",
              "      <td>Card fraudsters 'targeting web'\\n\\nNew safegua...</td>\n",
              "      <td>business</td>\n",
              "      <td>0</td>\n",
              "      <td>Card fraudsters targeting web New safeguards c...</td>\n",
              "      <td>248</td>\n",
              "    </tr>\n",
              "    <tr>\n",
              "      <th>1911</th>\n",
              "      <td>Blunkett tells of love and pain\\n\\nDavid Blunk...</td>\n",
              "      <td>politics</td>\n",
              "      <td>2</td>\n",
              "      <td>Blunkett tells love pain David Blunkett spoken...</td>\n",
              "      <td>209</td>\n",
              "    </tr>\n",
              "  </tbody>\n",
              "</table>\n",
              "<p>1912 rows × 5 columns</p>\n",
              "</div>"
            ],
            "text/plain": [
              "                                                Article  ... length\n",
              "0     Cactus diet deal for Phytopharm\\n\\nA slimming ...  ...    143\n",
              "1     Winter freeze keeps oil above $50\\n\\nOil price...  ...    201\n",
              "2     Mobiles rack up 20 years of use\\n\\nMobile phon...  ...    255\n",
              "3     Giving financial gifts to children\\n\\nYour chi...  ...    436\n",
              "4     Bank payout to Pinochet victims\\n\\nA US bank h...  ...    184\n",
              "...                                                 ...  ...    ...\n",
              "1907  Crucial decision on super-casinos\\n\\nA decisio...  ...    108\n",
              "1908  Cyber crime booms in 2004\\n\\nThe last 12 month...  ...    471\n",
              "1909  Howard rejects BNP's claim\\n\\nTory leader Mich...  ...    184\n",
              "1910  Card fraudsters 'targeting web'\\n\\nNew safegua...  ...    248\n",
              "1911  Blunkett tells of love and pain\\n\\nDavid Blunk...  ...    209\n",
              "\n",
              "[1912 rows x 5 columns]"
            ]
          },
          "metadata": {},
          "execution_count": 16
        }
      ]
    },
    {
      "cell_type": "code",
      "metadata": {
        "id": "w2toZwW8dfJP"
      },
      "source": [
        "vocab_size = len(vocabulary)\n",
        "embedding_dim = 100\n",
        "max_length = 512\n",
        "trunc_type = 'post'\n",
        "padding_type = 'post'\n",
        "oov_tok = '<OOV>'"
      ],
      "execution_count": 17,
      "outputs": []
    },
    {
      "cell_type": "code",
      "metadata": {
        "id": "XRzTnjS6do3h"
      },
      "source": [
        "train_size = math.ceil(0.7 * len(df))\n",
        "valid_size = math.ceil(0.8 * len(df))"
      ],
      "execution_count": 18,
      "outputs": []
    },
    {
      "cell_type": "code",
      "metadata": {
        "id": "OKZHOTrIdsbI"
      },
      "source": [
        "df_test = df[valid_size:]\n",
        "df_test.to_csv(\"Test_Data.csv\", index = None)"
      ],
      "execution_count": 19,
      "outputs": []
    },
    {
      "cell_type": "code",
      "metadata": {
        "id": "ehzyAlpXvgxL"
      },
      "source": [
        "X_train = df['text'][0:train_size]\n",
        "X_valid = df['text'][train_size:valid_size]\n",
        "X_test  = df['text'][valid_size:]\n",
        "Y_train = pd.get_dummies(df['labels'][0:train_size]).values\n",
        "Y_valid = pd.get_dummies(df['labels'][train_size:valid_size]).values\n",
        "Y_test  = pd.get_dummies(df['labels'][valid_size:]).values"
      ],
      "execution_count": 20,
      "outputs": []
    },
    {
      "cell_type": "code",
      "metadata": {
        "id": "lO7FMOR2xBlo"
      },
      "source": [
        "tokenizer = Tokenizer(num_words = vocab_size, oov_token=oov_tok)\n",
        "tokenizer.fit_on_texts(X_train)"
      ],
      "execution_count": 21,
      "outputs": []
    },
    {
      "cell_type": "code",
      "metadata": {
        "id": "5woxO7-l2Mk9"
      },
      "source": [
        "X_train = tokenizer.texts_to_sequences(X_train)\n",
        "X_valid = tokenizer.texts_to_sequences(X_valid)\n",
        "X_test = tokenizer.texts_to_sequences(X_test)"
      ],
      "execution_count": 22,
      "outputs": []
    },
    {
      "cell_type": "code",
      "metadata": {
        "id": "Ghc3sAxX10lR"
      },
      "source": [
        "X_train = pad_sequences(X_train, maxlen=max_length)\n",
        "X_valid = pad_sequences(X_valid, maxlen=max_length)\n",
        "X_test = pad_sequences(X_test, maxlen=max_length)"
      ],
      "execution_count": 23,
      "outputs": []
    },
    {
      "cell_type": "code",
      "metadata": {
        "id": "7FWEQK842uTA"
      },
      "source": [
        "label_tokenizer = Tokenizer()\n",
        "label_tokenizer.fit_on_texts(df['Class'])"
      ],
      "execution_count": 24,
      "outputs": []
    },
    {
      "cell_type": "markdown",
      "metadata": {
        "id": "HtCKjZK09zdv"
      },
      "source": [
        "#Vanilla RNN"
      ]
    },
    {
      "cell_type": "code",
      "metadata": {
        "id": "QJgVJIEJ8JCv"
      },
      "source": [
        "model = tf.keras.Sequential([\n",
        "    tf.keras.layers.Embedding(vocab_size, embedding_dim),\n",
        "    tf.keras.layers.SimpleRNN(256, activation='relu', return_sequences=True),\n",
        "    tf.keras.layers.Dropout(0.2),\n",
        "    tf.keras.layers.SimpleRNN(128, activation='relu'),\n",
        "    tf.keras.layers.Dropout(0.2),\n",
        "    tf.keras.layers.Dense(128, activation='relu'),\n",
        "    tf.keras.layers.Dense(5, activation='softmax')\n",
        "])"
      ],
      "execution_count": 25,
      "outputs": []
    },
    {
      "cell_type": "code",
      "metadata": {
        "colab": {
          "base_uri": "https://localhost:8080/"
        },
        "id": "-t4nDQUQ6u8n",
        "outputId": "501d5735-ab9b-4cba-852b-7f7e3a3786a9"
      },
      "source": [
        "model.compile(loss='categorical_crossentropy', optimizer='adam', metrics=['accuracy'])\n",
        "print(model.summary())"
      ],
      "execution_count": 26,
      "outputs": [
        {
          "output_type": "stream",
          "name": "stdout",
          "text": [
            "Model: \"sequential\"\n",
            "_________________________________________________________________\n",
            " Layer (type)                Output Shape              Param #   \n",
            "=================================================================\n",
            " embedding (Embedding)       (None, None, 100)         3129000   \n",
            "                                                                 \n",
            " simple_rnn (SimpleRNN)      (None, None, 256)         91392     \n",
            "                                                                 \n",
            " dropout (Dropout)           (None, None, 256)         0         \n",
            "                                                                 \n",
            " simple_rnn_1 (SimpleRNN)    (None, 128)               49280     \n",
            "                                                                 \n",
            " dropout_1 (Dropout)         (None, 128)               0         \n",
            "                                                                 \n",
            " dense (Dense)               (None, 128)               16512     \n",
            "                                                                 \n",
            " dense_1 (Dense)             (None, 5)                 645       \n",
            "                                                                 \n",
            "=================================================================\n",
            "Total params: 3,286,829\n",
            "Trainable params: 3,286,829\n",
            "Non-trainable params: 0\n",
            "_________________________________________________________________\n",
            "None\n"
          ]
        }
      ]
    },
    {
      "cell_type": "code",
      "metadata": {
        "id": "zc0pGT3W91px",
        "colab": {
          "base_uri": "https://localhost:8080/"
        },
        "outputId": "2b80a974-fa98-48cd-de36-f6d91b01fcd7"
      },
      "source": [
        "num_epochs = 5\n",
        "history = model.fit(X_train, Y_train, epochs=num_epochs, batch_size = 8, validation_data=(X_valid, Y_valid), verbose=1)"
      ],
      "execution_count": 27,
      "outputs": [
        {
          "output_type": "stream",
          "name": "stdout",
          "text": [
            "Epoch 1/5\n",
            "168/168 [==============================] - 79s 462ms/step - loss: 1.5687 - accuracy: 0.2591 - val_loss: 1.5673 - val_accuracy: 0.2513\n",
            "Epoch 2/5\n",
            "168/168 [==============================] - 77s 460ms/step - loss: 20654.3926 - accuracy: 0.3174 - val_loss: 1.5788 - val_accuracy: 0.2094\n",
            "Epoch 3/5\n",
            "168/168 [==============================] - 78s 462ms/step - loss: 1.6136 - accuracy: 0.4070 - val_loss: 1.4910 - val_accuracy: 0.3246\n",
            "Epoch 4/5\n",
            "168/168 [==============================] - 77s 460ms/step - loss: 0.9225 - accuracy: 0.6363 - val_loss: 1.2409 - val_accuracy: 0.5340\n",
            "Epoch 5/5\n",
            "168/168 [==============================] - 77s 460ms/step - loss: 0.4979 - accuracy: 0.8133 - val_loss: 1.4177 - val_accuracy: 0.4921\n"
          ]
        }
      ]
    },
    {
      "cell_type": "code",
      "metadata": {
        "id": "BPdVWiFwEYgw",
        "colab": {
          "base_uri": "https://localhost:8080/",
          "height": 279
        },
        "outputId": "f0dbab43-0c8e-4c50-93e8-3e76f97db573"
      },
      "source": [
        "def plot_graphs(history, string):\n",
        "  plt.plot(history.history[string])\n",
        "  plt.plot(history.history['val_'+string])\n",
        "  plt.xlabel(\"Epochs\")\n",
        "  plt.ylabel(string)\n",
        "  plt.legend([string, 'val_'+string])\n",
        "  plt.show()\n",
        "plot_graphs(history, \"accuracy\")"
      ],
      "execution_count": 28,
      "outputs": [
        {
          "output_type": "display_data",
          "data": {
            "image/png": "[encoded data removed]",
            "text/plain": [
              "<Figure size 432x288 with 1 Axes>"
            ]
          },
          "metadata": {
            "needs_background": "light"
          }
        }
      ]
    },
    {
      "cell_type": "code",
      "metadata": {
        "colab": {
          "base_uri": "https://localhost:8080/"
        },
        "id": "sZrPJ9ePEe6U",
        "outputId": "6c11ee70-7314-450e-8f6e-b3339ad6c74b"
      },
      "source": [
        "test_loss, accuracy = model.evaluate(X_test,Y_test)\n",
        "print('Test set\\n  Loss: {:0.3f}\\n  Accuracy: {:0.3f}'.format(test_loss, accuracy))"
      ],
      "execution_count": 29,
      "outputs": [
        {
          "output_type": "stream",
          "name": "stdout",
          "text": [
            "12/12 [==============================] - 2s 153ms/step - loss: 1.4727 - accuracy: 0.5209\n",
            "Test set\n",
            "  Loss: 1.473\n",
            "  Accuracy: 0.521\n"
          ]
        }
      ]
    },
    {
      "cell_type": "code",
      "metadata": {
        "id": "RgChpnZ2euxV"
      },
      "source": [
        "prediction_rnn = model.predict(X_test)\n",
        "prediction_rnn = np.argmax(prediction_rnn, axis = 1)\n",
        "df_test['prediction_rnn'] = prediction_rnn\n",
        "df_test.to_csv(\"Test_Results_RNN.csv\", index = None)"
      ],
      "execution_count": 31,
      "outputs": []
    },
    {
      "cell_type": "code",
      "metadata": {
        "colab": {
          "base_uri": "https://localhost:8080/"
        },
        "id": "zqHX_ZwvkD4G",
        "outputId": "cbb9bfd1-b5c3-4b73-d5b6-239d9006466b"
      },
      "source": [
        "accuracy = accuracy_score(df_test['labels'], prediction_rnn)\n",
        "accuracy_models['RNN'] = accuracy\n",
        "print(f'Accuracy of RNN = {accuracy}')\n",
        "print(classification_report(df_test['labels'], prediction_rnn))"
      ],
      "execution_count": 32,
      "outputs": [
        {
          "output_type": "stream",
          "name": "stdout",
          "text": [
            "Accuracy of RNN = 0.5209424083769634\n",
            "              precision    recall  f1-score   support\n",
            "\n",
            "           0       0.78      0.56      0.65        93\n",
            "           1       0.38      0.83      0.53        76\n",
            "           2       0.44      0.48      0.46        82\n",
            "           3       0.11      0.02      0.04        42\n",
            "           4       0.81      0.49      0.62        89\n",
            "\n",
            "    accuracy                           0.52       382\n",
            "   macro avg       0.51      0.48      0.46       382\n",
            "weighted avg       0.56      0.52      0.51       382\n",
            "\n"
          ]
        }
      ]
    },
    {
      "cell_type": "code",
      "metadata": {
        "id": "j5s73_cVQh7M"
      },
      "source": [
        "model.save_weights(\"rnn_model.h5\")"
      ],
      "execution_count": null,
      "outputs": []
    }
  ]
}