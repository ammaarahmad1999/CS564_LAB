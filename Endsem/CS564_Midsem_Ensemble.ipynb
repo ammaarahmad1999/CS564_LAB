{
  "nbformat": 4,
  "nbformat_minor": 0,
  "metadata": {
    "colab": {
      "name": "CS564_Midsem_Ensemble.ipynb",
      "provenance": []
    },
    "kernelspec": {
      "name": "python3",
      "display_name": "Python 3"
    },
    "language_info": {
      "name": "python"
    }
  },
  "cells": [
    {
      "cell_type": "code",
      "metadata": {
        "id": "20Kguub8XsCQ"
      },
      "source": [
        "import numpy as np\n",
        "import pandas as pd\n",
        "import torch\n",
        "import random\n",
        "import torch.nn as nn\n",
        "import re\n",
        "import tensorflow as tf"
      ],
      "execution_count": 1,
      "outputs": []
    },
    {
      "cell_type": "code",
      "metadata": {
        "id": "fP4fJzDtZSLL"
      },
      "source": [
        "from sklearn.metrics import accuracy_score\n",
        "from sklearn.metrics import classification_report\n",
        "from sklearn.metrics import confusion_matrix"
      ],
      "execution_count": 12,
      "outputs": []
    },
    {
      "cell_type": "code",
      "metadata": {
        "id": "ioYUQMj1YaDl"
      },
      "source": [
        "df_test_RNN = pd.read_csv(\"Test_Results_RNN.csv\")\n",
        "df_test_FFNN = pd.read_csv(\"Test_Results_FFNN.csv\")"
      ],
      "execution_count": 2,
      "outputs": []
    },
    {
      "cell_type": "code",
      "metadata": {
        "id": "CZv4BnxnY0t0"
      },
      "source": [
        "accuracy_models = dict()"
      ],
      "execution_count": 11,
      "outputs": []
    },
    {
      "cell_type": "code",
      "metadata": {
        "colab": {
          "base_uri": "https://localhost:8080/"
        },
        "id": "pOAYECfNYt9s",
        "outputId": "ecd273a5-ce00-4441-c230-2ecf8b86736b"
      },
      "source": [
        "prediction_ffnn = df_test_FFNN['prediction_ffnn']\n",
        "accuracy = accuracy_score(df_test_FFNN['labels'], prediction_ffnn)\n",
        "accuracy_models['FFNN'] = accuracy\n",
        "print(f'Accuracy of FFNN = {accuracy}')\n",
        "print(classification_report(df_test_FFNN['labels'], prediction_ffnn))"
      ],
      "execution_count": 13,
      "outputs": [
        {
          "output_type": "stream",
          "name": "stdout",
          "text": [
            "Accuracy of FFNN = 0.9424083769633508\n",
            "              precision    recall  f1-score   support\n",
            "\n",
            "           0       0.97      0.91      0.94        93\n",
            "           1       0.92      0.96      0.94        76\n",
            "           2       0.91      0.95      0.93        82\n",
            "           3       0.98      0.95      0.96        42\n",
            "           4       0.95      0.94      0.95        89\n",
            "\n",
            "    accuracy                           0.94       382\n",
            "   macro avg       0.95      0.94      0.94       382\n",
            "weighted avg       0.94      0.94      0.94       382\n",
            "\n"
          ]
        }
      ]
    },
    {
      "cell_type": "code",
      "metadata": {
        "colab": {
          "base_uri": "https://localhost:8080/"
        },
        "id": "iKwNoU6pY6qw",
        "outputId": "d9ce1601-5ae7-4bb8-d3a6-865a7b9b8614"
      },
      "source": [
        "prediction_ffnn_pre = df_test_FFNN['prediction_ffnn_pre']\n",
        "accuracy = accuracy_score(df_test_FFNN['labels'], prediction_ffnn_pre)\n",
        "accuracy_models['FFNN_Pre'] = accuracy\n",
        "print(f'Accuracy of FFNN Fine Tuned= {accuracy}')\n",
        "print(classification_report(df_test_FFNN['labels'], prediction_ffnn_pre))"
      ],
      "execution_count": 22,
      "outputs": [
        {
          "output_type": "stream",
          "name": "stdout",
          "text": [
            "Accuracy of FFNN Fine Tuned= 0.9607329842931938\n",
            "              precision    recall  f1-score   support\n",
            "\n",
            "           0       0.97      0.92      0.95        93\n",
            "           1       0.95      0.97      0.96        76\n",
            "           2       0.94      0.96      0.95        82\n",
            "           3       1.00      0.98      0.99        42\n",
            "           4       0.97      0.98      0.97        89\n",
            "\n",
            "    accuracy                           0.96       382\n",
            "   macro avg       0.96      0.96      0.96       382\n",
            "weighted avg       0.96      0.96      0.96       382\n",
            "\n"
          ]
        }
      ]
    },
    {
      "cell_type": "code",
      "metadata": {
        "colab": {
          "base_uri": "https://localhost:8080/"
        },
        "id": "BZCLnjPcZXid",
        "outputId": "b27969a3-8b36-4f6c-8607-bc4b4890f1f3"
      },
      "source": [
        "prediction_rnn = df_test_RNN['prediction_rnn']\n",
        "accuracy = accuracy_score(df_test_RNN['labels'], prediction_rnn)\n",
        "accuracy_models['RNN'] = accuracy\n",
        "print(f'Accuracy of FFNN Fine Tuned= {accuracy}')\n",
        "print(classification_report(df_test_RNN['labels'], prediction_rnn))"
      ],
      "execution_count": 16,
      "outputs": [
        {
          "output_type": "stream",
          "name": "stdout",
          "text": [
            "Accuracy of FFNN Fine Tuned= 0.5209424083769634\n",
            "              precision    recall  f1-score   support\n",
            "\n",
            "           0       0.78      0.56      0.65        93\n",
            "           1       0.38      0.83      0.53        76\n",
            "           2       0.44      0.48      0.46        82\n",
            "           3       0.11      0.02      0.04        42\n",
            "           4       0.81      0.49      0.62        89\n",
            "\n",
            "    accuracy                           0.52       382\n",
            "   macro avg       0.51      0.48      0.46       382\n",
            "weighted avg       0.56      0.52      0.51       382\n",
            "\n"
          ]
        }
      ]
    },
    {
      "cell_type": "code",
      "metadata": {
        "id": "gZ-YnzqIZw4I"
      },
      "source": [
        "df_test = df_test_FFNN\n",
        "df_test['prediction_rnn'] = df_test_RNN['prediction_rnn']"
      ],
      "execution_count": 19,
      "outputs": []
    },
    {
      "cell_type": "markdown",
      "metadata": {
        "id": "HyFN3Epj06xR"
      },
      "source": [
        "#Ensembling"
      ]
    },
    {
      "cell_type": "code",
      "metadata": {
        "id": "tNIwoFUy08f8"
      },
      "source": [
        "prediction_ensemble = []\n",
        "for i in range(len(prediction_rnn)):\n",
        "  count = np.zeros([5])\n",
        "  count[prediction_rnn[i]] += 1\n",
        "  count[prediction_ffnn[i]] += 1\n",
        "  count[prediction_ffnn_pre[i]] += 1\n",
        "  prediction_ensemble.append(np.argmax(count))\n",
        "df_test['prediction_ensemble'] = prediction_ensemble"
      ],
      "execution_count": 20,
      "outputs": []
    },
    {
      "cell_type": "code",
      "metadata": {
        "colab": {
          "base_uri": "https://localhost:8080/"
        },
        "id": "1K5dQkg43tM_",
        "outputId": "c46bd459-162b-4199-9d80-4c1bd7e957cd"
      },
      "source": [
        "accuracy = accuracy_score(df_test['labels'], prediction_ensemble)\n",
        "accuracy_models['Ensemble'] = accuracy\n",
        "print(f'Accuracy of Ensembler = {accuracy}')\n",
        "print(classification_report(df_test['labels'], prediction_ensemble))"
      ],
      "execution_count": 23,
      "outputs": [
        {
          "output_type": "stream",
          "name": "stdout",
          "text": [
            "Accuracy of Ensembler = 0.9450261780104712\n",
            "              precision    recall  f1-score   support\n",
            "\n",
            "           0       0.97      0.91      0.94        93\n",
            "           1       0.88      0.97      0.93        76\n",
            "           2       0.93      0.96      0.95        82\n",
            "           3       1.00      0.93      0.96        42\n",
            "           4       0.98      0.94      0.96        89\n",
            "\n",
            "    accuracy                           0.95       382\n",
            "   macro avg       0.95      0.94      0.95       382\n",
            "weighted avg       0.95      0.95      0.95       382\n",
            "\n"
          ]
        }
      ]
    },
    {
      "cell_type": "markdown",
      "metadata": {
        "id": "eQCJ_pav4H2m"
      },
      "source": [
        "# Weighted Ensembling"
      ]
    },
    {
      "cell_type": "code",
      "metadata": {
        "id": "NmUJvjAq4PWA"
      },
      "source": [
        "weighted_ensemble = []\n",
        "for i in range(len(df_test)):\n",
        "  count = np.zeros([5])\n",
        "  count[prediction_rnn[i]] += accuracy_models['RNN']\n",
        "  count[prediction_ffnn[i]] += accuracy_models['FFNN']\n",
        "  count[prediction_ffnn_pre[i]] += accuracy_models['FFNN_Pre']\n",
        "  weighted_ensemble.append(np.argmax(count))\n",
        "df_test['weighted_ensemble'] = weighted_ensemble"
      ],
      "execution_count": 24,
      "outputs": []
    },
    {
      "cell_type": "code",
      "metadata": {
        "colab": {
          "base_uri": "https://localhost:8080/"
        },
        "id": "hFWpHZU84h6-",
        "outputId": "f7b572e5-e92f-4269-91c7-a76bd7a8bceb"
      },
      "source": [
        "accuracy = accuracy_score(df_test['labels'], weighted_ensemble)\n",
        "accuracy_models['Weighted_Ensembler'] = accuracy\n",
        "print(f'Accuracy of Weighted Ensembler = {accuracy}')\n",
        "print(classification_report(df_test['labels'], weighted_ensemble))"
      ],
      "execution_count": 25,
      "outputs": [
        {
          "output_type": "stream",
          "name": "stdout",
          "text": [
            "Accuracy of Weighted Ensembler = 0.9554973821989529\n",
            "              precision    recall  f1-score   support\n",
            "\n",
            "           0       0.98      0.91      0.94        93\n",
            "           1       0.93      0.97      0.95        76\n",
            "           2       0.93      0.96      0.95        82\n",
            "           3       1.00      0.95      0.98        42\n",
            "           4       0.97      0.98      0.97        89\n",
            "\n",
            "    accuracy                           0.96       382\n",
            "   macro avg       0.96      0.96      0.96       382\n",
            "weighted avg       0.96      0.96      0.96       382\n",
            "\n"
          ]
        }
      ]
    },
    {
      "cell_type": "markdown",
      "metadata": {
        "id": "2sFvGmqR5983"
      },
      "source": [
        "#Calculation"
      ]
    },
    {
      "cell_type": "markdown",
      "metadata": {
        "id": "bMWaqW7E6nLQ"
      },
      "source": [
        "**Misclassified by alteast one of simple model but ensembler predicts correctly**"
      ]
    },
    {
      "cell_type": "code",
      "metadata": {
        "colab": {
          "base_uri": "https://localhost:8080/"
        },
        "id": "_tNoYl8h6AEl",
        "outputId": "1409c189-159b-4bbb-8e9e-168b39ba943e"
      },
      "source": [
        "df_temp = df_test[(df_test['labels'] == df_test['prediction_ensemble']) & ((df_test['labels'] != df_test['prediction_rnn']) \n",
        "                  | (df_test['labels'] != df_test['prediction_ffnn_pre']) | (df_test['labels'] != df_test['prediction_ffnn']))]\n",
        "len(df_temp)"
      ],
      "execution_count": 26,
      "outputs": [
        {
          "output_type": "execute_result",
          "data": {
            "text/plain": [
              "167"
            ]
          },
          "metadata": {},
          "execution_count": 26
        }
      ]
    },
    {
      "cell_type": "markdown",
      "metadata": {
        "id": "bmSKIyhF6275"
      },
      "source": [
        "#**Misclassified by all the simple model but ensembler predicts correctly = 0**"
      ]
    },
    {
      "cell_type": "code",
      "metadata": {
        "colab": {
          "base_uri": "https://localhost:8080/",
          "height": 615
        },
        "id": "9gLiGZDKaVAS",
        "outputId": "86cacbc9-e82c-400a-b65e-bd65a6b0912d"
      },
      "source": [
        "df_test"
      ],
      "execution_count": 27,
      "outputs": [
        {
          "output_type": "execute_result",
          "data": {
            "text/html": [
              "<div>\n",
              "<style scoped>\n",
              "    .dataframe tbody tr th:only-of-type {\n",
              "        vertical-align: middle;\n",
              "    }\n",
              "\n",
              "    .dataframe tbody tr th {\n",
              "        vertical-align: top;\n",
              "    }\n",
              "\n",
              "    .dataframe thead th {\n",
              "        text-align: right;\n",
              "    }\n",
              "</style>\n",
              "<table border=\"1\" class=\"dataframe\">\n",
              "  <thead>\n",
              "    <tr style=\"text-align: right;\">\n",
              "      <th></th>\n",
              "      <th>Article</th>\n",
              "      <th>Class</th>\n",
              "      <th>labels</th>\n",
              "      <th>text</th>\n",
              "      <th>length</th>\n",
              "      <th>prediction_ffnn</th>\n",
              "      <th>prediction_ffnn_pre</th>\n",
              "      <th>prediction_rnn</th>\n",
              "      <th>prediction_ensemble</th>\n",
              "      <th>weighted_ensemble</th>\n",
              "    </tr>\n",
              "  </thead>\n",
              "  <tbody>\n",
              "    <tr>\n",
              "      <th>0</th>\n",
              "      <td>Tsunami cost hits Jakarta shares\\n\\nThe stock ...</td>\n",
              "      <td>business</td>\n",
              "      <td>0</td>\n",
              "      <td>Tsunami cost hits Jakarta shares stock market ...</td>\n",
              "      <td>168</td>\n",
              "      <td>0</td>\n",
              "      <td>0</td>\n",
              "      <td>3</td>\n",
              "      <td>0</td>\n",
              "      <td>0</td>\n",
              "    </tr>\n",
              "    <tr>\n",
              "      <th>1</th>\n",
              "      <td>Microsoft sets sights on spyware\\n\\nWindows us...</td>\n",
              "      <td>tech</td>\n",
              "      <td>4</td>\n",
              "      <td>Microsoft sets sights spyware Windows users co...</td>\n",
              "      <td>210</td>\n",
              "      <td>4</td>\n",
              "      <td>4</td>\n",
              "      <td>2</td>\n",
              "      <td>4</td>\n",
              "      <td>4</td>\n",
              "    </tr>\n",
              "    <tr>\n",
              "      <th>2</th>\n",
              "      <td>Blair pledges unity to Labour MPs\\n\\nTony Blai...</td>\n",
              "      <td>politics</td>\n",
              "      <td>2</td>\n",
              "      <td>Blair pledges unity Labour MPs Tony Blair soug...</td>\n",
              "      <td>351</td>\n",
              "      <td>2</td>\n",
              "      <td>2</td>\n",
              "      <td>1</td>\n",
              "      <td>2</td>\n",
              "      <td>2</td>\n",
              "    </tr>\n",
              "    <tr>\n",
              "      <th>3</th>\n",
              "      <td>India's Deccan seals $1.8bn deal\\n\\nAir Deccan...</td>\n",
              "      <td>business</td>\n",
              "      <td>0</td>\n",
              "      <td>India Deccan seals 1 8bn deal Air Deccan order...</td>\n",
              "      <td>181</td>\n",
              "      <td>0</td>\n",
              "      <td>0</td>\n",
              "      <td>0</td>\n",
              "      <td>0</td>\n",
              "      <td>0</td>\n",
              "    </tr>\n",
              "    <tr>\n",
              "      <th>4</th>\n",
              "      <td>Blair told to double overseas aid\\n\\nTony Blai...</td>\n",
              "      <td>politics</td>\n",
              "      <td>2</td>\n",
              "      <td>Blair told double overseas aid Tony Blair urge...</td>\n",
              "      <td>277</td>\n",
              "      <td>2</td>\n",
              "      <td>2</td>\n",
              "      <td>0</td>\n",
              "      <td>2</td>\n",
              "      <td>2</td>\n",
              "    </tr>\n",
              "    <tr>\n",
              "      <th>...</th>\n",
              "      <td>...</td>\n",
              "      <td>...</td>\n",
              "      <td>...</td>\n",
              "      <td>...</td>\n",
              "      <td>...</td>\n",
              "      <td>...</td>\n",
              "      <td>...</td>\n",
              "      <td>...</td>\n",
              "      <td>...</td>\n",
              "      <td>...</td>\n",
              "    </tr>\n",
              "    <tr>\n",
              "      <th>377</th>\n",
              "      <td>Crucial decision on super-casinos\\n\\nA decisio...</td>\n",
              "      <td>politics</td>\n",
              "      <td>2</td>\n",
              "      <td>Crucial decision super casinos decision whethe...</td>\n",
              "      <td>108</td>\n",
              "      <td>2</td>\n",
              "      <td>2</td>\n",
              "      <td>2</td>\n",
              "      <td>2</td>\n",
              "      <td>2</td>\n",
              "    </tr>\n",
              "    <tr>\n",
              "      <th>378</th>\n",
              "      <td>Cyber crime booms in 2004\\n\\nThe last 12 month...</td>\n",
              "      <td>tech</td>\n",
              "      <td>4</td>\n",
              "      <td>Cyber crime booms 2004 last 12 months seen dra...</td>\n",
              "      <td>471</td>\n",
              "      <td>4</td>\n",
              "      <td>4</td>\n",
              "      <td>2</td>\n",
              "      <td>4</td>\n",
              "      <td>4</td>\n",
              "    </tr>\n",
              "    <tr>\n",
              "      <th>379</th>\n",
              "      <td>Howard rejects BNP's claim\\n\\nTory leader Mich...</td>\n",
              "      <td>politics</td>\n",
              "      <td>2</td>\n",
              "      <td>Howard rejects BNP claim Tory leader Michael H...</td>\n",
              "      <td>184</td>\n",
              "      <td>2</td>\n",
              "      <td>2</td>\n",
              "      <td>2</td>\n",
              "      <td>2</td>\n",
              "      <td>2</td>\n",
              "    </tr>\n",
              "    <tr>\n",
              "      <th>380</th>\n",
              "      <td>Card fraudsters 'targeting web'\\n\\nNew safegua...</td>\n",
              "      <td>business</td>\n",
              "      <td>0</td>\n",
              "      <td>Card fraudsters targeting web New safeguards c...</td>\n",
              "      <td>248</td>\n",
              "      <td>4</td>\n",
              "      <td>4</td>\n",
              "      <td>2</td>\n",
              "      <td>4</td>\n",
              "      <td>4</td>\n",
              "    </tr>\n",
              "    <tr>\n",
              "      <th>381</th>\n",
              "      <td>Blunkett tells of love and pain\\n\\nDavid Blunk...</td>\n",
              "      <td>politics</td>\n",
              "      <td>2</td>\n",
              "      <td>Blunkett tells love pain David Blunkett spoken...</td>\n",
              "      <td>209</td>\n",
              "      <td>2</td>\n",
              "      <td>2</td>\n",
              "      <td>1</td>\n",
              "      <td>2</td>\n",
              "      <td>2</td>\n",
              "    </tr>\n",
              "  </tbody>\n",
              "</table>\n",
              "<p>382 rows × 10 columns</p>\n",
              "</div>"
            ],
            "text/plain": [
              "                                               Article  ... weighted_ensemble\n",
              "0    Tsunami cost hits Jakarta shares\\n\\nThe stock ...  ...                 0\n",
              "1    Microsoft sets sights on spyware\\n\\nWindows us...  ...                 4\n",
              "2    Blair pledges unity to Labour MPs\\n\\nTony Blai...  ...                 2\n",
              "3    India's Deccan seals $1.8bn deal\\n\\nAir Deccan...  ...                 0\n",
              "4    Blair told to double overseas aid\\n\\nTony Blai...  ...                 2\n",
              "..                                                 ...  ...               ...\n",
              "377  Crucial decision on super-casinos\\n\\nA decisio...  ...                 2\n",
              "378  Cyber crime booms in 2004\\n\\nThe last 12 month...  ...                 4\n",
              "379  Howard rejects BNP's claim\\n\\nTory leader Mich...  ...                 2\n",
              "380  Card fraudsters 'targeting web'\\n\\nNew safegua...  ...                 4\n",
              "381  Blunkett tells of love and pain\\n\\nDavid Blunk...  ...                 2\n",
              "\n",
              "[382 rows x 10 columns]"
            ]
          },
          "metadata": {},
          "execution_count": 27
        }
      ]
    },
    {
      "cell_type": "code",
      "metadata": {
        "id": "QeXvRsR3aQnI"
      },
      "source": [
        "df_test.to_csv(\"Test_Results_Overall.csv\", index = None)"
      ],
      "execution_count": 28,
      "outputs": []
    },
    {
      "cell_type": "code",
      "metadata": {
        "colab": {
          "base_uri": "https://localhost:8080/"
        },
        "id": "yfU5uJqPbe7O",
        "outputId": "7fc12958-6ba9-4396-8d37-5576a7eb583e"
      },
      "source": [
        "accuracy_models"
      ],
      "execution_count": 30,
      "outputs": [
        {
          "output_type": "execute_result",
          "data": {
            "text/plain": [
              "{'Ensemble': 0.9450261780104712,\n",
              " 'FFNN': 0.9424083769633508,\n",
              " 'FFNN_Pre': 0.9607329842931938,\n",
              " 'RNN': 0.5209424083769634,\n",
              " 'Weighted_Ensembler': 0.9554973821989529}"
            ]
          },
          "metadata": {},
          "execution_count": 30
        }
      ]
    }
  ]
}